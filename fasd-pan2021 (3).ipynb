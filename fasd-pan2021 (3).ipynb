{
 "cells": [
  {
   "cell_type": "code",
   "execution_count": null,
   "metadata": {
    "_cell_guid": "b1076dfc-b9ad-4769-8c92-a6c4dae69d19",
    "_uuid": "8f2839f25d086af736a60e9eeb907d3b93b6e0e5",
    "execution": {
     "iopub.execute_input": "2021-07-22T05:00:35.498366Z",
     "iopub.status.busy": "2021-07-22T05:00:35.498111Z",
     "iopub.status.idle": "2021-07-22T05:00:35.832848Z",
     "shell.execute_reply": "2021-07-22T05:00:35.831994Z",
     "shell.execute_reply.started": "2021-07-22T05:00:35.498341Z"
    },
    "papermill": {
     "duration": 0.081835,
     "end_time": "2021-07-23T14:42:02.047978",
     "exception": false,
     "start_time": "2021-07-23T14:42:01.966143",
     "status": "completed"
    },
    "tags": []
   },
   "outputs": [],
   "source": []
  },
  {
   "cell_type": "markdown",
   "metadata": {
    "papermill": {
     "duration": 0.065554,
     "end_time": "2021-07-23T14:42:02.186337",
     "exception": false,
     "start_time": "2021-07-23T14:42:02.120783",
     "status": "completed"
    },
    "tags": []
   },
   "source": [
    "# English"
   ]
  },
  {
   "cell_type": "markdown",
   "metadata": {
    "papermill": {
     "duration": 0.062545,
     "end_time": "2021-07-23T14:42:02.313408",
     "exception": false,
     "start_time": "2021-07-23T14:42:02.250863",
     "status": "completed"
    },
    "tags": []
   },
   "source": [
    "**required libraries to be installed**"
   ]
  },
  {
   "cell_type": "code",
   "execution_count": 1,
   "metadata": {
    "execution": {
     "iopub.execute_input": "2021-07-23T14:42:02.458578Z",
     "iopub.status.busy": "2021-07-23T14:42:02.458025Z",
     "iopub.status.idle": "2021-07-23T14:42:37.927539Z",
     "shell.execute_reply": "2021-07-23T14:42:37.928443Z",
     "shell.execute_reply.started": "2021-07-23T09:15:41.673523Z"
    },
    "papermill": {
     "duration": 35.551201,
     "end_time": "2021-07-23T14:42:37.928791",
     "exception": false,
     "start_time": "2021-07-23T14:42:02.377590",
     "status": "completed"
    },
    "tags": []
   },
   "outputs": [
    {
     "name": "stdout",
     "output_type": "stream",
     "text": [
      "Cloning into 'syllabalizer'...\r\n",
      "remote: Enumerating objects: 186, done.\u001b[K\r\n",
      "remote: Total 186 (delta 0), reused 0 (delta 0), pack-reused 186\u001b[K\r\n",
      "Receiving objects: 100% (186/186), 41.35 KiB | 384.00 KiB/s, done.\r\n",
      "Resolving deltas: 100% (65/65), done.\r\n",
      "running sdist\r\n",
      "[pbr] Writing ChangeLog\r\n",
      "[pbr] Generating ChangeLog\r\n",
      "[pbr] ChangeLog complete (0.0s)\r\n",
      "[pbr] Generating AUTHORS\r\n",
      "[pbr] AUTHORS complete (0.0s)\r\n",
      "running egg_info\r\n",
      "creating libindic_syllabifier.egg-info\r\n",
      "writing libindic_syllabifier.egg-info/PKG-INFO\r\n",
      "writing dependency_links to libindic_syllabifier.egg-info/dependency_links.txt\r\n",
      "writing namespace_packages to libindic_syllabifier.egg-info/namespace_packages.txt\r\n",
      "writing requirements to libindic_syllabifier.egg-info/requires.txt\r\n",
      "writing top-level names to libindic_syllabifier.egg-info/top_level.txt\r\n",
      "writing pbr to libindic_syllabifier.egg-info/pbr.json\r\n",
      "[pbr] Processing SOURCES.txt\r\n",
      "writing manifest file 'libindic_syllabifier.egg-info/SOURCES.txt'\r\n",
      "package init file 'libindic/__init__.py' not found (or not a regular file)\r\n",
      "[pbr] In git context, generating filelist from git\r\n",
      "warning: no previously-included files found matching '.gitreview'\r\n",
      "warning: no previously-included files matching '*.pyc' found anywhere in distribution\r\n",
      "writing manifest file 'libindic_syllabifier.egg-info/SOURCES.txt'\r\n",
      "[pbr] reno was not found or is too old. Skipping release notes\r\n",
      "running check\r\n",
      "creating libindic-syllabifier-0.0.1.dev28\r\n",
      "creating libindic-syllabifier-0.0.1.dev28/docs\r\n",
      "creating libindic-syllabifier-0.0.1.dev28/docs/_themes\r\n",
      "creating libindic-syllabifier-0.0.1.dev28/docs/_themes/kr\r\n",
      "creating libindic-syllabifier-0.0.1.dev28/docs/_themes/kr/static\r\n",
      "creating libindic-syllabifier-0.0.1.dev28/docs/_themes/kr_small\r\n",
      "creating libindic-syllabifier-0.0.1.dev28/docs/_themes/kr_small/static\r\n",
      "creating libindic-syllabifier-0.0.1.dev28/libindic\r\n",
      "creating libindic-syllabifier-0.0.1.dev28/libindic/syllabifier\r\n",
      "creating libindic-syllabifier-0.0.1.dev28/libindic/syllabifier/templates\r\n",
      "creating libindic-syllabifier-0.0.1.dev28/libindic/syllabifier/tests\r\n",
      "creating libindic-syllabifier-0.0.1.dev28/libindic_syllabifier.egg-info\r\n",
      "creating libindic-syllabifier-0.0.1.dev28/tests\r\n",
      "copying files to libindic-syllabifier-0.0.1.dev28...\r\n",
      "copying .testr.conf -> libindic-syllabifier-0.0.1.dev28\r\n",
      "copying .travis.yml -> libindic-syllabifier-0.0.1.dev28\r\n",
      "copying AUTHORS -> libindic-syllabifier-0.0.1.dev28\r\n",
      "copying ChangeLog -> libindic-syllabifier-0.0.1.dev28\r\n",
      "copying Makefile -> libindic-syllabifier-0.0.1.dev28\r\n",
      "copying README.md -> libindic-syllabifier-0.0.1.dev28\r\n",
      "copying circle.yml -> libindic-syllabifier-0.0.1.dev28\r\n",
      "copying requirements.txt -> libindic-syllabifier-0.0.1.dev28\r\n",
      "copying setup.cfg -> libindic-syllabifier-0.0.1.dev28\r\n",
      "copying setup.py -> libindic-syllabifier-0.0.1.dev28\r\n",
      "copying test-requirements.txt -> libindic-syllabifier-0.0.1.dev28\r\n",
      "copying tox.ini -> libindic-syllabifier-0.0.1.dev28\r\n",
      "copying docs/Makefile -> libindic-syllabifier-0.0.1.dev28/docs\r\n",
      "copying docs/conf.py -> libindic-syllabifier-0.0.1.dev28/docs\r\n",
      "copying docs/index.rst -> libindic-syllabifier-0.0.1.dev28/docs\r\n",
      "copying docs/make.bat -> libindic-syllabifier-0.0.1.dev28/docs\r\n",
      "copying docs/_themes/LICENSE -> libindic-syllabifier-0.0.1.dev28/docs/_themes\r\n",
      "copying docs/_themes/README.rst -> libindic-syllabifier-0.0.1.dev28/docs/_themes\r\n",
      "copying docs/_themes/flask_theme_support.py -> libindic-syllabifier-0.0.1.dev28/docs/_themes\r\n",
      "copying docs/_themes/kr/layout.html -> libindic-syllabifier-0.0.1.dev28/docs/_themes/kr\r\n",
      "copying docs/_themes/kr/relations.html -> libindic-syllabifier-0.0.1.dev28/docs/_themes/kr\r\n",
      "copying docs/_themes/kr/theme.conf -> libindic-syllabifier-0.0.1.dev28/docs/_themes/kr\r\n",
      "copying docs/_themes/kr/static/flasky.css_t -> libindic-syllabifier-0.0.1.dev28/docs/_themes/kr/static\r\n",
      "copying docs/_themes/kr/static/small_flask.css -> libindic-syllabifier-0.0.1.dev28/docs/_themes/kr/static\r\n",
      "copying docs/_themes/kr_small/layout.html -> libindic-syllabifier-0.0.1.dev28/docs/_themes/kr_small\r\n",
      "copying docs/_themes/kr_small/theme.conf -> libindic-syllabifier-0.0.1.dev28/docs/_themes/kr_small\r\n",
      "copying docs/_themes/kr_small/static/flasky.css_t -> libindic-syllabifier-0.0.1.dev28/docs/_themes/kr_small/static\r\n",
      "copying libindic/syllabifier/__init__.py -> libindic-syllabifier-0.0.1.dev28/libindic/syllabifier\r\n",
      "copying libindic/syllabifier/core.py -> libindic-syllabifier-0.0.1.dev28/libindic/syllabifier\r\n",
      "copying libindic/syllabifier/templates/libindic.syllabifier.html -> libindic-syllabifier-0.0.1.dev28/libindic/syllabifier/templates\r\n",
      "copying libindic/syllabifier/tests/__init__.py -> libindic-syllabifier-0.0.1.dev28/libindic/syllabifier/tests\r\n",
      "copying libindic/syllabifier/tests/test_indicsyllabifier.py -> libindic-syllabifier-0.0.1.dev28/libindic/syllabifier/tests\r\n",
      "copying libindic_syllabifier.egg-info/PKG-INFO -> libindic-syllabifier-0.0.1.dev28/libindic_syllabifier.egg-info\r\n",
      "copying libindic_syllabifier.egg-info/SOURCES.txt -> libindic-syllabifier-0.0.1.dev28/libindic_syllabifier.egg-info\r\n",
      "copying libindic_syllabifier.egg-info/dependency_links.txt -> libindic-syllabifier-0.0.1.dev28/libindic_syllabifier.egg-info\r\n",
      "copying libindic_syllabifier.egg-info/namespace_packages.txt -> libindic-syllabifier-0.0.1.dev28/libindic_syllabifier.egg-info\r\n",
      "copying libindic_syllabifier.egg-info/not-zip-safe -> libindic-syllabifier-0.0.1.dev28/libindic_syllabifier.egg-info\r\n",
      "copying libindic_syllabifier.egg-info/pbr.json -> libindic-syllabifier-0.0.1.dev28/libindic_syllabifier.egg-info\r\n",
      "copying libindic_syllabifier.egg-info/requires.txt -> libindic-syllabifier-0.0.1.dev28/libindic_syllabifier.egg-info\r\n",
      "copying libindic_syllabifier.egg-info/top_level.txt -> libindic-syllabifier-0.0.1.dev28/libindic_syllabifier.egg-info\r\n",
      "copying tests/__init__.py -> libindic-syllabifier-0.0.1.dev28/tests\r\n",
      "copying tests/indcsyllabifier_test.py -> libindic-syllabifier-0.0.1.dev28/tests\r\n",
      "Writing libindic-syllabifier-0.0.1.dev28/setup.cfg\r\n",
      "creating dist\r\n",
      "Creating tar archive\r\n",
      "removing 'libindic-syllabifier-0.0.1.dev28' (and everything under it)\r\n",
      "/kaggle/working\n",
      "Collecting libindic.utils\r\n",
      "  Downloading libindic-utils-1.0.3.tar.gz (10 kB)\r\n",
      "Building wheels for collected packages: libindic.utils\r\n",
      "  Building wheel for libindic.utils (setup.py) ... \u001b[?25l-\b \b\\\b \bdone\r\n",
      "\u001b[?25h  Created wheel for libindic.utils: filename=libindic_utils-1.0.3-py3-none-any.whl size=9684 sha256=90ef545ced4b4fdc379109c1fd960033bacc08f89fd7e08e842dc6b90fcbe231\r\n",
      "  Stored in directory: /root/.cache/pip/wheels/1f/f3/27/b98e7ff4962011810621c83fcf41368e39ce2eb320d74f837c\r\n",
      "Successfully built libindic.utils\r\n",
      "Installing collected packages: libindic.utils\r\n",
      "Successfully installed libindic.utils-1.0.3\r\n",
      "\u001b[33mWARNING: Running pip as root will break packages and permissions. You should install packages reliably by using venv: https://pip.pypa.io/warnings/venv\u001b[0m\r\n",
      "Processing ./syllabalizer/dist/libindic-syllabifier-0.0.1.dev28.tar.gz\r\n",
      "Collecting silpa_common\r\n",
      "  Downloading silpa_common-0.3.tar.gz (9.4 kB)\r\n",
      "Building wheels for collected packages: libindic-syllabifier, silpa-common\r\n",
      "  Building wheel for libindic-syllabifier (setup.py) ... \u001b[?25l-\b \b\\\b \bdone\r\n",
      "\u001b[?25h  Created wheel for libindic-syllabifier: filename=libindic_syllabifier-0.0.1.dev28-py2.py3-none-any.whl size=8124 sha256=0c6f77007325b6c6f38cdff4ed972e592dff0979490eea277546d3b898193293\r\n",
      "  Stored in directory: /root/.cache/pip/wheels/67/60/06/bc8237a0cb9da2ef0933083540bb1b79101c7b0a2b3b697157\r\n",
      "  Building wheel for silpa-common (setup.py) ... \u001b[?25l-\b \b\\\b \bdone\r\n",
      "\u001b[?25h  Created wheel for silpa-common: filename=silpa_common-0.3-py3-none-any.whl size=8468 sha256=1fedca5fd2593b35569647e12df177510bfbece4d78bef207148a3d8f00c121a\r\n",
      "  Stored in directory: /root/.cache/pip/wheels/02/81/11/40ef1cf40f5c4021a214653ca3362914f0f9e14e8322f75f9b\r\n",
      "Successfully built libindic-syllabifier silpa-common\r\n",
      "Installing collected packages: silpa-common, libindic-syllabifier\r\n",
      "Successfully installed libindic-syllabifier-0.0.1.dev28 silpa-common-0.3\r\n",
      "\u001b[33mWARNING: Running pip as root will break packages and permissions. You should install packages reliably by using venv: https://pip.pypa.io/warnings/venv\u001b[0m\r\n",
      "Collecting SNgramExtractor\r\n",
      "  Downloading SNgramExtractor-0.0.3-py3-none-any.whl (5.0 kB)\r\n",
      "Requirement already satisfied: spacy in /opt/conda/lib/python3.7/site-packages (from SNgramExtractor) (2.3.7)\r\n",
      "Requirement already satisfied: cymem<2.1.0,>=2.0.2 in /opt/conda/lib/python3.7/site-packages (from spacy->SNgramExtractor) (2.0.5)\r\n",
      "Requirement already satisfied: requests<3.0.0,>=2.13.0 in /opt/conda/lib/python3.7/site-packages (from spacy->SNgramExtractor) (2.25.1)\r\n",
      "Requirement already satisfied: numpy>=1.15.0 in /opt/conda/lib/python3.7/site-packages (from spacy->SNgramExtractor) (1.19.5)\r\n",
      "Requirement already satisfied: thinc<7.5.0,>=7.4.1 in /opt/conda/lib/python3.7/site-packages (from spacy->SNgramExtractor) (7.4.5)\r\n",
      "Requirement already satisfied: plac<1.2.0,>=0.9.6 in /opt/conda/lib/python3.7/site-packages (from spacy->SNgramExtractor) (1.1.3)\r\n",
      "Requirement already satisfied: tqdm<5.0.0,>=4.38.0 in /opt/conda/lib/python3.7/site-packages (from spacy->SNgramExtractor) (4.61.1)\r\n",
      "Requirement already satisfied: preshed<3.1.0,>=3.0.2 in /opt/conda/lib/python3.7/site-packages (from spacy->SNgramExtractor) (3.0.5)\r\n",
      "Requirement already satisfied: blis<0.8.0,>=0.4.0 in /opt/conda/lib/python3.7/site-packages (from spacy->SNgramExtractor) (0.7.4)\r\n",
      "Requirement already satisfied: catalogue<1.1.0,>=0.0.7 in /opt/conda/lib/python3.7/site-packages (from spacy->SNgramExtractor) (1.0.0)\r\n",
      "Requirement already satisfied: srsly<1.1.0,>=1.0.2 in /opt/conda/lib/python3.7/site-packages (from spacy->SNgramExtractor) (1.0.5)\r\n",
      "Requirement already satisfied: wasabi<1.1.0,>=0.4.0 in /opt/conda/lib/python3.7/site-packages (from spacy->SNgramExtractor) (0.8.2)\r\n",
      "Requirement already satisfied: murmurhash<1.1.0,>=0.28.0 in /opt/conda/lib/python3.7/site-packages (from spacy->SNgramExtractor) (1.0.5)\r\n",
      "Requirement already satisfied: setuptools in /opt/conda/lib/python3.7/site-packages (from spacy->SNgramExtractor) (49.6.0.post20210108)\r\n",
      "Requirement already satisfied: importlib-metadata>=0.20 in /opt/conda/lib/python3.7/site-packages (from catalogue<1.1.0,>=0.0.7->spacy->SNgramExtractor) (3.4.0)\r\n",
      "Requirement already satisfied: typing-extensions>=3.6.4 in /opt/conda/lib/python3.7/site-packages (from importlib-metadata>=0.20->catalogue<1.1.0,>=0.0.7->spacy->SNgramExtractor) (3.7.4.3)\r\n",
      "Requirement already satisfied: zipp>=0.5 in /opt/conda/lib/python3.7/site-packages (from importlib-metadata>=0.20->catalogue<1.1.0,>=0.0.7->spacy->SNgramExtractor) (3.4.1)\r\n",
      "Requirement already satisfied: certifi>=2017.4.17 in /opt/conda/lib/python3.7/site-packages (from requests<3.0.0,>=2.13.0->spacy->SNgramExtractor) (2021.5.30)\r\n",
      "Requirement already satisfied: urllib3<1.27,>=1.21.1 in /opt/conda/lib/python3.7/site-packages (from requests<3.0.0,>=2.13.0->spacy->SNgramExtractor) (1.26.5)\r\n",
      "Requirement already satisfied: idna<3,>=2.5 in /opt/conda/lib/python3.7/site-packages (from requests<3.0.0,>=2.13.0->spacy->SNgramExtractor) (2.10)\r\n",
      "Requirement already satisfied: chardet<5,>=3.0.2 in /opt/conda/lib/python3.7/site-packages (from requests<3.0.0,>=2.13.0->spacy->SNgramExtractor) (4.0.0)\r\n",
      "\u001b[33mWARNING: spacy 2.3.7 does not provide the extra 'en_core_news_md'\u001b[0m\r\n",
      "Installing collected packages: SNgramExtractor\r\n",
      "Successfully installed SNgramExtractor-0.0.3\r\n",
      "\u001b[33mWARNING: Running pip as root will break packages and permissions. You should install packages reliably by using venv: https://pip.pypa.io/warnings/venv\u001b[0m\r\n"
     ]
    }
   ],
   "source": [
    "#libraries for syllables\n",
    "!git clone https://github.com/libindic/syllabalizer.git\n",
    "import os\n",
    "os.chdir('syllabalizer')\n",
    "!python setup.py sdist\n",
    "%cd ../\n",
    "!pip install libindic.utils\n",
    "!pip install './syllabalizer/dist/libindic-syllabifier-0.0.1.dev28.tar.gz'\n",
    "\n",
    "#for sngrams\n",
    "!pip install SNgramExtractor\n",
    "\n"
   ]
  },
  {
   "cell_type": "code",
   "execution_count": 2,
   "metadata": {
    "execution": {
     "iopub.execute_input": "2021-07-23T14:42:38.096934Z",
     "iopub.status.busy": "2021-07-23T14:42:38.096383Z",
     "iopub.status.idle": "2021-07-23T14:45:23.540462Z",
     "shell.execute_reply": "2021-07-23T14:45:23.541150Z",
     "shell.execute_reply.started": "2021-07-23T09:25:05.072683Z"
    },
    "papermill": {
     "duration": 165.531395,
     "end_time": "2021-07-23T14:45:23.541446",
     "exception": false,
     "start_time": "2021-07-23T14:42:38.010051",
     "status": "completed"
    },
    "tags": []
   },
   "outputs": [
    {
     "name": "stdout",
     "output_type": "stream",
     "text": [
      "Collecting package metadata (current_repodata.json): - \b\b\\ \b\b| \b\b/ \b\b- \b\b\\ \b\b| \b\b/ \b\b- \b\b\\ \b\b| \b\b/ \b\b- \b\b\\ \b\b| \b\b/ \b\b- \b\b\\ \b\b| \b\b/ \b\b- \b\b\\ \b\b| \b\b/ \b\b- \b\b\\ \b\b| \b\b/ \b\b- \b\b\\ \b\b| \b\b/ \b\b- \b\b\\ \b\b| \b\b/ \b\b- \b\b\\ \b\b| \b\b/ \b\b- \b\b\\ \b\b| \b\b/ \b\b- \b\b\\ \b\b| \b\b/ \b\b- \b\b\\ \b\b| \b\b/ \b\b- \b\b\\ \b\b| \b\b/ \b\b- \b\b\\ \b\b| \b\b/ \b\b- \b\b\\ \b\b| \b\b/ \b\b- \b\b\\ \b\b| \b\b/ \b\b- \b\b\\ \b\b| \b\b/ \b\b- \b\b\\ \b\b| \b\b/ \b\b- \b\b\\ \b\b| \b\b/ \b\b- \b\b\\ \b\b| \b\b/ \b\b- \b\b\\ \b\b| \b\b/ \b\b- \b\b\\ \b\b| \b\b/ \b\b- \b\b\\ \b\b| \b\b/ \b\b- \b\b\\ \b\b| \b\b/ \b\b- \b\b\\ \b\b| \b\b/ \b\b- \b\b\\ \b\b| \b\b/ \b\b- \b\b\\ \b\b| \b\b/ \b\b- \b\b\\ \b\b| \b\b/ \b\b- \b\b\\ \b\b| \b\b/ \b\b- \b\b\\ \b\b| \b\b/ \b\b- \b\b\\ \b\b| \b\b/ \b\b- \b\b\\ \b\b| \b\b/ \b\b- \b\b\\ \b\b| \b\b/ \b\b- \b\b\\ \b\b| \b\b/ \b\b- \b\b\\ \b\b| \b\bdone\r\n",
      "Solving environment: - \b\b\\ \b\b| \b\b/ \b\b- \b\b\\ \b\b| \b\b/ \b\b- \b\b\\ \b\b| \b\b/ \b\b- \b\b\\ \b\b| \b\b/ \b\b- \b\b\\ \b\b| \b\b/ \b\b- \b\b\\ \b\b| \b\b/ \b\b- \b\b\\ \b\b| \b\b/ \b\b- \b\b\\ \b\b| \b\b/ \b\b- \b\b\\ \b\b| \b\b/ \b\b- \b\b\\ \b\b| \b\b/ \b\b- \b\b\\ \b\b| \b\b/ \b\b- \b\b\\ \b\b| \b\b/ \b\b- \b\b\\ \b\b| \b\b/ \b\b- \b\b\\ \b\b| \b\b/ \b\b- \b\b\\ \b\b| \b\b/ \b\b- \b\b\\ \b\b| \b\b/ \b\b- \b\b\\ \b\b| \b\b/ \b\b- \b\b\\ \b\b| \b\b/ \b\b- \b\b\\ \b\b| \b\b/ \b\b- \b\b\\ \b\b| \b\b/ \b\b- \b\b\\ \b\b| \b\b/ \b\b- \b\b\\ \b\b| \b\b/ \b\b- \b\b\\ \b\b| \b\b/ \b\b- \b\b\\ \b\b| \b\b/ \b\b- \b\b\\ \b\b| \b\b/ \b\b- \b\b\\ \b\b| \b\b/ \b\b- \b\b\\ \b\b| \b\b/ \b\b- \b\b\\ \b\b| \b\b/ \b\b- \b\b\\ \b\b| \b\b/ \b\b- \b\b\\ \b\b| \b\b/ \b\b- \b\b\\ \b\b| \b\b/ \b\b- \b\b\\ \b\b| \b\b/ \b\b- \b\b\\ \b\b| \b\b/ \b\b- \b\b\\ \b\b| \b\b/ \b\b- \b\b\\ \b\b| \b\b/ \b\b- \b\b\\ \b\b| \b\b/ \b\b- \b\b\\ \b\b| \b\b/ \b\b- \b\b\\ \b\b| \b\b/ \b\b- \b\b\\ \b\b| \b\b/ \b\b- \b\b\\ \b\b| \b\b/ \b\b- \b\b\\ \b\b| \b\b/ \b\b- \b\b\\ \b\b| \b\b/ \b\b- \b\b\\ \b\b| \b\b/ \b\b- \b\b\\ \b\b| \b\b/ \b\b- \b\b\\ \b\b| \b\b/ \b\b- \b\b\\ \b\b| \b\b/ \b\b- \b\b\\ \b\b| \b\b/ \b\b- \b\b\\ \b\b| \b\b/ \b\b- \b\b\\ \b\b| \b\b/ \b\b- \b\b\\ \b\b| \b\b/ \b\b- \b\b\\ \b\b| \b\b/ \b\b- \b\b\\ \b\b| \b\b/ \b\b- \b\b\\ \b\b| \b\b/ \b\b- \b\b\\ \b\b| \b\b/ \b\b- \b\b\\ \b\b| \b\b/ \b\b- \b\b\\ \b\b| \b\b/ \b\b- \b\b\\ \b\b| \b\b/ \b\b- \b\b\\ \b\b| \b\b/ \b\b- \b\b\\ \b\b| \b\b/ \b\b- \b\b\\ \b\b| \b\b/ \b\b- \b\b\\ \b\b| \b\b/ \b\b- \b\b\\ \b\b| \b\b/ \b\b- \b\b\\ \b\b| \b\b/ \b\b- \b\b\\ \b\b| \b\b/ \b\b- \b\b\\ \b\b| \b\b/ \b\b- \b\b\\ \b\b| \b\b/ \b\b- \b\b\\ \b\b| \b\b/ \b\b- \b\b\\ \b\b| \b\b/ \b\b- \b\b\\ \b\b| \b\b/ \b\b- \b\b\\ \b\b| \b\b/ \b\b- \b\b\\ \b\b| \b\b/ \b\b- \b\b\\ \b\b| \b\b/ \b\b- \b\b\\ \b\b| \b\b/ \b\b- \b\b\\ \b\b| \b\b/ \b\b- \b\b\\ \b\b| \b\b/ \b\b- \b\b\\ \b\b| \b\b/ \b\b- \b\b\\ \b\b| \b\b/ \b\b- \b\b\\ \b\b| \b\b/ \b\b- \b\b\\ \b\b| \b\b/ \b\b- \b\b\\ \b\b| \b\b/ \b\b- \b\b\\ \b\b| \b\b/ \b\b- \b\b\\ \b\b| \b\b/ \b\b- \b\b\\ \b\b| \b\b/ \b\b- \b\b\\ \b\b| \b\b/ \b\b- \b\b\\ \b\b| \b\b/ \b\b- \b\b\\ \b\b| \b\b/ \b\b- \b\b\\ \b\b| \b\b/ \b\b- \b\b\\ \b\b| \b\b/ \b\b- \b\b\\ \b\b| \b\b/ \b\b- \b\b\\ \b\b| \b\b/ \b\b- \b\b\\ \b\b| \b\b/ \b\b- \b\b\\ \b\b| \b\b/ \b\b- \b\b\\ \b\b| \b\b/ \b\b- \b\b\\ \b\b| \b\b/ \b\b- \b\b\\ \b\b| \b\b/ \b\b- \b\b\\ \b\b| \b\b/ \b\b- \b\b\\ \b\b| \b\b/ \b\b- \b\b\\ \b\b| \b\b/ \b\b- \b\b\\ \b\b| \b\b/ \b\b- \b\b\\ \b\b| \b\b/ \b\b- \b\b\\ \b\b| \b\b/ \b\b- \b\b\\ \b\b| \b\b/ \b\b- \b\b\\ \b\b| \b\b/ \b\b- \b\b\\ \b\b| \b\b/ \b\b- \b\b\\ \b\b| \b\b/ \b\b- \b\b\\ \b\b| \b\b/ \b\b- \b\b\\ \b\b| \b\b/ \b\b- \b\b\\ \b\b| \b\b/ \b\b- \b\b\\ \b\b| \b\b/ \b\b- \b\b\\ \b\b| \b\b/ \b\b- \b\b\\ \b\b| \b\b/ \b\b- \b\b\\ \b\b| \b\b/ \b\b- \b\b\\ \b\b| \b\b/ \b\b- \b\b\\ \b\b| \b\b/ \b\b- \b\b\\ \b\b| \b\b/ \b\b- \b\b\\ \b\b| \b\b/ \b\b- \b\b\\ \b\b| \b\b/ \b\b- \b\b\\ \b\b| \b\b/ \b\b- \b\b\\ \b\b| \b\b/ \b\b- \b\b\\ \b\b| \b\b/ \b\b- \b\b\\ \b\b| \b\b/ \b\b- \b\b\\ \b\b| \b\b/ \b\b- \b\b\\ \b\b| \b\b/ \b\b- \b\b\\ \b\b| \b\b/ \b\b- \b\b\\ \b\b| \b\b/ \b\b- \b\b\\ \b\b| \b\b/ \b\b- \b\b\\ \b\b| \b\b/ \b\b- \b\b\\ \b\b| \b\b/ \b\b- \b\b\\ \b\b| \b\b/ \b\b- \b\b\\ \b\b| \b\b/ \b\b- \b\b\\ \b\b| \b\b/ \b\b- \b\b\\ \b\b| \b\b/ \b\b- \b\b\\ \b\b| \b\b/ \b\b- \b\b\\ \b\b| \b\b/ \b\b- \b\b\\ \b\b| \b\b/ \b\b- \b\b\\ \b\b| \b\b/ \b\b- \b\b\\ \b\b| \b\b/ \b\b- \b\b\\ \b\b| \b\b/ \b\b- \b\b\\ \b\b| \b\b/ \b\b- \b\b\\ \b\b| \b\b/ \b\b- \b\b\\ \b\b| \b\b/ \b\b- \b\b\\ \b\b| \b\b/ \b\b- \b\b\\ \b\b| \b\b/ \b\b- \b\b\\ \b\b| \b\b/ \b\b- \b\b\\ \b\b| \b\b/ \b\b- \b\b\\ \b\b| \b\b/ \b\b- \b\b\\ \b\b| \b\b/ \b\b- \b\b\\ \b\b| \b\b/ \b\b- \b\b\\ \b\b| \b\b/ \b\b- \b\b\\ \b\b| \b\b/ \b\b- \b\b\\ \b\b| \b\b/ \b\b- \b\b\\ \b\b| \b\b/ \b\b- \b\b\\ \b\b| \b\b/ \b\b- \b\bdone\r\n",
      "\r\n",
      "\r\n",
      "==> WARNING: A newer version of conda exists. <==\r\n",
      "  current version: 4.9.2\r\n",
      "  latest version: 4.10.3\r\n",
      "\r\n",
      "Please update conda by running\r\n",
      "\r\n",
      "    $ conda update -n base conda\r\n",
      "\r\n",
      "\r\n",
      "\r\n",
      "## Package Plan ##\r\n",
      "\r\n",
      "  environment location: /opt/conda\r\n",
      "\r\n",
      "  added / updated specs:\r\n",
      "    - rpy2\r\n",
      "\r\n",
      "\r\n",
      "The following packages will be downloaded:\r\n",
      "\r\n",
      "    package                    |            build\r\n",
      "    ---------------------------|-----------------\r\n",
      "    _r-mutex-1.0.1             |      anacondar_1           3 KB  conda-forge\r\n",
      "    binutils_impl_linux-64-2.36.1|       h193b22a_1         9.7 MB  conda-forge\r\n",
      "    binutils_linux-64-2.36     |      hf3e587d_32          22 KB  conda-forge\r\n",
      "    bwidget-1.9.14             |       ha770c72_0         119 KB  conda-forge\r\n",
      "    gcc_impl_linux-64-9.3.0    |      hda68d29_13        47.8 MB  conda-forge\r\n",
      "    gcc_linux-64-9.3.0         |      hf25ea35_32          23 KB  conda-forge\r\n",
      "    gfortran_impl_linux-64-9.3.0|      hc4a2995_19        10.1 MB  conda-forge\r\n",
      "    gfortran_linux-64-9.3.0    |      hdc58fab_32          23 KB  conda-forge\r\n",
      "    gsl-2.6                    |       he838d99_2         3.2 MB  conda-forge\r\n",
      "    gxx_impl_linux-64-9.3.0    |      h64c220c_13        25.0 MB  conda-forge\r\n",
      "    gxx_linux-64-9.3.0         |      h3fbe746_32          23 KB  conda-forge\r\n",
      "    kernel-headers_linux-64-2.6.32|      he073ed8_14         708 KB  conda-forge\r\n",
      "    ld_impl_linux-64-2.36.1    |       hea4e1c9_1         668 KB  conda-forge\r\n",
      "    make-4.3                   |       hd18ef5c_1         507 KB  conda-forge\r\n",
      "    pcre2-10.36                |       h032f7d1_1         1.1 MB  conda-forge\r\n",
      "    r-base-4.0.5               |       h8cab1ac_0        23.7 MB  conda-forge\r\n",
      "    rpy2-3.4.5                 |py37r40h6f94858_0         376 KB  conda-forge\r\n",
      "    sed-4.8                    |       he412f7d_0         264 KB  conda-forge\r\n",
      "    simplegeneric-0.8.1        |             py_1           7 KB  conda-forge\r\n",
      "    sysroot_linux-64-2.12      |      he073ed8_14        31.6 MB  conda-forge\r\n",
      "    tktable-2.10               |       hb7b940f_3          89 KB  conda-forge\r\n",
      "    tzlocal-2.1                |     pyh9f0ad1d_0          18 KB  conda-forge\r\n",
      "    ------------------------------------------------------------\r\n",
      "                                           Total:       155.0 MB\r\n",
      "\r\n",
      "The following NEW packages will be INSTALLED:\r\n",
      "\r\n",
      "  _r-mutex           conda-forge/noarch::_r-mutex-1.0.1-anacondar_1\r\n",
      "  binutils_impl_lin~ conda-forge/linux-64::binutils_impl_linux-64-2.36.1-h193b22a_1\r\n",
      "  binutils_linux-64  conda-forge/linux-64::binutils_linux-64-2.36-hf3e587d_32\r\n",
      "  bwidget            conda-forge/linux-64::bwidget-1.9.14-ha770c72_0\r\n",
      "  gcc_impl_linux-64  conda-forge/linux-64::gcc_impl_linux-64-9.3.0-hda68d29_13\r\n",
      "  gcc_linux-64       conda-forge/linux-64::gcc_linux-64-9.3.0-hf25ea35_32\r\n",
      "  gfortran_impl_lin~ conda-forge/linux-64::gfortran_impl_linux-64-9.3.0-hc4a2995_19\r\n",
      "  gfortran_linux-64  conda-forge/linux-64::gfortran_linux-64-9.3.0-hdc58fab_32\r\n",
      "  gsl                conda-forge/linux-64::gsl-2.6-he838d99_2\r\n",
      "  gxx_impl_linux-64  conda-forge/linux-64::gxx_impl_linux-64-9.3.0-h64c220c_13\r\n",
      "  gxx_linux-64       conda-forge/linux-64::gxx_linux-64-9.3.0-h3fbe746_32\r\n",
      "  kernel-headers_li~ conda-forge/noarch::kernel-headers_linux-64-2.6.32-he073ed8_14\r\n",
      "  make               conda-forge/linux-64::make-4.3-hd18ef5c_1\r\n",
      "  pcre2              conda-forge/linux-64::pcre2-10.36-h032f7d1_1\r\n",
      "  r-base             conda-forge/linux-64::r-base-4.0.5-h8cab1ac_0\r\n",
      "  rpy2               conda-forge/linux-64::rpy2-3.4.5-py37r40h6f94858_0\r\n",
      "  sed                conda-forge/linux-64::sed-4.8-he412f7d_0\r\n",
      "  simplegeneric      conda-forge/noarch::simplegeneric-0.8.1-py_1\r\n",
      "  sysroot_linux-64   conda-forge/noarch::sysroot_linux-64-2.12-he073ed8_14\r\n",
      "  tktable            conda-forge/linux-64::tktable-2.10-hb7b940f_3\r\n",
      "  tzlocal            conda-forge/noarch::tzlocal-2.1-pyh9f0ad1d_0\r\n",
      "\r\n",
      "The following packages will be UPDATED:\r\n",
      "\r\n",
      "  ld_impl_linux-64                        2.35.1-hea4e1c9_2 --> 2.36.1-hea4e1c9_1\r\n",
      "\r\n",
      "\r\n",
      "\r\n",
      "Downloading and Extracting Packages\r\n",
      "make-4.3             | 507 KB    | ##################################### | 100% \r\n",
      "tzlocal-2.1          | 18 KB     | ##################################### | 100% \r\n",
      "simplegeneric-0.8.1  | 7 KB      | ##################################### | 100% \r\n",
      "gfortran_linux-64-9. | 23 KB     | ##################################### | 100% \r\n",
      "rpy2-3.4.5           | 376 KB    | ##################################### | 100% \r\n",
      "gcc_linux-64-9.3.0   | 23 KB     | ##################################### | 100% \r\n",
      "bwidget-1.9.14       | 119 KB    | ##################################### | 100% \r\n",
      "_r-mutex-1.0.1       | 3 KB      | ##################################### | 100% \r\n",
      "gxx_linux-64-9.3.0   | 23 KB     | ##################################### | 100% \r\n",
      "sysroot_linux-64-2.1 | 31.6 MB   | ##################################### | 100% \r\n",
      "binutils_linux-64-2. | 22 KB     | ##################################### | 100% \r\n",
      "sed-4.8              | 264 KB    | ##################################### | 100% \r\n",
      "gcc_impl_linux-64-9. | 47.8 MB   | ##################################### | 100% \r\n",
      "gfortran_impl_linux- | 10.1 MB   | ##################################### | 100% \r\n",
      "kernel-headers_linux | 708 KB    | ##################################### | 100% \r\n",
      "gxx_impl_linux-64-9. | 25.0 MB   | ##################################### | 100% \r\n",
      "gsl-2.6              | 3.2 MB    | ##################################### | 100% \r\n",
      "binutils_impl_linux- | 9.7 MB    | ##################################### | 100% \r\n",
      "tktable-2.10         | 89 KB     | ##################################### | 100% \r\n",
      "r-base-4.0.5         | 23.7 MB   | ##################################### | 100% \r\n",
      "ld_impl_linux-64-2.3 | 668 KB    | ##################################### | 100% \r\n",
      "pcre2-10.36          | 1.1 MB    | ##################################### | 100% \r\n",
      "Preparing transaction: | \b\b/ \b\b- \b\b\\ \b\bdone\r\n",
      "Verifying transaction: / \b\b- \b\b\\ \b\b| \b\b/ \b\b- \b\b\\ \b\b| \b\b/ \b\b- \b\b\\ \b\bdone\r\n",
      "Executing transaction: / \b\b- \b\b\\ \b\b| \b\b/ \b\b- \b\b\\ \b\b| \b\b/ \b\b- \b\b\\ \b\b| \b\b/ \b\b- \b\b\\ \b\b| \b\b/ \b\b- \b\b\\ \b\b| \b\b/ \b\b- \b\b\\ \b\b| \b\b/ \b\b- \b\b\\ \b\b| \b\b/ \b\b- \b\b\\ \b\b| \b\b/ \b\b- \b\b\\ \b\b| \b\b/ \b\b- \b\b\\ \b\b| \b\bdone\r\n",
      "\n",
      "Note: you may need to restart the kernel to use updated packages.\n"
     ]
    }
   ],
   "source": [
    "\n",
    "conda install rpy2"
   ]
  },
  {
   "cell_type": "markdown",
   "metadata": {
    "papermill": {
     "duration": 0.331314,
     "end_time": "2021-07-23T14:45:24.204873",
     "exception": false,
     "start_time": "2021-07-23T14:45:23.873559",
     "status": "completed"
    },
    "tags": []
   },
   "source": [
    "**Import libraries**"
   ]
  },
  {
   "cell_type": "code",
   "execution_count": 3,
   "metadata": {
    "execution": {
     "iopub.execute_input": "2021-07-23T14:45:24.874071Z",
     "iopub.status.busy": "2021-07-23T14:45:24.873108Z",
     "iopub.status.idle": "2021-07-23T14:45:34.790632Z",
     "shell.execute_reply": "2021-07-23T14:45:34.791044Z",
     "shell.execute_reply.started": "2021-07-23T09:27:51.199355Z"
    },
    "papermill": {
     "duration": 10.257638,
     "end_time": "2021-07-23T14:45:34.791209",
     "exception": false,
     "start_time": "2021-07-23T14:45:24.533571",
     "status": "completed"
    },
    "tags": []
   },
   "outputs": [],
   "source": [
    "import pandas as pd\n",
    "from sklearn.feature_extraction.text import CountVectorizer,TfidfVectorizer,HashingVectorizer\n",
    "import re\n",
    "from sklearn.ensemble import VotingClassifier\n",
    "from sklearn.linear_model import LogisticRegression\n",
    "from sklearn.svm import LinearSVC,SVC\n",
    "from sklearn.metrics import accuracy_score, confusion_matrix, classification_report, f1_score\n",
    "from sklearn.ensemble import RandomForestClassifier\n",
    "from sklearn.ensemble import VotingClassifier\n",
    "from sklearn.neural_network import MLPClassifier\n",
    "from sklearn.linear_model import LogisticRegression\n",
    "from sklearn.svm import LinearSVC,SVC\n",
    "from sklearn.metrics import accuracy_score, confusion_matrix, classification_report, f1_score\n",
    "from sklearn.multiclass import OneVsRestClassifier\n",
    "from libindic.syllabifier import Syllabifier\n",
    "from nltk import everygrams\n",
    "import rpy2.ipython\n",
    "\n",
    "from rpy2.robjects import pandas2ri   \n",
    "\n",
    "pandas2ri.activate()\n",
    "\n",
    "%reload_ext rpy2.ipython\n",
    "\n",
    "import shap, time\n",
    "\n",
    "from sklearn import model_selection, preprocessing, metrics, svm\n",
    "from sklearn.feature_extraction.text import CountVectorizer\n",
    "from sklearn import decomposition, ensemble\n",
    "\n",
    "import pandas as pd\n",
    "import numpy as np\n",
    "\n",
    "import string\n",
    "\n",
    "import matplotlib.pyplot as plt\n",
    "import seaborn as sns\n",
    "%matplotlib inline\n",
    "\n",
    "import xgboost\n",
    "from sklearn.feature_extraction.text import CountVectorizer,TfidfVectorizer,HashingVectorizer\n",
    "from SNgramExtractor import SNgramExtractor\n",
    "\n"
   ]
  },
  {
   "cell_type": "markdown",
   "metadata": {
    "papermill": {
     "duration": 0.321452,
     "end_time": "2021-07-23T14:45:35.430449",
     "exception": false,
     "start_time": "2021-07-23T14:45:35.108997",
     "status": "completed"
    },
    "tags": []
   },
   "source": [
    "**Functions**"
   ]
  },
  {
   "cell_type": "code",
   "execution_count": 4,
   "metadata": {
    "execution": {
     "iopub.execute_input": "2021-07-23T14:45:36.151496Z",
     "iopub.status.busy": "2021-07-23T14:45:36.150853Z",
     "iopub.status.idle": "2021-07-23T14:45:36.176175Z",
     "shell.execute_reply": "2021-07-23T14:45:36.175561Z",
     "shell.execute_reply.started": "2021-07-23T09:28:02.438378Z"
    },
    "papermill": {
     "duration": 0.411718,
     "end_time": "2021-07-23T14:45:36.176370",
     "exception": false,
     "start_time": "2021-07-23T14:45:35.764652",
     "status": "completed"
    },
    "tags": []
   },
   "outputs": [],
   "source": [
    "instance = Syllabifier()\n",
    "\n",
    "def generateNgram(words, n=1):\n",
    "    gram = dict()\n",
    "    \n",
    "    # Some helpers to keep us crashing the PC for now\n",
    "    #assert n > 0 and n < 100\n",
    "    \n",
    "    # Populate N-gram dictionary\n",
    "    for i in range(len(words)-(n-1)):\n",
    "        key = tuple(words[i:i+n])\n",
    "        if gram in key:\n",
    "            gram[key] += 1\n",
    "        else:\n",
    "            gram[key] = 1\n",
    "\n",
    "    # Turn into a list of (word, count) sorted by count from most to least\n",
    "    #gram = sorted(gram.items(), key=lambda (_, count): -count)   lambda x: x[1]\n",
    "    return ['_'.join(x) for x in list(gram.keys())]\n",
    "\n",
    "\n",
    "def syl(sent):\n",
    "    ss=[]\n",
    "    sent=sent.split(' ')\n",
    "    for word in sent:\n",
    "        tmp=[]\n",
    "        try:\n",
    "            tmp=instance.syllabify(word)\n",
    "            tmp=tmp.split('-')\n",
    "            for t in tmp:\n",
    "                if '/' not in t:\n",
    "                    ss.append(t.strip())\n",
    "                else:\n",
    "                    t=t.split('/')\n",
    "                    for i in t:\n",
    "                        ss.append(i.strip())\n",
    "        except:\n",
    "            ss.append(word)\n",
    "    return ss\n",
    "\n",
    "\n",
    "def feat(sent):\n",
    "    words=sent.split(' ')\n",
    "    syllables=syl(sent)\n",
    "\n",
    "    ngrams=[]\n",
    "\n",
    "    for i in range(1,8):\n",
    "        ngrams.extend(generateNgram(syllables,i))\n",
    "\n",
    "    return ngrams\n",
    "\n",
    "\n",
    "\n",
    "\n",
    "\n",
    "\n",
    "lr=LogisticRegression(C=20)\n",
    "svm_clf=SVC(kernel='linear',probability=True)\n",
    "rfc=RandomForestClassifier(n_estimators=10000)\n",
    "estimators=[('lr', lr), ('svm_clf', svm_clf),('rfc', rfc)]\n",
    "ensemble1 = VotingClassifier(estimators, voting='soft')\n",
    "ensemble2 = VotingClassifier(estimators, voting='hard')\n",
    "\n",
    "def train_classifiers(x_train,x_test,y_train,y_test):\n",
    "    lr.fit(x_train, y_train)\n",
    "    y_pred = lr.predict(x_test)\n",
    "    print('LR')\n",
    "    print(classification_report(y_test, y_pred,digits=4))\n",
    "    print('-------------------------------------------------------------')\n",
    "    svm_clf.fit(x_train, y_train)\n",
    "    y_pred = svm_clf.predict(x_test)\n",
    "    print('lsvc')\n",
    "    print(classification_report(y_test, y_pred,digits=4))\n",
    "    print('-------------------------------------------------------------')\n",
    "    rfc.fit(x_train, y_train)\n",
    "    y_pred = rfc.predict(x_test)\n",
    "    print('RFC')\n",
    "    print(classification_report(y_test, y_pred,digits=4))\n",
    "    print('-------------------------------------------------------------')\n",
    "    ensemble1.fit(x_train, y_train)\n",
    "    y_pred = ensemble1.predict(x_test)\n",
    "    print('soft voting')\n",
    "    print(classification_report(y_test, y_pred,digits=4))\n",
    "    print('-------------------------------------------------------------')\n",
    "    ensemble2.fit(x_train, y_train)\n",
    "    y_pred = ensemble2.predict(x_test)\n",
    "    print('hard voting')\n",
    "    print(classification_report(y_test, y_pred,digits=4))\n",
    "    \n",
    "    \n",
    "def get_sngrams(text,gram):\n",
    "  \n",
    "    SNgram_obj=SNgramExtractor(text,meta_tag='original',trigram_flag='yes')#,nlp_model=nlp)# for english nlp_model=None--for spanish nlp model should be set into nlp which in beging we downloaded\n",
    "    output=SNgram_obj.get_SNgram()\n",
    "\n",
    "    return output[gram].split(' ')\n",
    "\n",
    "\n",
    "def get_ngram_features(sent): # The reason I do not use NLTK's everygrams to extract the features quickly is because the behavior of my n-gram extractor is modified to remove redundant n-grams. Also, I need to label word and char n-grams to avoid ambiguity\n",
    "    sentence_tokens = sent.split(' ')\n",
    "    \n",
    "    features = {}\n",
    "\n",
    "    ngrams=get_sngrams(sent,'SNBigram')#bi-sngrams\n",
    "    for ngram in ngrams:\n",
    "      features[ngram] = features.get(f'SNBigram({ngram})', 0) + 1\n",
    "\n",
    "    ngrams=get_sngrams(sent,'SNTrigram')#bi-sngrams\n",
    "    for ngram in ngrams:\n",
    "      features[ngram] = features.get(f'SNTrigram({ngram})', 0) + 1\n",
    "    \n",
    "    return [x for x in list(features.keys()) if len(x)>1]#pd.DataFrame(features,index=[0])\n",
    "\n",
    "\n",
    "\n",
    "def ngram_extractor(sent):\n",
    "    return [''.join(ng) for ng in everygrams(sent.replace(' ', '_ _'), 3, 6) \n",
    "            if ' ' not in ng and '\\n' not in ng and ng != ('_',)]\n",
    "\n",
    "\n",
    "\n",
    "def ShapleyFiltering(classifier,x_train_vec,vectorizer,k):\n",
    "    # Create the shap explainers\n",
    "    t0 = time.time()\n",
    "    explainer = shap.TreeExplainer(classifier)\n",
    "    shap_values_train = explainer.shap_values(x_train_vec)\n",
    "    t1 = time.time()\n",
    "    timeit=t1-t0\n",
    "    print('time to compute Shapley values (s):', timeit)\n",
    "\n",
    "    # From sparse matrix to data frame\n",
    "    txt_dense_df = pd.DataFrame(x_train_vec.todense(), columns=vectorizer.get_feature_names())\n",
    "    shap_values_train_df = pd.DataFrame(shap_values_train, columns=txt_dense_df.columns)\n",
    "\n",
    "    predictions = classifier.predict(x_train_vec.tocsc())\n",
    "    \n",
    "    shap_sum = np.abs(shap_values_train_df).mean(axis=0)\n",
    "    importance_df = pd.DataFrame([txt_dense_df.columns.tolist(), shap_sum.tolist()]).T\n",
    "    importance_df.columns = ['column_name', 'shap_importance (log-odds)']\n",
    "    importance_df = importance_df.sort_values('shap_importance (log-odds)', ascending=False)\n",
    "    importance_df['shap_importance (%)'] = importance_df['shap_importance (log-odds)'].apply(lambda x: 100*x/np.sum(importance_df['shap_importance (log-odds)']))\n",
    "    \n",
    "    topN = k\n",
    "    topk = importance_df.iloc[0:topN][\"column_name\"]\n",
    "\n",
    "    print('Cumulative Importance', np.sum(importance_df.iloc[0:topN][\"shap_importance (%)\"]))\n",
    "    \n",
    "    shap_values_imp = shap_values_train_df[topk]\n",
    "    return shap_values_imp\n",
    "\n",
    "\n",
    "def train_model(classifier, feature_vector_train, label, feature_vector_valid, valid_label):\n",
    "    # fit the training dataset on the classifier\n",
    "    classifier.fit(feature_vector_train, label)\n",
    "    \n",
    "    # predict the labels on validation dataset\n",
    "    predictions = classifier.predict(feature_vector_valid)\n",
    "    \n",
    "    return classifier, metrics.accuracy_score(predictions, valid_label), metrics.classification_report(predictions, valid_label,digits=4)"
   ]
  },
  {
   "cell_type": "code",
   "execution_count": 5,
   "metadata": {
    "execution": {
     "iopub.execute_input": "2021-07-23T14:45:36.866062Z",
     "iopub.status.busy": "2021-07-23T14:45:36.865232Z",
     "iopub.status.idle": "2021-07-23T14:45:37.032774Z",
     "shell.execute_reply": "2021-07-23T14:45:37.032097Z",
     "shell.execute_reply.started": "2021-07-23T09:30:12.856031Z"
    },
    "papermill": {
     "duration": 0.492413,
     "end_time": "2021-07-23T14:45:37.032913",
     "exception": false,
     "start_time": "2021-07-23T14:45:36.540500",
     "status": "completed"
    },
    "tags": []
   },
   "outputs": [],
   "source": [
    "train_en=pd.read_csv('../input/pan2020fake-news-spreaders-task/train_en.csv')\n",
    "\n",
    "test_en=pd.read_csv('../input/pan2020fake-news-spreaders-task/test_en.csv')\n"
   ]
  },
  {
   "cell_type": "code",
   "execution_count": 6,
   "metadata": {
    "execution": {
     "iopub.execute_input": "2021-07-23T14:45:37.707326Z",
     "iopub.status.busy": "2021-07-23T14:45:37.702466Z",
     "iopub.status.idle": "2021-07-23T14:45:40.587493Z",
     "shell.execute_reply": "2021-07-23T14:45:40.586815Z",
     "shell.execute_reply.started": "2021-07-23T09:30:13.662823Z"
    },
    "papermill": {
     "duration": 3.226744,
     "end_time": "2021-07-23T14:45:40.587633",
     "exception": false,
     "start_time": "2021-07-23T14:45:37.360889",
     "status": "completed"
    },
    "tags": []
   },
   "outputs": [],
   "source": [
    "#only for english---skip for spanish\n",
    "wanted=list(\"qwertyuioplkjhgfdsazxcvbnmQWERTYUIOPLKJHGFDSAZXCVBNM\")\n",
    "def clean(text):\n",
    "  text=text.split(' ')\n",
    "  te=[]\n",
    "  for w in text:\n",
    "    w1=''\n",
    "    for c in w:\n",
    "      if c in wanted:\n",
    "        w1+=c\n",
    "    if len(w1)>2:\n",
    "      te.append(w1)\n",
    "    \n",
    "  return ' '.join(te).strip().lower()\n",
    "train_en['cleaned']=[clean(x) for x in train_en.tweets]\n",
    "test_en['cleaned']=[clean(x) for x in test_en.tweets]"
   ]
  },
  {
   "cell_type": "code",
   "execution_count": null,
   "metadata": {
    "papermill": {
     "duration": 0.330682,
     "end_time": "2021-07-23T14:45:41.245791",
     "exception": false,
     "start_time": "2021-07-23T14:45:40.915109",
     "status": "completed"
    },
    "tags": []
   },
   "outputs": [],
   "source": []
  },
  {
   "cell_type": "markdown",
   "metadata": {
    "papermill": {
     "duration": 0.33709,
     "end_time": "2021-07-23T14:45:41.913256",
     "exception": false,
     "start_time": "2021-07-23T14:45:41.576166",
     "status": "completed"
    },
    "tags": []
   },
   "source": [
    "**Vectorization**"
   ]
  },
  {
   "cell_type": "code",
   "execution_count": 7,
   "metadata": {
    "execution": {
     "iopub.execute_input": "2021-07-23T14:45:42.600247Z",
     "iopub.status.busy": "2021-07-23T14:45:42.591732Z",
     "iopub.status.idle": "2021-07-23T14:53:01.716752Z",
     "shell.execute_reply": "2021-07-23T14:53:01.715518Z",
     "shell.execute_reply.started": "2021-07-23T09:30:19.065094Z"
    },
    "papermill": {
     "duration": 439.459716,
     "end_time": "2021-07-23T14:53:01.717150",
     "exception": false,
     "start_time": "2021-07-23T14:45:42.257434",
     "status": "completed"
    },
    "tags": []
   },
   "outputs": [],
   "source": [
    "sentences=list(train_en.cleaned)\n",
    "\n",
    "from scipy.sparse import hstack\n",
    "word_vectorizer = TfidfVectorizer(\n",
    "    sublinear_tf=True,\n",
    "    strip_accents='unicode',\n",
    "    analyzer='word',\n",
    "    ngram_range=(1, 3))\n",
    "\n",
    "char_vectorizer = TfidfVectorizer(\n",
    "    sublinear_tf=True,\n",
    "    strip_accents='unicode',\n",
    "    analyzer='char',\n",
    "    ngram_range=(2, 5))\n",
    "\n",
    "syl_vectorizer = TfidfVectorizer(\n",
    "    sublinear_tf=True,\n",
    "    strip_accents='unicode',\n",
    "    analyzer=feat)\n",
    "\n",
    "sn_vectorizer = TfidfVectorizer(\n",
    "    sublinear_tf=True,\n",
    "    strip_accents='unicode',\n",
    "    analyzer=get_ngram_features)\n",
    "\n",
    "cs_vectorizer = TfidfVectorizer(\n",
    "    sublinear_tf=True,\n",
    "    strip_accents='unicode',\n",
    "    analyzer=ngram_extractor)\n",
    "\n",
    "\n",
    "\n",
    "syl_vectorizer.fit(sentences)\n",
    "word_vectorizer.fit(sentences)\n",
    "char_vectorizer.fit(sentences)\n",
    "sn_vectorizer.fit(sentences)\n",
    "cs_vectorizer.fit(sentences)\n",
    "\n",
    "\n",
    "\n",
    "train_word_features = word_vectorizer.transform(train_en.cleaned)\n",
    "test_word_features = word_vectorizer.transform(test_en.cleaned)\n",
    "\n",
    "train_char_features = char_vectorizer.transform(train_en.cleaned)\n",
    "test_char_features = char_vectorizer.transform(test_en.cleaned)\n",
    "\n",
    "\n",
    "train_syl_features = syl_vectorizer.transform(train_en.cleaned)\n",
    "test_syl_features = syl_vectorizer.transform(test_en.cleaned)\n",
    "\n",
    "train_sn_features = sn_vectorizer.transform(train_en.cleaned)\n",
    "test_sn_features = sn_vectorizer.transform(test_en.cleaned)\n",
    "\n",
    "train_cs_features = cs_vectorizer.transform(train_en.cleaned)\n",
    "test_cs_features = cs_vectorizer.transform(test_en.cleaned)\n",
    "\n",
    "x_train_char_word = hstack([train_char_features, train_word_features])\n",
    "x_test_char_word = hstack([test_char_features, test_word_features])\n",
    "\n",
    "x_train_cs_word = hstack([train_cs_features, train_word_features])\n",
    "x_test_cs_word = hstack([test_cs_features, test_word_features])\n",
    "\n",
    "x_train_char_syl = hstack([train_char_features, train_syl_features])\n",
    "x_test_char_syl = hstack([test_char_features, test_syl_features])\n",
    "\n",
    "x_train_syl_word = hstack([train_syl_features, train_word_features])\n",
    "x_test_syl_word = hstack([test_syl_features, test_word_features])\n",
    "\n",
    "x_train_word_sn = hstack([train_word_features, train_sn_features])\n",
    "x_test_word_sn = hstack([test_word_features, test_sn_features])\n",
    "\n",
    "\n",
    "x_train_char_syl_word=hstack([train_char_features, train_syl_features,train_word_features ])\n",
    "x_test_char_syl_word=hstack([test_char_features, test_syl_features,test_word_features ])\n",
    "\n"
   ]
  },
  {
   "cell_type": "code",
   "execution_count": 8,
   "metadata": {
    "execution": {
     "iopub.execute_input": "2021-07-23T14:53:02.387613Z",
     "iopub.status.busy": "2021-07-23T14:53:02.386609Z",
     "iopub.status.idle": "2021-07-23T14:53:02.389664Z",
     "shell.execute_reply": "2021-07-23T14:53:02.389027Z",
     "shell.execute_reply.started": "2021-07-23T09:37:53.815601Z"
    },
    "papermill": {
     "duration": 0.337728,
     "end_time": "2021-07-23T14:53:02.389793",
     "exception": false,
     "start_time": "2021-07-23T14:53:02.052065",
     "status": "completed"
    },
    "tags": []
   },
   "outputs": [],
   "source": [
    "y_train=train_en.label\n",
    "y_test=test_en.label"
   ]
  },
  {
   "cell_type": "markdown",
   "metadata": {
    "papermill": {
     "duration": 0.325016,
     "end_time": "2021-07-23T14:53:03.043035",
     "exception": false,
     "start_time": "2021-07-23T14:53:02.718019",
     "status": "completed"
    },
    "tags": []
   },
   "source": [
    "# Char ngrams"
   ]
  },
  {
   "cell_type": "code",
   "execution_count": 9,
   "metadata": {
    "execution": {
     "iopub.execute_input": "2021-07-23T14:53:03.728838Z",
     "iopub.status.busy": "2021-07-23T14:53:03.728142Z",
     "iopub.status.idle": "2021-07-23T15:04:48.072119Z",
     "shell.execute_reply": "2021-07-23T15:04:48.072732Z",
     "shell.execute_reply.started": "2021-07-23T09:37:53.823249Z"
    },
    "papermill": {
     "duration": 704.702997,
     "end_time": "2021-07-23T15:04:48.073021",
     "exception": false,
     "start_time": "2021-07-23T14:53:03.370024",
     "status": "completed"
    },
    "tags": []
   },
   "outputs": [
    {
     "name": "stdout",
     "output_type": "stream",
     "text": [
      "LR\n",
      "              precision    recall  f1-score   support\n",
      "\n",
      "           0     0.7419    0.6900    0.7150       100\n",
      "           1     0.7103    0.7600    0.7343       100\n",
      "\n",
      "    accuracy                         0.7250       200\n",
      "   macro avg     0.7261    0.7250    0.7247       200\n",
      "weighted avg     0.7261    0.7250    0.7247       200\n",
      "\n",
      "-------------------------------------------------------------\n",
      "lsvc\n",
      "              precision    recall  f1-score   support\n",
      "\n",
      "           0     0.7527    0.7000    0.7254       100\n",
      "           1     0.7196    0.7700    0.7440       100\n",
      "\n",
      "    accuracy                         0.7350       200\n",
      "   macro avg     0.7362    0.7350    0.7347       200\n",
      "weighted avg     0.7362    0.7350    0.7347       200\n",
      "\n",
      "-------------------------------------------------------------\n",
      "RFC\n",
      "              precision    recall  f1-score   support\n",
      "\n",
      "           0     0.7071    0.7000    0.7035       100\n",
      "           1     0.7030    0.7100    0.7065       100\n",
      "\n",
      "    accuracy                         0.7050       200\n",
      "   macro avg     0.7050    0.7050    0.7050       200\n",
      "weighted avg     0.7050    0.7050    0.7050       200\n",
      "\n",
      "-------------------------------------------------------------\n",
      "soft voting\n",
      "              precision    recall  f1-score   support\n",
      "\n",
      "           0     0.7396    0.7100    0.7245       100\n",
      "           1     0.7212    0.7500    0.7353       100\n",
      "\n",
      "    accuracy                         0.7300       200\n",
      "   macro avg     0.7304    0.7300    0.7299       200\n",
      "weighted avg     0.7304    0.7300    0.7299       200\n",
      "\n",
      "-------------------------------------------------------------\n",
      "hard voting\n",
      "              precision    recall  f1-score   support\n",
      "\n",
      "           0     0.7292    0.7000    0.7143       100\n",
      "           1     0.7115    0.7400    0.7255       100\n",
      "\n",
      "    accuracy                         0.7200       200\n",
      "   macro avg     0.7204    0.7200    0.7199       200\n",
      "weighted avg     0.7204    0.7200    0.7199       200\n",
      "\n"
     ]
    }
   ],
   "source": [
    "train_classifiers(train_char_features,test_char_features,y_train,y_test)"
   ]
  },
  {
   "cell_type": "markdown",
   "metadata": {
    "papermill": {
     "duration": 0.332362,
     "end_time": "2021-07-23T15:04:48.741399",
     "exception": false,
     "start_time": "2021-07-23T15:04:48.409037",
     "status": "completed"
    },
    "tags": []
   },
   "source": [
    "# char sequences"
   ]
  },
  {
   "cell_type": "code",
   "execution_count": 10,
   "metadata": {
    "execution": {
     "iopub.execute_input": "2021-07-23T15:04:49.418248Z",
     "iopub.status.busy": "2021-07-23T15:04:49.417278Z",
     "iopub.status.idle": "2021-07-23T15:13:43.973076Z",
     "shell.execute_reply": "2021-07-23T15:13:43.973689Z",
     "shell.execute_reply.started": "2021-07-23T09:50:46.461149Z"
    },
    "papermill": {
     "duration": 534.900291,
     "end_time": "2021-07-23T15:13:43.973874",
     "exception": false,
     "start_time": "2021-07-23T15:04:49.073583",
     "status": "completed"
    },
    "tags": []
   },
   "outputs": [
    {
     "name": "stdout",
     "output_type": "stream",
     "text": [
      "LR\n",
      "              precision    recall  f1-score   support\n",
      "\n",
      "           0     0.7527    0.7000    0.7254       100\n",
      "           1     0.7196    0.7700    0.7440       100\n",
      "\n",
      "    accuracy                         0.7350       200\n",
      "   macro avg     0.7362    0.7350    0.7347       200\n",
      "weighted avg     0.7362    0.7350    0.7347       200\n",
      "\n",
      "-------------------------------------------------------------\n",
      "lsvc\n",
      "              precision    recall  f1-score   support\n",
      "\n",
      "           0     0.7474    0.7100    0.7282       100\n",
      "           1     0.7238    0.7600    0.7415       100\n",
      "\n",
      "    accuracy                         0.7350       200\n",
      "   macro avg     0.7356    0.7350    0.7348       200\n",
      "weighted avg     0.7356    0.7350    0.7348       200\n",
      "\n",
      "-------------------------------------------------------------\n",
      "RFC\n",
      "              precision    recall  f1-score   support\n",
      "\n",
      "           0     0.6970    0.6900    0.6935       100\n",
      "           1     0.6931    0.7000    0.6965       100\n",
      "\n",
      "    accuracy                         0.6950       200\n",
      "   macro avg     0.6950    0.6950    0.6950       200\n",
      "weighted avg     0.6950    0.6950    0.6950       200\n",
      "\n",
      "-------------------------------------------------------------\n",
      "soft voting\n",
      "              precision    recall  f1-score   support\n",
      "\n",
      "           0     0.7553    0.7100    0.7320       100\n",
      "           1     0.7264    0.7700    0.7476       100\n",
      "\n",
      "    accuracy                         0.7400       200\n",
      "   macro avg     0.7409    0.7400    0.7398       200\n",
      "weighted avg     0.7409    0.7400    0.7398       200\n",
      "\n",
      "-------------------------------------------------------------\n",
      "hard voting\n",
      "              precision    recall  f1-score   support\n",
      "\n",
      "           0     0.7474    0.7100    0.7282       100\n",
      "           1     0.7238    0.7600    0.7415       100\n",
      "\n",
      "    accuracy                         0.7350       200\n",
      "   macro avg     0.7356    0.7350    0.7348       200\n",
      "weighted avg     0.7356    0.7350    0.7348       200\n",
      "\n"
     ]
    }
   ],
   "source": [
    "train_classifiers(train_cs_features,test_cs_features,y_train,y_test)"
   ]
  },
  {
   "cell_type": "markdown",
   "metadata": {
    "papermill": {
     "duration": 0.330027,
     "end_time": "2021-07-23T15:13:44.632226",
     "exception": false,
     "start_time": "2021-07-23T15:13:44.302199",
     "status": "completed"
    },
    "tags": []
   },
   "source": [
    "# Word ngrams"
   ]
  },
  {
   "cell_type": "code",
   "execution_count": 11,
   "metadata": {
    "execution": {
     "iopub.execute_input": "2021-07-23T15:13:45.282643Z",
     "iopub.status.busy": "2021-07-23T15:13:45.281699Z",
     "iopub.status.idle": "2021-07-23T15:19:19.214596Z",
     "shell.execute_reply": "2021-07-23T15:19:19.215153Z",
     "shell.execute_reply.started": "2021-07-23T10:00:21.126129Z"
    },
    "papermill": {
     "duration": 334.262639,
     "end_time": "2021-07-23T15:19:19.215348",
     "exception": false,
     "start_time": "2021-07-23T15:13:44.952709",
     "status": "completed"
    },
    "tags": []
   },
   "outputs": [
    {
     "name": "stdout",
     "output_type": "stream",
     "text": [
      "LR\n",
      "              precision    recall  f1-score   support\n",
      "\n",
      "           0     0.7692    0.7000    0.7330       100\n",
      "           1     0.7248    0.7900    0.7560       100\n",
      "\n",
      "    accuracy                         0.7450       200\n",
      "   macro avg     0.7470    0.7450    0.7445       200\n",
      "weighted avg     0.7470    0.7450    0.7445       200\n",
      "\n",
      "-------------------------------------------------------------\n",
      "lsvc\n",
      "              precision    recall  f1-score   support\n",
      "\n",
      "           0     0.7717    0.7100    0.7396       100\n",
      "           1     0.7315    0.7900    0.7596       100\n",
      "\n",
      "    accuracy                         0.7500       200\n",
      "   macro avg     0.7516    0.7500    0.7496       200\n",
      "weighted avg     0.7516    0.7500    0.7496       200\n",
      "\n",
      "-------------------------------------------------------------\n",
      "RFC\n",
      "              precision    recall  f1-score   support\n",
      "\n",
      "           0     0.7216    0.7000    0.7107       100\n",
      "           1     0.7087    0.7300    0.7192       100\n",
      "\n",
      "    accuracy                         0.7150       200\n",
      "   macro avg     0.7152    0.7150    0.7149       200\n",
      "weighted avg     0.7152    0.7150    0.7149       200\n",
      "\n",
      "-------------------------------------------------------------\n",
      "soft voting\n",
      "              precision    recall  f1-score   support\n",
      "\n",
      "           0     0.7582    0.6900    0.7225       100\n",
      "           1     0.7156    0.7800    0.7464       100\n",
      "\n",
      "    accuracy                         0.7350       200\n",
      "   macro avg     0.7369    0.7350    0.7345       200\n",
      "weighted avg     0.7369    0.7350    0.7345       200\n",
      "\n",
      "-------------------------------------------------------------\n",
      "hard voting\n",
      "              precision    recall  f1-score   support\n",
      "\n",
      "           0     0.7717    0.7100    0.7396       100\n",
      "           1     0.7315    0.7900    0.7596       100\n",
      "\n",
      "    accuracy                         0.7500       200\n",
      "   macro avg     0.7516    0.7500    0.7496       200\n",
      "weighted avg     0.7516    0.7500    0.7496       200\n",
      "\n"
     ]
    }
   ],
   "source": [
    "train_classifiers(train_word_features,test_word_features,y_train,y_test)"
   ]
  },
  {
   "cell_type": "markdown",
   "metadata": {
    "papermill": {
     "duration": 0.334089,
     "end_time": "2021-07-23T15:19:19.881093",
     "exception": false,
     "start_time": "2021-07-23T15:19:19.547004",
     "status": "completed"
    },
    "tags": []
   },
   "source": [
    "# Syllable ngrams"
   ]
  },
  {
   "cell_type": "code",
   "execution_count": 12,
   "metadata": {
    "execution": {
     "iopub.execute_input": "2021-07-23T15:19:20.564023Z",
     "iopub.status.busy": "2021-07-23T15:19:20.563406Z",
     "iopub.status.idle": "2021-07-23T15:39:31.956418Z",
     "shell.execute_reply": "2021-07-23T15:39:31.957249Z",
     "shell.execute_reply.started": "2021-07-23T10:07:45.166829Z"
    },
    "papermill": {
     "duration": 1211.737459,
     "end_time": "2021-07-23T15:39:31.957548",
     "exception": false,
     "start_time": "2021-07-23T15:19:20.220089",
     "status": "completed"
    },
    "tags": []
   },
   "outputs": [
    {
     "name": "stdout",
     "output_type": "stream",
     "text": [
      "LR\n",
      "              precision    recall  f1-score   support\n",
      "\n",
      "           0     0.7973    0.5900    0.6782       100\n",
      "           1     0.6746    0.8500    0.7522       100\n",
      "\n",
      "    accuracy                         0.7200       200\n",
      "   macro avg     0.7360    0.7200    0.7152       200\n",
      "weighted avg     0.7360    0.7200    0.7152       200\n",
      "\n",
      "-------------------------------------------------------------\n",
      "lsvc\n",
      "              precision    recall  f1-score   support\n",
      "\n",
      "           0     0.8108    0.6000    0.6897       100\n",
      "           1     0.6825    0.8600    0.7611       100\n",
      "\n",
      "    accuracy                         0.7300       200\n",
      "   macro avg     0.7467    0.7300    0.7254       200\n",
      "weighted avg     0.7467    0.7300    0.7254       200\n",
      "\n",
      "-------------------------------------------------------------\n",
      "RFC\n",
      "              precision    recall  f1-score   support\n",
      "\n",
      "           0     0.5497    0.9400    0.6937       100\n",
      "           1     0.7931    0.2300    0.3566       100\n",
      "\n",
      "    accuracy                         0.5850       200\n",
      "   macro avg     0.6714    0.5850    0.5252       200\n",
      "weighted avg     0.6714    0.5850    0.5252       200\n",
      "\n",
      "-------------------------------------------------------------\n",
      "soft voting\n",
      "              precision    recall  f1-score   support\n",
      "\n",
      "           0     0.7711    0.6400    0.6995       100\n",
      "           1     0.6923    0.8100    0.7465       100\n",
      "\n",
      "    accuracy                         0.7250       200\n",
      "   macro avg     0.7317    0.7250    0.7230       200\n",
      "weighted avg     0.7317    0.7250    0.7230       200\n",
      "\n",
      "-------------------------------------------------------------\n",
      "hard voting\n",
      "              precision    recall  f1-score   support\n",
      "\n",
      "           0     0.8108    0.6000    0.6897       100\n",
      "           1     0.6825    0.8600    0.7611       100\n",
      "\n",
      "    accuracy                         0.7300       200\n",
      "   macro avg     0.7467    0.7300    0.7254       200\n",
      "weighted avg     0.7467    0.7300    0.7254       200\n",
      "\n"
     ]
    }
   ],
   "source": [
    "train_classifiers(train_syl_features,test_syl_features,y_train,y_test)"
   ]
  },
  {
   "cell_type": "markdown",
   "metadata": {
    "papermill": {
     "duration": 0.324251,
     "end_time": "2021-07-23T15:39:32.608779",
     "exception": false,
     "start_time": "2021-07-23T15:39:32.284528",
     "status": "completed"
    },
    "tags": []
   },
   "source": [
    "# Syntactic ngrams"
   ]
  },
  {
   "cell_type": "code",
   "execution_count": 13,
   "metadata": {
    "execution": {
     "iopub.execute_input": "2021-07-23T15:39:33.276508Z",
     "iopub.status.busy": "2021-07-23T15:39:33.275353Z",
     "iopub.status.idle": "2021-07-23T15:43:36.797289Z",
     "shell.execute_reply": "2021-07-23T15:43:36.798116Z",
     "shell.execute_reply.started": "2021-07-23T10:29:55.670571Z"
    },
    "papermill": {
     "duration": 243.863729,
     "end_time": "2021-07-23T15:43:36.798346",
     "exception": false,
     "start_time": "2021-07-23T15:39:32.934617",
     "status": "completed"
    },
    "tags": []
   },
   "outputs": [
    {
     "name": "stdout",
     "output_type": "stream",
     "text": [
      "LR\n",
      "              precision    recall  f1-score   support\n",
      "\n",
      "           0     0.7553    0.7100    0.7320       100\n",
      "           1     0.7264    0.7700    0.7476       100\n",
      "\n",
      "    accuracy                         0.7400       200\n",
      "   macro avg     0.7409    0.7400    0.7398       200\n",
      "weighted avg     0.7409    0.7400    0.7398       200\n",
      "\n",
      "-------------------------------------------------------------\n",
      "lsvc\n",
      "              precision    recall  f1-score   support\n",
      "\n",
      "           0     0.7553    0.7100    0.7320       100\n",
      "           1     0.7264    0.7700    0.7476       100\n",
      "\n",
      "    accuracy                         0.7400       200\n",
      "   macro avg     0.7409    0.7400    0.7398       200\n",
      "weighted avg     0.7409    0.7400    0.7398       200\n",
      "\n",
      "-------------------------------------------------------------\n",
      "RFC\n",
      "              precision    recall  f1-score   support\n",
      "\n",
      "           0     0.6154    0.8800    0.7243       100\n",
      "           1     0.7895    0.4500    0.5732       100\n",
      "\n",
      "    accuracy                         0.6650       200\n",
      "   macro avg     0.7024    0.6650    0.6488       200\n",
      "weighted avg     0.7024    0.6650    0.6488       200\n",
      "\n",
      "-------------------------------------------------------------\n",
      "soft voting\n",
      "              precision    recall  f1-score   support\n",
      "\n",
      "           0     0.7182    0.7900    0.7524       100\n",
      "           1     0.7667    0.6900    0.7263       100\n",
      "\n",
      "    accuracy                         0.7400       200\n",
      "   macro avg     0.7424    0.7400    0.7393       200\n",
      "weighted avg     0.7424    0.7400    0.7393       200\n",
      "\n",
      "-------------------------------------------------------------\n",
      "hard voting\n",
      "              precision    recall  f1-score   support\n",
      "\n",
      "           0     0.7474    0.7100    0.7282       100\n",
      "           1     0.7238    0.7600    0.7415       100\n",
      "\n",
      "    accuracy                         0.7350       200\n",
      "   macro avg     0.7356    0.7350    0.7348       200\n",
      "weighted avg     0.7356    0.7350    0.7348       200\n",
      "\n"
     ]
    }
   ],
   "source": [
    "train_classifiers(train_sn_features,test_sn_features,y_train,y_test)"
   ]
  },
  {
   "cell_type": "markdown",
   "metadata": {
    "papermill": {
     "duration": 0.327981,
     "end_time": "2021-07-23T15:43:37.455593",
     "exception": false,
     "start_time": "2021-07-23T15:43:37.127612",
     "status": "completed"
    },
    "tags": []
   },
   "source": [
    "## char_word"
   ]
  },
  {
   "cell_type": "code",
   "execution_count": 14,
   "metadata": {
    "execution": {
     "iopub.execute_input": "2021-07-23T15:43:38.101892Z",
     "iopub.status.busy": "2021-07-23T15:43:38.101337Z",
     "iopub.status.idle": "2021-07-23T15:59:07.007170Z",
     "shell.execute_reply": "2021-07-23T15:59:07.007751Z",
     "shell.execute_reply.started": "2021-07-23T10:35:37.800243Z"
    },
    "papermill": {
     "duration": 929.229533,
     "end_time": "2021-07-23T15:59:07.007934",
     "exception": false,
     "start_time": "2021-07-23T15:43:37.778401",
     "status": "completed"
    },
    "tags": []
   },
   "outputs": [
    {
     "name": "stdout",
     "output_type": "stream",
     "text": [
      "LR\n",
      "              precision    recall  f1-score   support\n",
      "\n",
      "           0     0.7423    0.7200    0.7310       100\n",
      "           1     0.7282    0.7500    0.7389       100\n",
      "\n",
      "    accuracy                         0.7350       200\n",
      "   macro avg     0.7352    0.7350    0.7349       200\n",
      "weighted avg     0.7352    0.7350    0.7349       200\n",
      "\n",
      "-------------------------------------------------------------\n",
      "lsvc\n",
      "              precision    recall  f1-score   support\n",
      "\n",
      "           0     0.7527    0.7000    0.7254       100\n",
      "           1     0.7196    0.7700    0.7440       100\n",
      "\n",
      "    accuracy                         0.7350       200\n",
      "   macro avg     0.7362    0.7350    0.7347       200\n",
      "weighted avg     0.7362    0.7350    0.7347       200\n",
      "\n",
      "-------------------------------------------------------------\n",
      "RFC\n",
      "              precision    recall  f1-score   support\n",
      "\n",
      "           0     0.6931    0.7000    0.6965       100\n",
      "           1     0.6970    0.6900    0.6935       100\n",
      "\n",
      "    accuracy                         0.6950       200\n",
      "   macro avg     0.6950    0.6950    0.6950       200\n",
      "weighted avg     0.6950    0.6950    0.6950       200\n",
      "\n",
      "-------------------------------------------------------------\n",
      "soft voting\n",
      "              precision    recall  f1-score   support\n",
      "\n",
      "           0     0.7347    0.7200    0.7273       100\n",
      "           1     0.7255    0.7400    0.7327       100\n",
      "\n",
      "    accuracy                         0.7300       200\n",
      "   macro avg     0.7301    0.7300    0.7300       200\n",
      "weighted avg     0.7301    0.7300    0.7300       200\n",
      "\n",
      "-------------------------------------------------------------\n",
      "hard voting\n",
      "              precision    recall  f1-score   support\n",
      "\n",
      "           0     0.7423    0.7200    0.7310       100\n",
      "           1     0.7282    0.7500    0.7389       100\n",
      "\n",
      "    accuracy                         0.7350       200\n",
      "   macro avg     0.7352    0.7350    0.7349       200\n",
      "weighted avg     0.7352    0.7350    0.7349       200\n",
      "\n"
     ]
    }
   ],
   "source": [
    "train_classifiers(x_train_char_word,x_test_char_word,y_train,y_test)"
   ]
  },
  {
   "cell_type": "markdown",
   "metadata": {
    "papermill": {
     "duration": 0.34303,
     "end_time": "2021-07-23T15:59:07.696463",
     "exception": false,
     "start_time": "2021-07-23T15:59:07.353433",
     "status": "completed"
    },
    "tags": []
   },
   "source": [
    "## char sequenc and word"
   ]
  },
  {
   "cell_type": "code",
   "execution_count": 15,
   "metadata": {
    "execution": {
     "iopub.execute_input": "2021-07-23T15:59:08.384246Z",
     "iopub.status.busy": "2021-07-23T15:59:08.383305Z",
     "iopub.status.idle": "2021-07-23T16:12:09.512944Z",
     "shell.execute_reply": "2021-07-23T16:12:09.513448Z",
     "shell.execute_reply.started": "2021-07-23T10:52:51.154620Z"
    },
    "papermill": {
     "duration": 781.470841,
     "end_time": "2021-07-23T16:12:09.513623",
     "exception": false,
     "start_time": "2021-07-23T15:59:08.042782",
     "status": "completed"
    },
    "tags": []
   },
   "outputs": [
    {
     "name": "stdout",
     "output_type": "stream",
     "text": [
      "LR\n",
      "              precision    recall  f1-score   support\n",
      "\n",
      "           0     0.7526    0.7300    0.7411       100\n",
      "           1     0.7379    0.7600    0.7488       100\n",
      "\n",
      "    accuracy                         0.7450       200\n",
      "   macro avg     0.7452    0.7450    0.7449       200\n",
      "weighted avg     0.7452    0.7450    0.7449       200\n",
      "\n",
      "-------------------------------------------------------------\n",
      "lsvc\n",
      "              precision    recall  f1-score   support\n",
      "\n",
      "           0     0.7579    0.7200    0.7385       100\n",
      "           1     0.7333    0.7700    0.7512       100\n",
      "\n",
      "    accuracy                         0.7450       200\n",
      "   macro avg     0.7456    0.7450    0.7448       200\n",
      "weighted avg     0.7456    0.7450    0.7448       200\n",
      "\n",
      "-------------------------------------------------------------\n",
      "RFC\n",
      "              precision    recall  f1-score   support\n",
      "\n",
      "           0     0.7010    0.6800    0.6904       100\n",
      "           1     0.6893    0.7100    0.6995       100\n",
      "\n",
      "    accuracy                         0.6950       200\n",
      "   macro avg     0.6952    0.6950    0.6949       200\n",
      "weighted avg     0.6952    0.6950    0.6949       200\n",
      "\n",
      "-------------------------------------------------------------\n",
      "soft voting\n",
      "              precision    recall  f1-score   support\n",
      "\n",
      "           0     0.7526    0.7300    0.7411       100\n",
      "           1     0.7379    0.7600    0.7488       100\n",
      "\n",
      "    accuracy                         0.7450       200\n",
      "   macro avg     0.7452    0.7450    0.7449       200\n",
      "weighted avg     0.7452    0.7450    0.7449       200\n",
      "\n",
      "-------------------------------------------------------------\n",
      "hard voting\n",
      "              precision    recall  f1-score   support\n",
      "\n",
      "           0     0.7526    0.7300    0.7411       100\n",
      "           1     0.7379    0.7600    0.7488       100\n",
      "\n",
      "    accuracy                         0.7450       200\n",
      "   macro avg     0.7452    0.7450    0.7449       200\n",
      "weighted avg     0.7452    0.7450    0.7449       200\n",
      "\n"
     ]
    }
   ],
   "source": [
    "\n",
    "train_classifiers(x_train_cs_word,x_test_cs_word,y_train,y_test)"
   ]
  },
  {
   "cell_type": "markdown",
   "metadata": {
    "papermill": {
     "duration": 0.345716,
     "end_time": "2021-07-23T16:12:10.219511",
     "exception": false,
     "start_time": "2021-07-23T16:12:09.873795",
     "status": "completed"
    },
    "tags": []
   },
   "source": [
    "## _char_syl"
   ]
  },
  {
   "cell_type": "code",
   "execution_count": 16,
   "metadata": {
    "execution": {
     "iopub.execute_input": "2021-07-23T16:12:10.919415Z",
     "iopub.status.busy": "2021-07-23T16:12:10.918749Z",
     "iopub.status.idle": "2021-07-23T16:40:37.157300Z",
     "shell.execute_reply": "2021-07-23T16:40:37.158101Z",
     "shell.execute_reply.started": "2021-07-23T11:06:41.393561Z"
    },
    "papermill": {
     "duration": 1706.592645,
     "end_time": "2021-07-23T16:40:37.158379",
     "exception": false,
     "start_time": "2021-07-23T16:12:10.565734",
     "status": "completed"
    },
    "tags": []
   },
   "outputs": [
    {
     "name": "stdout",
     "output_type": "stream",
     "text": [
      "LR\n",
      "              precision    recall  f1-score   support\n",
      "\n",
      "           0     0.7500    0.6900    0.7188       100\n",
      "           1     0.7130    0.7700    0.7404       100\n",
      "\n",
      "    accuracy                         0.7300       200\n",
      "   macro avg     0.7315    0.7300    0.7296       200\n",
      "weighted avg     0.7315    0.7300    0.7296       200\n",
      "\n",
      "-------------------------------------------------------------\n",
      "lsvc\n",
      "              precision    recall  f1-score   support\n",
      "\n",
      "           0     0.7614    0.6700    0.7128       100\n",
      "           1     0.7054    0.7900    0.7453       100\n",
      "\n",
      "    accuracy                         0.7300       200\n",
      "   macro avg     0.7334    0.7300    0.7290       200\n",
      "weighted avg     0.7334    0.7300    0.7290       200\n",
      "\n",
      "-------------------------------------------------------------\n",
      "RFC\n",
      "              precision    recall  f1-score   support\n",
      "\n",
      "           0     0.6727    0.7400    0.7048       100\n",
      "           1     0.7111    0.6400    0.6737       100\n",
      "\n",
      "    accuracy                         0.6900       200\n",
      "   macro avg     0.6919    0.6900    0.6892       200\n",
      "weighted avg     0.6919    0.6900    0.6892       200\n",
      "\n",
      "-------------------------------------------------------------\n",
      "soft voting\n",
      "              precision    recall  f1-score   support\n",
      "\n",
      "           0     0.7447    0.7000    0.7216       100\n",
      "           1     0.7170    0.7600    0.7379       100\n",
      "\n",
      "    accuracy                         0.7300       200\n",
      "   macro avg     0.7308    0.7300    0.7298       200\n",
      "weighted avg     0.7308    0.7300    0.7298       200\n",
      "\n",
      "-------------------------------------------------------------\n",
      "hard voting\n",
      "              precision    recall  f1-score   support\n",
      "\n",
      "           0     0.7500    0.6900    0.7188       100\n",
      "           1     0.7130    0.7700    0.7404       100\n",
      "\n",
      "    accuracy                         0.7300       200\n",
      "   macro avg     0.7315    0.7300    0.7296       200\n",
      "weighted avg     0.7315    0.7300    0.7296       200\n",
      "\n"
     ]
    }
   ],
   "source": [
    "\n",
    "train_classifiers(x_train_char_syl,x_test_char_syl,y_train,y_test)"
   ]
  },
  {
   "cell_type": "markdown",
   "metadata": {
    "papermill": {
     "duration": 0.343188,
     "end_time": "2021-07-23T16:40:37.851268",
     "exception": false,
     "start_time": "2021-07-23T16:40:37.508080",
     "status": "completed"
    },
    "tags": []
   },
   "source": [
    "## syl_word"
   ]
  },
  {
   "cell_type": "code",
   "execution_count": 17,
   "metadata": {
    "execution": {
     "iopub.execute_input": "2021-07-23T16:40:38.550345Z",
     "iopub.status.busy": "2021-07-23T16:40:38.549287Z",
     "iopub.status.idle": "2021-07-23T17:05:17.850522Z",
     "shell.execute_reply": "2021-07-23T17:05:17.851083Z",
     "shell.execute_reply.started": "2021-07-23T11:36:44.895406Z"
    },
    "papermill": {
     "duration": 1479.651263,
     "end_time": "2021-07-23T17:05:17.851299",
     "exception": false,
     "start_time": "2021-07-23T16:40:38.200036",
     "status": "completed"
    },
    "tags": []
   },
   "outputs": [
    {
     "name": "stdout",
     "output_type": "stream",
     "text": [
      "LR\n",
      "              precision    recall  f1-score   support\n",
      "\n",
      "           0     0.7674    0.6600    0.7097       100\n",
      "           1     0.7018    0.8000    0.7477       100\n",
      "\n",
      "    accuracy                         0.7300       200\n",
      "   macro avg     0.7346    0.7300    0.7287       200\n",
      "weighted avg     0.7346    0.7300    0.7287       200\n",
      "\n",
      "-------------------------------------------------------------\n",
      "lsvc\n",
      "              precision    recall  f1-score   support\n",
      "\n",
      "           0     0.7647    0.6500    0.7027       100\n",
      "           1     0.6957    0.8000    0.7442       100\n",
      "\n",
      "    accuracy                         0.7250       200\n",
      "   macro avg     0.7302    0.7250    0.7234       200\n",
      "weighted avg     0.7302    0.7250    0.7234       200\n",
      "\n",
      "-------------------------------------------------------------\n",
      "RFC\n",
      "              precision    recall  f1-score   support\n",
      "\n",
      "           0     0.5946    0.8800    0.7097       100\n",
      "           1     0.7692    0.4000    0.5263       100\n",
      "\n",
      "    accuracy                         0.6400       200\n",
      "   macro avg     0.6819    0.6400    0.6180       200\n",
      "weighted avg     0.6819    0.6400    0.6180       200\n",
      "\n",
      "-------------------------------------------------------------\n",
      "soft voting\n",
      "              precision    recall  f1-score   support\n",
      "\n",
      "           0     0.7527    0.7000    0.7254       100\n",
      "           1     0.7196    0.7700    0.7440       100\n",
      "\n",
      "    accuracy                         0.7350       200\n",
      "   macro avg     0.7362    0.7350    0.7347       200\n",
      "weighted avg     0.7362    0.7350    0.7347       200\n",
      "\n",
      "-------------------------------------------------------------\n",
      "hard voting\n",
      "              precision    recall  f1-score   support\n",
      "\n",
      "           0     0.7674    0.6600    0.7097       100\n",
      "           1     0.7018    0.8000    0.7477       100\n",
      "\n",
      "    accuracy                         0.7300       200\n",
      "   macro avg     0.7346    0.7300    0.7287       200\n",
      "weighted avg     0.7346    0.7300    0.7287       200\n",
      "\n"
     ]
    }
   ],
   "source": [
    "\n",
    "train_classifiers(x_train_syl_word,x_test_syl_word,y_train,y_test)"
   ]
  },
  {
   "cell_type": "markdown",
   "metadata": {
    "papermill": {
     "duration": 0.344766,
     "end_time": "2021-07-23T17:05:18.547943",
     "exception": false,
     "start_time": "2021-07-23T17:05:18.203177",
     "status": "completed"
    },
    "tags": []
   },
   "source": [
    "##  word_sn"
   ]
  },
  {
   "cell_type": "code",
   "execution_count": 18,
   "metadata": {
    "execution": {
     "iopub.execute_input": "2021-07-23T17:05:19.251721Z",
     "iopub.status.busy": "2021-07-23T17:05:19.250682Z",
     "iopub.status.idle": "2021-07-23T17:14:33.017336Z",
     "shell.execute_reply": "2021-07-23T17:14:33.017881Z",
     "shell.execute_reply.started": "2021-07-23T12:04:27.376878Z"
    },
    "papermill": {
     "duration": 554.122989,
     "end_time": "2021-07-23T17:14:33.018061",
     "exception": false,
     "start_time": "2021-07-23T17:05:18.895072",
     "status": "completed"
    },
    "tags": []
   },
   "outputs": [
    {
     "name": "stdout",
     "output_type": "stream",
     "text": [
      "LR\n",
      "              precision    recall  f1-score   support\n",
      "\n",
      "           0     0.7717    0.7100    0.7396       100\n",
      "           1     0.7315    0.7900    0.7596       100\n",
      "\n",
      "    accuracy                         0.7500       200\n",
      "   macro avg     0.7516    0.7500    0.7496       200\n",
      "weighted avg     0.7516    0.7500    0.7496       200\n",
      "\n",
      "-------------------------------------------------------------\n",
      "lsvc\n",
      "              precision    recall  f1-score   support\n",
      "\n",
      "           0     0.7717    0.7100    0.7396       100\n",
      "           1     0.7315    0.7900    0.7596       100\n",
      "\n",
      "    accuracy                         0.7500       200\n",
      "   macro avg     0.7516    0.7500    0.7496       200\n",
      "weighted avg     0.7516    0.7500    0.7496       200\n",
      "\n",
      "-------------------------------------------------------------\n",
      "RFC\n",
      "              precision    recall  f1-score   support\n",
      "\n",
      "           0     0.7228    0.7300    0.7264       100\n",
      "           1     0.7273    0.7200    0.7236       100\n",
      "\n",
      "    accuracy                         0.7250       200\n",
      "   macro avg     0.7250    0.7250    0.7250       200\n",
      "weighted avg     0.7250    0.7250    0.7250       200\n",
      "\n",
      "-------------------------------------------------------------\n",
      "soft voting\n",
      "              precision    recall  f1-score   support\n",
      "\n",
      "           0     0.7609    0.7000    0.7292       100\n",
      "           1     0.7222    0.7800    0.7500       100\n",
      "\n",
      "    accuracy                         0.7400       200\n",
      "   macro avg     0.7415    0.7400    0.7396       200\n",
      "weighted avg     0.7415    0.7400    0.7396       200\n",
      "\n",
      "-------------------------------------------------------------\n",
      "hard voting\n",
      "              precision    recall  f1-score   support\n",
      "\n",
      "           0     0.7717    0.7100    0.7396       100\n",
      "           1     0.7315    0.7900    0.7596       100\n",
      "\n",
      "    accuracy                         0.7500       200\n",
      "   macro avg     0.7516    0.7500    0.7496       200\n",
      "weighted avg     0.7516    0.7500    0.7496       200\n",
      "\n"
     ]
    }
   ],
   "source": [
    "\n",
    "train_classifiers(x_train_word_sn,x_test_word_sn,y_train,y_test)"
   ]
  },
  {
   "cell_type": "markdown",
   "metadata": {
    "papermill": {
     "duration": 0.33985,
     "end_time": "2021-07-23T17:14:33.699711",
     "exception": false,
     "start_time": "2021-07-23T17:14:33.359861",
     "status": "completed"
    },
    "tags": []
   },
   "source": [
    "## char_syl_word"
   ]
  },
  {
   "cell_type": "code",
   "execution_count": 19,
   "metadata": {
    "execution": {
     "iopub.execute_input": "2021-07-23T17:14:34.395189Z",
     "iopub.status.busy": "2021-07-23T17:14:34.394473Z",
     "iopub.status.idle": "2021-07-23T17:48:22.117236Z",
     "shell.execute_reply": "2021-07-23T17:48:22.117741Z",
     "shell.execute_reply.started": "2021-07-23T12:14:26.119721Z"
    },
    "papermill": {
     "duration": 2028.076976,
     "end_time": "2021-07-23T17:48:22.118044",
     "exception": false,
     "start_time": "2021-07-23T17:14:34.041068",
     "status": "completed"
    },
    "tags": []
   },
   "outputs": [
    {
     "name": "stdout",
     "output_type": "stream",
     "text": [
      "LR\n",
      "              precision    recall  f1-score   support\n",
      "\n",
      "           0     0.7609    0.7000    0.7292       100\n",
      "           1     0.7222    0.7800    0.7500       100\n",
      "\n",
      "    accuracy                         0.7400       200\n",
      "   macro avg     0.7415    0.7400    0.7396       200\n",
      "weighted avg     0.7415    0.7400    0.7396       200\n",
      "\n",
      "-------------------------------------------------------------\n",
      "lsvc\n",
      "              precision    recall  f1-score   support\n",
      "\n",
      "           0     0.7614    0.6700    0.7128       100\n",
      "           1     0.7054    0.7900    0.7453       100\n",
      "\n",
      "    accuracy                         0.7300       200\n",
      "   macro avg     0.7334    0.7300    0.7290       200\n",
      "weighted avg     0.7334    0.7300    0.7290       200\n",
      "\n",
      "-------------------------------------------------------------\n",
      "RFC\n",
      "              precision    recall  f1-score   support\n",
      "\n",
      "           0     0.6759    0.7300    0.7019       100\n",
      "           1     0.7065    0.6500    0.6771       100\n",
      "\n",
      "    accuracy                         0.6900       200\n",
      "   macro avg     0.6912    0.6900    0.6895       200\n",
      "weighted avg     0.6912    0.6900    0.6895       200\n",
      "\n",
      "-------------------------------------------------------------\n",
      "soft voting\n",
      "              precision    recall  f1-score   support\n",
      "\n",
      "           0     0.7474    0.7100    0.7282       100\n",
      "           1     0.7238    0.7600    0.7415       100\n",
      "\n",
      "    accuracy                         0.7350       200\n",
      "   macro avg     0.7356    0.7350    0.7348       200\n",
      "weighted avg     0.7356    0.7350    0.7348       200\n",
      "\n",
      "-------------------------------------------------------------\n",
      "hard voting\n",
      "              precision    recall  f1-score   support\n",
      "\n",
      "           0     0.7609    0.7000    0.7292       100\n",
      "           1     0.7222    0.7800    0.7500       100\n",
      "\n",
      "    accuracy                         0.7400       200\n",
      "   macro avg     0.7415    0.7400    0.7396       200\n",
      "weighted avg     0.7415    0.7400    0.7396       200\n",
      "\n"
     ]
    }
   ],
   "source": [
    "train_classifiers(x_train_char_syl_word,x_test_char_syl_word,y_train,y_test)"
   ]
  },
  {
   "cell_type": "code",
   "execution_count": null,
   "metadata": {
    "papermill": {
     "duration": 0.353589,
     "end_time": "2021-07-23T17:48:22.823484",
     "exception": false,
     "start_time": "2021-07-23T17:48:22.469895",
     "status": "completed"
    },
    "tags": []
   },
   "outputs": [],
   "source": []
  },
  {
   "cell_type": "code",
   "execution_count": null,
   "metadata": {
    "papermill": {
     "duration": 0.350159,
     "end_time": "2021-07-23T17:48:23.546551",
     "exception": false,
     "start_time": "2021-07-23T17:48:23.196392",
     "status": "completed"
    },
    "tags": []
   },
   "outputs": [],
   "source": []
  },
  {
   "cell_type": "code",
   "execution_count": 20,
   "metadata": {
    "execution": {
     "iopub.execute_input": "2021-07-23T17:48:24.273704Z",
     "iopub.status.busy": "2021-07-23T17:48:24.272755Z",
     "iopub.status.idle": "2021-07-23T17:48:24.284976Z",
     "shell.execute_reply": "2021-07-23T17:48:24.284456Z",
     "shell.execute_reply.started": "2021-07-23T12:49:04.927923Z"
    },
    "papermill": {
     "duration": 0.387597,
     "end_time": "2021-07-23T17:48:24.285120",
     "exception": false,
     "start_time": "2021-07-23T17:48:23.897523",
     "status": "completed"
    },
    "tags": []
   },
   "outputs": [
    {
     "name": "stdout",
     "output_type": "stream",
     "text": [
      "number of char ngrams:  (300, 217430)\n",
      "number of word ngrams:  (300, 501021)\n",
      "number of char sequences:  (300, 199898)\n",
      "number of syllable ngrams:  (300, 2508011)\n",
      "number of syntactic ngrams:  (300, 294884)\n",
      "number of char+word ngrams:  (300, 718451)\n",
      "number of word + sn ngrams:  (300, 795905)\n",
      "number of char sequences+ words:  (300, 700919)\n",
      "number of char + syllable ngrams:  (300, 2725441)\n",
      "number of syllable + word ngrams:  (300, 3009032)\n",
      "number of char + syllable + words ngrams:  (300, 3226462)\n"
     ]
    }
   ],
   "source": [
    "print('number of char ngrams: ', train_char_features.shape)\n",
    "print('number of word ngrams: ', train_word_features.shape)\n",
    "print('number of char sequences: ', train_cs_features.shape)\n",
    "print('number of syllable ngrams: ', train_syl_features.shape)\n",
    "print('number of syntactic ngrams: ', train_sn_features.shape)\n",
    "print('number of char+word ngrams: ', x_train_char_word.shape)\n",
    "print('number of word + sn ngrams: ', x_train_word_sn.shape)\n",
    "print('number of char sequences+ words: ', x_train_cs_word.shape)\n",
    "print('number of char + syllable ngrams: ', x_train_char_syl.shape)\n",
    "print('number of syllable + word ngrams: ', x_train_syl_word.shape)\n",
    "print('number of char + syllable + words ngrams: ', x_train_char_syl_word.shape)"
   ]
  },
  {
   "cell_type": "markdown",
   "metadata": {
    "papermill": {
     "duration": 0.355681,
     "end_time": "2021-07-23T17:48:24.993390",
     "exception": false,
     "start_time": "2021-07-23T17:48:24.637709",
     "status": "completed"
    },
    "tags": []
   },
   "source": [
    "# Seleceting top frequent features only"
   ]
  },
  {
   "cell_type": "code",
   "execution_count": 21,
   "metadata": {
    "execution": {
     "iopub.execute_input": "2021-07-23T17:48:26.953483Z",
     "iopub.status.busy": "2021-07-23T17:48:25.860662Z",
     "iopub.status.idle": "2021-07-23T17:55:58.506005Z",
     "shell.execute_reply": "2021-07-23T17:55:58.505315Z",
     "shell.execute_reply.started": "2021-07-23T12:49:04.942012Z"
    },
    "papermill": {
     "duration": 453.15661,
     "end_time": "2021-07-23T17:55:58.506170",
     "exception": false,
     "start_time": "2021-07-23T17:48:25.349560",
     "status": "completed"
    },
    "tags": []
   },
   "outputs": [],
   "source": [
    "sentences=list(train_en.cleaned)\n",
    "\n",
    "from scipy.sparse import hstack\n",
    "word_vectorizer = TfidfVectorizer(\n",
    "    sublinear_tf=True,\n",
    "    strip_accents='unicode',\n",
    "    analyzer='word',\n",
    "    max_features=30000,\n",
    "    ngram_range=(1, 3))\n",
    "\n",
    "char_vectorizer = TfidfVectorizer(\n",
    "    sublinear_tf=True,\n",
    "    strip_accents='unicode',\n",
    "    analyzer='char',\n",
    "    max_features=30000,\n",
    "    ngram_range=(2, 5))\n",
    "\n",
    "syl_vectorizer = TfidfVectorizer(\n",
    "    sublinear_tf=True,\n",
    "    strip_accents='unicode',\n",
    "    max_features=30000,\n",
    "    analyzer=feat)\n",
    "\n",
    "sn_vectorizer = TfidfVectorizer(\n",
    "    sublinear_tf=True,\n",
    "    strip_accents='unicode',\n",
    "    max_features=30000,\n",
    "    analyzer=get_ngram_features)\n",
    "\n",
    "cs_vectorizer = TfidfVectorizer(\n",
    "    sublinear_tf=True,\n",
    "    strip_accents='unicode',\n",
    "    max_features=30000,\n",
    "    analyzer=ngram_extractor)\n",
    "\n",
    "\n",
    "\n",
    "syl_vectorizer.fit(sentences)\n",
    "word_vectorizer.fit(sentences)\n",
    "char_vectorizer.fit(sentences)\n",
    "sn_vectorizer.fit(sentences)\n",
    "cs_vectorizer.fit(sentences)\n",
    "\n",
    "\n",
    "\n",
    "train_word_features = word_vectorizer.transform(train_en.cleaned)\n",
    "test_word_features = word_vectorizer.transform(test_en.cleaned)\n",
    "\n",
    "train_char_features = char_vectorizer.transform(train_en.cleaned)\n",
    "test_char_features = char_vectorizer.transform(test_en.cleaned)\n",
    "\n",
    "\n",
    "train_syl_features = syl_vectorizer.transform(train_en.cleaned)\n",
    "test_syl_features = syl_vectorizer.transform(test_en.cleaned)\n",
    "\n",
    "train_sn_features = sn_vectorizer.transform(train_en.cleaned)\n",
    "test_sn_features = sn_vectorizer.transform(test_en.cleaned)\n",
    "\n",
    "train_cs_features = cs_vectorizer.transform(train_en.cleaned)\n",
    "test_cs_features = cs_vectorizer.transform(test_en.cleaned)\n",
    "\n",
    "\n",
    "x_train_char_word = hstack([train_char_features, train_word_features])\n",
    "x_test_char_word = hstack([test_char_features, test_word_features])\n",
    "\n",
    "x_train_cs_word = hstack([train_cs_features, train_word_features])\n",
    "x_test_cs_word = hstack([test_cs_features, test_word_features])\n",
    "\n",
    "x_train_char_syl = hstack([train_char_features, train_syl_features])\n",
    "x_test_char_syl = hstack([test_char_features, test_syl_features])\n",
    "\n",
    "x_train_syl_word = hstack([train_syl_features, train_word_features])\n",
    "x_test_syl_word = hstack([test_syl_features, test_word_features])\n",
    "\n",
    "x_train_word_sn = hstack([train_word_features, train_sn_features])\n",
    "x_test_word_sn = hstack([test_word_features, test_sn_features])\n",
    "\n",
    "\n",
    "x_train_char_syl_word=hstack([train_char_features, train_syl_features,train_word_features ])\n",
    "x_test_char_syl_word=hstack([test_char_features, test_syl_features,test_word_features ])"
   ]
  },
  {
   "cell_type": "markdown",
   "metadata": {
    "papermill": {
     "duration": 0.345244,
     "end_time": "2021-07-23T17:55:59.198852",
     "exception": false,
     "start_time": "2021-07-23T17:55:58.853608",
     "status": "completed"
    },
    "tags": []
   },
   "source": [
    "## char ngrams"
   ]
  },
  {
   "cell_type": "code",
   "execution_count": 22,
   "metadata": {
    "execution": {
     "iopub.execute_input": "2021-07-23T17:55:59.899729Z",
     "iopub.status.busy": "2021-07-23T17:55:59.899063Z",
     "iopub.status.idle": "2021-07-23T18:04:33.853170Z",
     "shell.execute_reply": "2021-07-23T18:04:33.853749Z",
     "shell.execute_reply.started": "2021-07-23T12:56:34.314082Z"
    },
    "papermill": {
     "duration": 514.311452,
     "end_time": "2021-07-23T18:04:33.854015",
     "exception": false,
     "start_time": "2021-07-23T17:55:59.542563",
     "status": "completed"
    },
    "tags": []
   },
   "outputs": [
    {
     "name": "stdout",
     "output_type": "stream",
     "text": [
      "LR\n",
      "              precision    recall  f1-score   support\n",
      "\n",
      "           0     0.7500    0.7200    0.7347       100\n",
      "           1     0.7308    0.7600    0.7451       100\n",
      "\n",
      "    accuracy                         0.7400       200\n",
      "   macro avg     0.7404    0.7400    0.7399       200\n",
      "weighted avg     0.7404    0.7400    0.7399       200\n",
      "\n",
      "-------------------------------------------------------------\n",
      "lsvc\n",
      "              precision    recall  f1-score   support\n",
      "\n",
      "           0     0.7340    0.6900    0.7113       100\n",
      "           1     0.7075    0.7500    0.7282       100\n",
      "\n",
      "    accuracy                         0.7200       200\n",
      "   macro avg     0.7208    0.7200    0.7197       200\n",
      "weighted avg     0.7208    0.7200    0.7197       200\n",
      "\n",
      "-------------------------------------------------------------\n",
      "RFC\n",
      "              precision    recall  f1-score   support\n",
      "\n",
      "           0     0.7204    0.6700    0.6943       100\n",
      "           1     0.6916    0.7400    0.7150       100\n",
      "\n",
      "    accuracy                         0.7050       200\n",
      "   macro avg     0.7060    0.7050    0.7046       200\n",
      "weighted avg     0.7060    0.7050    0.7046       200\n",
      "\n",
      "-------------------------------------------------------------\n",
      "soft voting\n",
      "              precision    recall  f1-score   support\n",
      "\n",
      "           0     0.7423    0.7200    0.7310       100\n",
      "           1     0.7282    0.7500    0.7389       100\n",
      "\n",
      "    accuracy                         0.7350       200\n",
      "   macro avg     0.7352    0.7350    0.7349       200\n",
      "weighted avg     0.7352    0.7350    0.7349       200\n",
      "\n",
      "-------------------------------------------------------------\n",
      "hard voting\n",
      "              precision    recall  f1-score   support\n",
      "\n",
      "           0     0.7320    0.7100    0.7208       100\n",
      "           1     0.7184    0.7400    0.7291       100\n",
      "\n",
      "    accuracy                         0.7250       200\n",
      "   macro avg     0.7252    0.7250    0.7249       200\n",
      "weighted avg     0.7252    0.7250    0.7249       200\n",
      "\n"
     ]
    }
   ],
   "source": [
    "train_classifiers(train_char_features,test_char_features,y_train,y_test)"
   ]
  },
  {
   "cell_type": "markdown",
   "metadata": {
    "papermill": {
     "duration": 0.356316,
     "end_time": "2021-07-23T18:04:34.587957",
     "exception": false,
     "start_time": "2021-07-23T18:04:34.231641",
     "status": "completed"
    },
    "tags": []
   },
   "source": [
    "## char sequences"
   ]
  },
  {
   "cell_type": "code",
   "execution_count": 23,
   "metadata": {
    "execution": {
     "iopub.execute_input": "2021-07-23T18:04:35.323206Z",
     "iopub.status.busy": "2021-07-23T18:04:35.322480Z",
     "iopub.status.idle": "2021-07-23T18:11:38.482632Z",
     "shell.execute_reply": "2021-07-23T18:11:38.483166Z",
     "shell.execute_reply.started": "2021-07-23T13:05:03.008074Z"
    },
    "papermill": {
     "duration": 423.524374,
     "end_time": "2021-07-23T18:11:38.483393",
     "exception": false,
     "start_time": "2021-07-23T18:04:34.959019",
     "status": "completed"
    },
    "tags": []
   },
   "outputs": [
    {
     "name": "stdout",
     "output_type": "stream",
     "text": [
      "LR\n",
      "              precision    recall  f1-score   support\n",
      "\n",
      "           0     0.7396    0.7100    0.7245       100\n",
      "           1     0.7212    0.7500    0.7353       100\n",
      "\n",
      "    accuracy                         0.7300       200\n",
      "   macro avg     0.7304    0.7300    0.7299       200\n",
      "weighted avg     0.7304    0.7300    0.7299       200\n",
      "\n",
      "-------------------------------------------------------------\n",
      "lsvc\n",
      "              precision    recall  f1-score   support\n",
      "\n",
      "           0     0.7292    0.7000    0.7143       100\n",
      "           1     0.7115    0.7400    0.7255       100\n",
      "\n",
      "    accuracy                         0.7200       200\n",
      "   macro avg     0.7204    0.7200    0.7199       200\n",
      "weighted avg     0.7204    0.7200    0.7199       200\n",
      "\n",
      "-------------------------------------------------------------\n",
      "RFC\n",
      "              precision    recall  f1-score   support\n",
      "\n",
      "           0     0.7312    0.6800    0.7047       100\n",
      "           1     0.7009    0.7500    0.7246       100\n",
      "\n",
      "    accuracy                         0.7150       200\n",
      "   macro avg     0.7161    0.7150    0.7147       200\n",
      "weighted avg     0.7161    0.7150    0.7147       200\n",
      "\n",
      "-------------------------------------------------------------\n",
      "soft voting\n",
      "              precision    recall  f1-score   support\n",
      "\n",
      "           0     0.7320    0.7100    0.7208       100\n",
      "           1     0.7184    0.7400    0.7291       100\n",
      "\n",
      "    accuracy                         0.7250       200\n",
      "   macro avg     0.7252    0.7250    0.7249       200\n",
      "weighted avg     0.7252    0.7250    0.7249       200\n",
      "\n",
      "-------------------------------------------------------------\n",
      "hard voting\n",
      "              precision    recall  f1-score   support\n",
      "\n",
      "           0     0.7320    0.7100    0.7208       100\n",
      "           1     0.7184    0.7400    0.7291       100\n",
      "\n",
      "    accuracy                         0.7250       200\n",
      "   macro avg     0.7252    0.7250    0.7249       200\n",
      "weighted avg     0.7252    0.7250    0.7249       200\n",
      "\n"
     ]
    }
   ],
   "source": [
    "train_classifiers(train_cs_features,test_cs_features,y_train,y_test)"
   ]
  },
  {
   "cell_type": "markdown",
   "metadata": {
    "papermill": {
     "duration": 0.357978,
     "end_time": "2021-07-23T18:11:39.199541",
     "exception": false,
     "start_time": "2021-07-23T18:11:38.841563",
     "status": "completed"
    },
    "tags": []
   },
   "source": [
    "## word ngrams"
   ]
  },
  {
   "cell_type": "code",
   "execution_count": 24,
   "metadata": {
    "execution": {
     "iopub.execute_input": "2021-07-23T18:11:39.927949Z",
     "iopub.status.busy": "2021-07-23T18:11:39.922223Z",
     "iopub.status.idle": "2021-07-23T18:14:21.956705Z",
     "shell.execute_reply": "2021-07-23T18:14:21.957221Z",
     "shell.execute_reply.started": "2021-07-23T13:11:53.729484Z"
    },
    "papermill": {
     "duration": 162.401884,
     "end_time": "2021-07-23T18:14:21.957440",
     "exception": false,
     "start_time": "2021-07-23T18:11:39.555556",
     "status": "completed"
    },
    "tags": []
   },
   "outputs": [
    {
     "name": "stdout",
     "output_type": "stream",
     "text": [
      "LR\n",
      "              precision    recall  f1-score   support\n",
      "\n",
      "           0     0.7684    0.7300    0.7487       100\n",
      "           1     0.7429    0.7800    0.7610       100\n",
      "\n",
      "    accuracy                         0.7550       200\n",
      "   macro avg     0.7556    0.7550    0.7548       200\n",
      "weighted avg     0.7556    0.7550    0.7548       200\n",
      "\n",
      "-------------------------------------------------------------\n",
      "lsvc\n",
      "              precision    recall  f1-score   support\n",
      "\n",
      "           0     0.7604    0.7300    0.7449       100\n",
      "           1     0.7404    0.7700    0.7549       100\n",
      "\n",
      "    accuracy                         0.7500       200\n",
      "   macro avg     0.7504    0.7500    0.7499       200\n",
      "weighted avg     0.7504    0.7500    0.7499       200\n",
      "\n",
      "-------------------------------------------------------------\n",
      "RFC\n",
      "              precision    recall  f1-score   support\n",
      "\n",
      "           0     0.7711    0.6400    0.6995       100\n",
      "           1     0.6923    0.8100    0.7465       100\n",
      "\n",
      "    accuracy                         0.7250       200\n",
      "   macro avg     0.7317    0.7250    0.7230       200\n",
      "weighted avg     0.7317    0.7250    0.7230       200\n",
      "\n",
      "-------------------------------------------------------------\n",
      "soft voting\n",
      "              precision    recall  f1-score   support\n",
      "\n",
      "           0     0.7634    0.7100    0.7358       100\n",
      "           1     0.7290    0.7800    0.7536       100\n",
      "\n",
      "    accuracy                         0.7450       200\n",
      "   macro avg     0.7462    0.7450    0.7447       200\n",
      "weighted avg     0.7462    0.7450    0.7447       200\n",
      "\n",
      "-------------------------------------------------------------\n",
      "hard voting\n",
      "              precision    recall  f1-score   support\n",
      "\n",
      "           0     0.7634    0.7100    0.7358       100\n",
      "           1     0.7290    0.7800    0.7536       100\n",
      "\n",
      "    accuracy                         0.7450       200\n",
      "   macro avg     0.7462    0.7450    0.7447       200\n",
      "weighted avg     0.7462    0.7450    0.7447       200\n",
      "\n"
     ]
    }
   ],
   "source": [
    "train_classifiers(train_word_features,test_word_features,y_train,y_test)"
   ]
  },
  {
   "cell_type": "markdown",
   "metadata": {
    "papermill": {
     "duration": 0.35501,
     "end_time": "2021-07-23T18:14:22.668969",
     "exception": false,
     "start_time": "2021-07-23T18:14:22.313959",
     "status": "completed"
    },
    "tags": []
   },
   "source": [
    "## Syllables"
   ]
  },
  {
   "cell_type": "code",
   "execution_count": 25,
   "metadata": {
    "execution": {
     "iopub.execute_input": "2021-07-23T18:14:23.388285Z",
     "iopub.status.busy": "2021-07-23T18:14:23.387663Z",
     "iopub.status.idle": "2021-07-23T18:17:53.025304Z",
     "shell.execute_reply": "2021-07-23T18:17:53.025869Z",
     "shell.execute_reply.started": "2021-07-23T13:14:26.123941Z"
    },
    "papermill": {
     "duration": 209.996727,
     "end_time": "2021-07-23T18:17:53.026053",
     "exception": false,
     "start_time": "2021-07-23T18:14:23.029326",
     "status": "completed"
    },
    "tags": []
   },
   "outputs": [
    {
     "name": "stdout",
     "output_type": "stream",
     "text": [
      "LR\n",
      "              precision    recall  f1-score   support\n",
      "\n",
      "           0     0.7660    0.7200    0.7423       100\n",
      "           1     0.7358    0.7800    0.7573       100\n",
      "\n",
      "    accuracy                         0.7500       200\n",
      "   macro avg     0.7509    0.7500    0.7498       200\n",
      "weighted avg     0.7509    0.7500    0.7498       200\n",
      "\n",
      "-------------------------------------------------------------\n",
      "lsvc\n",
      "              precision    recall  f1-score   support\n",
      "\n",
      "           0     0.7273    0.7200    0.7236       100\n",
      "           1     0.7228    0.7300    0.7264       100\n",
      "\n",
      "    accuracy                         0.7250       200\n",
      "   macro avg     0.7250    0.7250    0.7250       200\n",
      "weighted avg     0.7250    0.7250    0.7250       200\n",
      "\n",
      "-------------------------------------------------------------\n",
      "RFC\n",
      "              precision    recall  f1-score   support\n",
      "\n",
      "           0     0.6814    0.7700    0.7230       100\n",
      "           1     0.7356    0.6400    0.6845       100\n",
      "\n",
      "    accuracy                         0.7050       200\n",
      "   macro avg     0.7085    0.7050    0.7037       200\n",
      "weighted avg     0.7085    0.7050    0.7037       200\n",
      "\n",
      "-------------------------------------------------------------\n",
      "soft voting\n",
      "              precision    recall  f1-score   support\n",
      "\n",
      "           0     0.7374    0.7300    0.7337       100\n",
      "           1     0.7327    0.7400    0.7363       100\n",
      "\n",
      "    accuracy                         0.7350       200\n",
      "   macro avg     0.7350    0.7350    0.7350       200\n",
      "weighted avg     0.7350    0.7350    0.7350       200\n",
      "\n",
      "-------------------------------------------------------------\n",
      "hard voting\n",
      "              precision    recall  f1-score   support\n",
      "\n",
      "           0     0.7320    0.7100    0.7208       100\n",
      "           1     0.7184    0.7400    0.7291       100\n",
      "\n",
      "    accuracy                         0.7250       200\n",
      "   macro avg     0.7252    0.7250    0.7249       200\n",
      "weighted avg     0.7252    0.7250    0.7249       200\n",
      "\n"
     ]
    }
   ],
   "source": [
    "train_classifiers(train_syl_features,test_syl_features,y_train,y_test)"
   ]
  },
  {
   "cell_type": "markdown",
   "metadata": {
    "papermill": {
     "duration": 0.352411,
     "end_time": "2021-07-23T18:17:53.735471",
     "exception": false,
     "start_time": "2021-07-23T18:17:53.383060",
     "status": "completed"
    },
    "tags": []
   },
   "source": [
    "## Syntactic ngrams"
   ]
  },
  {
   "cell_type": "code",
   "execution_count": 26,
   "metadata": {
    "execution": {
     "iopub.execute_input": "2021-07-23T18:17:54.456185Z",
     "iopub.status.busy": "2021-07-23T18:17:54.455215Z",
     "iopub.status.idle": "2021-07-23T18:19:58.280213Z",
     "shell.execute_reply": "2021-07-23T18:19:58.280729Z",
     "shell.execute_reply.started": "2021-07-23T13:17:52.074055Z"
    },
    "papermill": {
     "duration": 124.187699,
     "end_time": "2021-07-23T18:19:58.280909",
     "exception": false,
     "start_time": "2021-07-23T18:17:54.093210",
     "status": "completed"
    },
    "tags": []
   },
   "outputs": [
    {
     "name": "stdout",
     "output_type": "stream",
     "text": [
      "LR\n",
      "              precision    recall  f1-score   support\n",
      "\n",
      "           0     0.7263    0.6900    0.7077       100\n",
      "           1     0.7048    0.7400    0.7220       100\n",
      "\n",
      "    accuracy                         0.7150       200\n",
      "   macro avg     0.7155    0.7150    0.7148       200\n",
      "weighted avg     0.7155    0.7150    0.7148       200\n",
      "\n",
      "-------------------------------------------------------------\n",
      "lsvc\n",
      "              precision    recall  f1-score   support\n",
      "\n",
      "           0     0.7368    0.7000    0.7179       100\n",
      "           1     0.7143    0.7500    0.7317       100\n",
      "\n",
      "    accuracy                         0.7250       200\n",
      "   macro avg     0.7256    0.7250    0.7248       200\n",
      "weighted avg     0.7256    0.7250    0.7248       200\n",
      "\n",
      "-------------------------------------------------------------\n",
      "RFC\n",
      "              precision    recall  f1-score   support\n",
      "\n",
      "           0     0.6694    0.8300    0.7411       100\n",
      "           1     0.7763    0.5900    0.6705       100\n",
      "\n",
      "    accuracy                         0.7100       200\n",
      "   macro avg     0.7228    0.7100    0.7058       200\n",
      "weighted avg     0.7228    0.7100    0.7058       200\n",
      "\n",
      "-------------------------------------------------------------\n",
      "soft voting\n",
      "              precision    recall  f1-score   support\n",
      "\n",
      "           0     0.7273    0.7200    0.7236       100\n",
      "           1     0.7228    0.7300    0.7264       100\n",
      "\n",
      "    accuracy                         0.7250       200\n",
      "   macro avg     0.7250    0.7250    0.7250       200\n",
      "weighted avg     0.7250    0.7250    0.7250       200\n",
      "\n",
      "-------------------------------------------------------------\n",
      "hard voting\n",
      "              precision    recall  f1-score   support\n",
      "\n",
      "           0     0.7292    0.7000    0.7143       100\n",
      "           1     0.7115    0.7400    0.7255       100\n",
      "\n",
      "    accuracy                         0.7200       200\n",
      "   macro avg     0.7204    0.7200    0.7199       200\n",
      "weighted avg     0.7204    0.7200    0.7199       200\n",
      "\n"
     ]
    }
   ],
   "source": [
    "train_classifiers(train_sn_features,test_sn_features,y_train,y_test)"
   ]
  },
  {
   "cell_type": "markdown",
   "metadata": {
    "papermill": {
     "duration": 0.363737,
     "end_time": "2021-07-23T18:19:59.006514",
     "exception": false,
     "start_time": "2021-07-23T18:19:58.642777",
     "status": "completed"
    },
    "tags": []
   },
   "source": [
    "## char word"
   ]
  },
  {
   "cell_type": "code",
   "execution_count": 27,
   "metadata": {
    "execution": {
     "iopub.execute_input": "2021-07-23T18:19:59.736986Z",
     "iopub.status.busy": "2021-07-23T18:19:59.736312Z",
     "iopub.status.idle": "2021-07-23T18:28:39.906136Z",
     "shell.execute_reply": "2021-07-23T18:28:39.906666Z",
     "shell.execute_reply.started": "2021-07-23T13:19:58.694565Z"
    },
    "papermill": {
     "duration": 520.537789,
     "end_time": "2021-07-23T18:28:39.906853",
     "exception": false,
     "start_time": "2021-07-23T18:19:59.369064",
     "status": "completed"
    },
    "tags": []
   },
   "outputs": [
    {
     "name": "stdout",
     "output_type": "stream",
     "text": [
      "LR\n",
      "              precision    recall  f1-score   support\n",
      "\n",
      "           0     0.7634    0.7100    0.7358       100\n",
      "           1     0.7290    0.7800    0.7536       100\n",
      "\n",
      "    accuracy                         0.7450       200\n",
      "   macro avg     0.7462    0.7450    0.7447       200\n",
      "weighted avg     0.7462    0.7450    0.7447       200\n",
      "\n",
      "-------------------------------------------------------------\n",
      "lsvc\n",
      "              precision    recall  f1-score   support\n",
      "\n",
      "           0     0.7660    0.7200    0.7423       100\n",
      "           1     0.7358    0.7800    0.7573       100\n",
      "\n",
      "    accuracy                         0.7500       200\n",
      "   macro avg     0.7509    0.7500    0.7498       200\n",
      "weighted avg     0.7509    0.7500    0.7498       200\n",
      "\n",
      "-------------------------------------------------------------\n",
      "RFC\n",
      "              precision    recall  f1-score   support\n",
      "\n",
      "           0     0.7234    0.6800    0.7010       100\n",
      "           1     0.6981    0.7400    0.7184       100\n",
      "\n",
      "    accuracy                         0.7100       200\n",
      "   macro avg     0.7108    0.7100    0.7097       200\n",
      "weighted avg     0.7108    0.7100    0.7097       200\n",
      "\n",
      "-------------------------------------------------------------\n",
      "soft voting\n",
      "              precision    recall  f1-score   support\n",
      "\n",
      "           0     0.7609    0.7000    0.7292       100\n",
      "           1     0.7222    0.7800    0.7500       100\n",
      "\n",
      "    accuracy                         0.7400       200\n",
      "   macro avg     0.7415    0.7400    0.7396       200\n",
      "weighted avg     0.7415    0.7400    0.7396       200\n",
      "\n",
      "-------------------------------------------------------------\n",
      "hard voting\n",
      "              precision    recall  f1-score   support\n",
      "\n",
      "           0     0.7634    0.7100    0.7358       100\n",
      "           1     0.7290    0.7800    0.7536       100\n",
      "\n",
      "    accuracy                         0.7450       200\n",
      "   macro avg     0.7462    0.7450    0.7447       200\n",
      "weighted avg     0.7462    0.7450    0.7447       200\n",
      "\n"
     ]
    }
   ],
   "source": [
    "train_classifiers(x_train_char_word,x_test_char_word,y_train,y_test)"
   ]
  },
  {
   "cell_type": "markdown",
   "metadata": {
    "papermill": {
     "duration": 0.355155,
     "end_time": "2021-07-23T18:28:40.621214",
     "exception": false,
     "start_time": "2021-07-23T18:28:40.266059",
     "status": "completed"
    },
    "tags": []
   },
   "source": [
    "## char sequence + word"
   ]
  },
  {
   "cell_type": "code",
   "execution_count": 28,
   "metadata": {
    "execution": {
     "iopub.execute_input": "2021-07-23T18:28:41.349681Z",
     "iopub.status.busy": "2021-07-23T18:28:41.349067Z",
     "iopub.status.idle": "2021-07-23T18:36:06.350226Z",
     "shell.execute_reply": "2021-07-23T18:36:06.350735Z",
     "shell.execute_reply.started": "2021-07-23T13:28:58.407699Z"
    },
    "papermill": {
     "duration": 445.366568,
     "end_time": "2021-07-23T18:36:06.350915",
     "exception": false,
     "start_time": "2021-07-23T18:28:40.984347",
     "status": "completed"
    },
    "tags": []
   },
   "outputs": [
    {
     "name": "stdout",
     "output_type": "stream",
     "text": [
      "LR\n",
      "              precision    recall  f1-score   support\n",
      "\n",
      "           0     0.7500    0.7200    0.7347       100\n",
      "           1     0.7308    0.7600    0.7451       100\n",
      "\n",
      "    accuracy                         0.7400       200\n",
      "   macro avg     0.7404    0.7400    0.7399       200\n",
      "weighted avg     0.7404    0.7400    0.7399       200\n",
      "\n",
      "-------------------------------------------------------------\n",
      "lsvc\n",
      "              precision    recall  f1-score   support\n",
      "\n",
      "           0     0.7579    0.7200    0.7385       100\n",
      "           1     0.7333    0.7700    0.7512       100\n",
      "\n",
      "    accuracy                         0.7450       200\n",
      "   macro avg     0.7456    0.7450    0.7448       200\n",
      "weighted avg     0.7456    0.7450    0.7448       200\n",
      "\n",
      "-------------------------------------------------------------\n",
      "RFC\n",
      "              precision    recall  f1-score   support\n",
      "\n",
      "           0     0.7234    0.6800    0.7010       100\n",
      "           1     0.6981    0.7400    0.7184       100\n",
      "\n",
      "    accuracy                         0.7100       200\n",
      "   macro avg     0.7108    0.7100    0.7097       200\n",
      "weighted avg     0.7108    0.7100    0.7097       200\n",
      "\n",
      "-------------------------------------------------------------\n",
      "soft voting\n",
      "              precision    recall  f1-score   support\n",
      "\n",
      "           0     0.7553    0.7100    0.7320       100\n",
      "           1     0.7264    0.7700    0.7476       100\n",
      "\n",
      "    accuracy                         0.7400       200\n",
      "   macro avg     0.7409    0.7400    0.7398       200\n",
      "weighted avg     0.7409    0.7400    0.7398       200\n",
      "\n",
      "-------------------------------------------------------------\n",
      "hard voting\n",
      "              precision    recall  f1-score   support\n",
      "\n",
      "           0     0.7604    0.7300    0.7449       100\n",
      "           1     0.7404    0.7700    0.7549       100\n",
      "\n",
      "    accuracy                         0.7500       200\n",
      "   macro avg     0.7504    0.7500    0.7499       200\n",
      "weighted avg     0.7504    0.7500    0.7499       200\n",
      "\n"
     ]
    }
   ],
   "source": [
    "train_classifiers(x_train_cs_word,x_test_cs_word,y_train,y_test)"
   ]
  },
  {
   "cell_type": "markdown",
   "metadata": {
    "papermill": {
     "duration": 0.361497,
     "end_time": "2021-07-23T18:36:07.073467",
     "exception": false,
     "start_time": "2021-07-23T18:36:06.711970",
     "status": "completed"
    },
    "tags": []
   },
   "source": [
    "## char+syllable"
   ]
  },
  {
   "cell_type": "code",
   "execution_count": 29,
   "metadata": {
    "execution": {
     "iopub.execute_input": "2021-07-23T18:36:07.795727Z",
     "iopub.status.busy": "2021-07-23T18:36:07.794743Z",
     "iopub.status.idle": "2021-07-23T18:45:05.575308Z",
     "shell.execute_reply": "2021-07-23T18:45:05.575864Z",
     "shell.execute_reply.started": "2021-07-23T13:36:32.205632Z"
    },
    "papermill": {
     "duration": 538.143629,
     "end_time": "2021-07-23T18:45:05.576048",
     "exception": false,
     "start_time": "2021-07-23T18:36:07.432419",
     "status": "completed"
    },
    "tags": []
   },
   "outputs": [
    {
     "name": "stdout",
     "output_type": "stream",
     "text": [
      "LR\n",
      "              precision    recall  f1-score   support\n",
      "\n",
      "           0     0.7396    0.7100    0.7245       100\n",
      "           1     0.7212    0.7500    0.7353       100\n",
      "\n",
      "    accuracy                         0.7300       200\n",
      "   macro avg     0.7304    0.7300    0.7299       200\n",
      "weighted avg     0.7304    0.7300    0.7299       200\n",
      "\n",
      "-------------------------------------------------------------\n",
      "lsvc\n",
      "              precision    recall  f1-score   support\n",
      "\n",
      "           0     0.7396    0.7100    0.7245       100\n",
      "           1     0.7212    0.7500    0.7353       100\n",
      "\n",
      "    accuracy                         0.7300       200\n",
      "   macro avg     0.7304    0.7300    0.7299       200\n",
      "weighted avg     0.7304    0.7300    0.7299       200\n",
      "\n",
      "-------------------------------------------------------------\n",
      "RFC\n",
      "              precision    recall  f1-score   support\n",
      "\n",
      "           0     0.7300    0.7300    0.7300       100\n",
      "           1     0.7300    0.7300    0.7300       100\n",
      "\n",
      "    accuracy                         0.7300       200\n",
      "   macro avg     0.7300    0.7300    0.7300       200\n",
      "weighted avg     0.7300    0.7300    0.7300       200\n",
      "\n",
      "-------------------------------------------------------------\n",
      "soft voting\n",
      "              precision    recall  f1-score   support\n",
      "\n",
      "           0     0.7449    0.7300    0.7374       100\n",
      "           1     0.7353    0.7500    0.7426       100\n",
      "\n",
      "    accuracy                         0.7400       200\n",
      "   macro avg     0.7401    0.7400    0.7400       200\n",
      "weighted avg     0.7401    0.7400    0.7400       200\n",
      "\n",
      "-------------------------------------------------------------\n",
      "hard voting\n",
      "              precision    recall  f1-score   support\n",
      "\n",
      "           0     0.7475    0.7400    0.7437       100\n",
      "           1     0.7426    0.7500    0.7463       100\n",
      "\n",
      "    accuracy                         0.7450       200\n",
      "   macro avg     0.7450    0.7450    0.7450       200\n",
      "weighted avg     0.7450    0.7450    0.7450       200\n",
      "\n"
     ]
    }
   ],
   "source": [
    "train_classifiers(x_train_char_syl,x_test_char_syl,y_train,y_test)"
   ]
  },
  {
   "cell_type": "markdown",
   "metadata": {
    "papermill": {
     "duration": 0.360321,
     "end_time": "2021-07-23T18:45:06.296520",
     "exception": false,
     "start_time": "2021-07-23T18:45:05.936199",
     "status": "completed"
    },
    "tags": []
   },
   "source": [
    "## Syl+words"
   ]
  },
  {
   "cell_type": "code",
   "execution_count": 30,
   "metadata": {
    "execution": {
     "iopub.execute_input": "2021-07-23T18:45:07.006504Z",
     "iopub.status.busy": "2021-07-23T18:45:07.005819Z",
     "iopub.status.idle": "2021-07-23T18:49:07.024104Z",
     "shell.execute_reply": "2021-07-23T18:49:07.024635Z",
     "shell.execute_reply.started": "2021-07-23T13:46:08.475874Z"
    },
    "papermill": {
     "duration": 240.371462,
     "end_time": "2021-07-23T18:49:07.024819",
     "exception": false,
     "start_time": "2021-07-23T18:45:06.653357",
     "status": "completed"
    },
    "tags": []
   },
   "outputs": [
    {
     "name": "stdout",
     "output_type": "stream",
     "text": [
      "LR\n",
      "              precision    recall  f1-score   support\n",
      "\n",
      "           0     0.7667    0.6900    0.7263       100\n",
      "           1     0.7182    0.7900    0.7524       100\n",
      "\n",
      "    accuracy                         0.7400       200\n",
      "   macro avg     0.7424    0.7400    0.7393       200\n",
      "weighted avg     0.7424    0.7400    0.7393       200\n",
      "\n",
      "-------------------------------------------------------------\n",
      "lsvc\n",
      "              precision    recall  f1-score   support\n",
      "\n",
      "           0     0.7582    0.6900    0.7225       100\n",
      "           1     0.7156    0.7800    0.7464       100\n",
      "\n",
      "    accuracy                         0.7350       200\n",
      "   macro avg     0.7369    0.7350    0.7345       200\n",
      "weighted avg     0.7369    0.7350    0.7345       200\n",
      "\n",
      "-------------------------------------------------------------\n",
      "RFC\n",
      "              precision    recall  f1-score   support\n",
      "\n",
      "           0     0.6881    0.7500    0.7177       100\n",
      "           1     0.7253    0.6600    0.6911       100\n",
      "\n",
      "    accuracy                         0.7050       200\n",
      "   macro avg     0.7067    0.7050    0.7044       200\n",
      "weighted avg     0.7067    0.7050    0.7044       200\n",
      "\n",
      "-------------------------------------------------------------\n",
      "soft voting\n",
      "              precision    recall  f1-score   support\n",
      "\n",
      "           0     0.7660    0.7200    0.7423       100\n",
      "           1     0.7358    0.7800    0.7573       100\n",
      "\n",
      "    accuracy                         0.7500       200\n",
      "   macro avg     0.7509    0.7500    0.7498       200\n",
      "weighted avg     0.7509    0.7500    0.7498       200\n",
      "\n",
      "-------------------------------------------------------------\n",
      "hard voting\n",
      "              precision    recall  f1-score   support\n",
      "\n",
      "           0     0.7582    0.6900    0.7225       100\n",
      "           1     0.7156    0.7800    0.7464       100\n",
      "\n",
      "    accuracy                         0.7350       200\n",
      "   macro avg     0.7369    0.7350    0.7345       200\n",
      "weighted avg     0.7369    0.7350    0.7345       200\n",
      "\n"
     ]
    }
   ],
   "source": [
    "train_classifiers(x_train_syl_word,x_test_syl_word,y_train,y_test)"
   ]
  },
  {
   "cell_type": "markdown",
   "metadata": {
    "papermill": {
     "duration": 0.366545,
     "end_time": "2021-07-23T18:49:07.751700",
     "exception": false,
     "start_time": "2021-07-23T18:49:07.385155",
     "status": "completed"
    },
    "tags": []
   },
   "source": [
    "## word sn"
   ]
  },
  {
   "cell_type": "code",
   "execution_count": 31,
   "metadata": {
    "execution": {
     "iopub.execute_input": "2021-07-23T18:49:08.487789Z",
     "iopub.status.busy": "2021-07-23T18:49:08.487119Z",
     "iopub.status.idle": "2021-07-23T18:52:02.790043Z",
     "shell.execute_reply": "2021-07-23T18:52:02.790567Z",
     "shell.execute_reply.started": "2021-07-23T13:50:28.994775Z"
    },
    "papermill": {
     "duration": 174.673719,
     "end_time": "2021-07-23T18:52:02.790767",
     "exception": false,
     "start_time": "2021-07-23T18:49:08.117048",
     "status": "completed"
    },
    "tags": []
   },
   "outputs": [
    {
     "name": "stdout",
     "output_type": "stream",
     "text": [
      "LR\n",
      "              precision    recall  f1-score   support\n",
      "\n",
      "           0     0.7629    0.7400    0.7513       100\n",
      "           1     0.7476    0.7700    0.7586       100\n",
      "\n",
      "    accuracy                         0.7550       200\n",
      "   macro avg     0.7552    0.7550    0.7549       200\n",
      "weighted avg     0.7552    0.7550    0.7549       200\n",
      "\n",
      "-------------------------------------------------------------\n",
      "lsvc\n",
      "              precision    recall  f1-score   support\n",
      "\n",
      "           0     0.7708    0.7400    0.7551       100\n",
      "           1     0.7500    0.7800    0.7647       100\n",
      "\n",
      "    accuracy                         0.7600       200\n",
      "   macro avg     0.7604    0.7600    0.7599       200\n",
      "weighted avg     0.7604    0.7600    0.7599       200\n",
      "\n",
      "-------------------------------------------------------------\n",
      "RFC\n",
      "              precision    recall  f1-score   support\n",
      "\n",
      "           0     0.7831    0.6500    0.7104       100\n",
      "           1     0.7009    0.8200    0.7558       100\n",
      "\n",
      "    accuracy                         0.7350       200\n",
      "   macro avg     0.7420    0.7350    0.7331       200\n",
      "weighted avg     0.7420    0.7350    0.7331       200\n",
      "\n",
      "-------------------------------------------------------------\n",
      "soft voting\n",
      "              precision    recall  f1-score   support\n",
      "\n",
      "           0     0.7553    0.7100    0.7320       100\n",
      "           1     0.7264    0.7700    0.7476       100\n",
      "\n",
      "    accuracy                         0.7400       200\n",
      "   macro avg     0.7409    0.7400    0.7398       200\n",
      "weighted avg     0.7409    0.7400    0.7398       200\n",
      "\n",
      "-------------------------------------------------------------\n",
      "hard voting\n",
      "              precision    recall  f1-score   support\n",
      "\n",
      "           0     0.7629    0.7400    0.7513       100\n",
      "           1     0.7476    0.7700    0.7586       100\n",
      "\n",
      "    accuracy                         0.7550       200\n",
      "   macro avg     0.7552    0.7550    0.7549       200\n",
      "weighted avg     0.7552    0.7550    0.7549       200\n",
      "\n"
     ]
    }
   ],
   "source": [
    "\n",
    "train_classifiers(x_train_word_sn,x_test_word_sn,y_train,y_test)"
   ]
  },
  {
   "cell_type": "markdown",
   "metadata": {
    "papermill": {
     "duration": 0.35736,
     "end_time": "2021-07-23T18:52:03.509817",
     "exception": false,
     "start_time": "2021-07-23T18:52:03.152457",
     "status": "completed"
    },
    "tags": []
   },
   "source": [
    "## char syllable words"
   ]
  },
  {
   "cell_type": "code",
   "execution_count": 32,
   "metadata": {
    "execution": {
     "iopub.execute_input": "2021-07-23T18:52:04.238257Z",
     "iopub.status.busy": "2021-07-23T18:52:04.237242Z",
     "iopub.status.idle": "2021-07-23T19:01:51.680149Z",
     "shell.execute_reply": "2021-07-23T19:01:51.680690Z",
     "shell.execute_reply.started": "2021-07-23T13:53:33.127041Z"
    },
    "papermill": {
     "duration": 587.808988,
     "end_time": "2021-07-23T19:01:51.680878",
     "exception": false,
     "start_time": "2021-07-23T18:52:03.871890",
     "status": "completed"
    },
    "tags": []
   },
   "outputs": [
    {
     "name": "stdout",
     "output_type": "stream",
     "text": [
      "LR\n",
      "              precision    recall  f1-score   support\n",
      "\n",
      "           0     0.7634    0.7100    0.7358       100\n",
      "           1     0.7290    0.7800    0.7536       100\n",
      "\n",
      "    accuracy                         0.7450       200\n",
      "   macro avg     0.7462    0.7450    0.7447       200\n",
      "weighted avg     0.7462    0.7450    0.7447       200\n",
      "\n",
      "-------------------------------------------------------------\n",
      "lsvc\n",
      "              precision    recall  f1-score   support\n",
      "\n",
      "           0     0.7660    0.7200    0.7423       100\n",
      "           1     0.7358    0.7800    0.7573       100\n",
      "\n",
      "    accuracy                         0.7500       200\n",
      "   macro avg     0.7509    0.7500    0.7498       200\n",
      "weighted avg     0.7509    0.7500    0.7498       200\n",
      "\n",
      "-------------------------------------------------------------\n",
      "RFC\n",
      "              precision    recall  f1-score   support\n",
      "\n",
      "           0     0.7300    0.7300    0.7300       100\n",
      "           1     0.7300    0.7300    0.7300       100\n",
      "\n",
      "    accuracy                         0.7300       200\n",
      "   macro avg     0.7300    0.7300    0.7300       200\n",
      "weighted avg     0.7300    0.7300    0.7300       200\n",
      "\n",
      "-------------------------------------------------------------\n",
      "soft voting\n",
      "              precision    recall  f1-score   support\n",
      "\n",
      "           0     0.7684    0.7300    0.7487       100\n",
      "           1     0.7429    0.7800    0.7610       100\n",
      "\n",
      "    accuracy                         0.7550       200\n",
      "   macro avg     0.7556    0.7550    0.7548       200\n",
      "weighted avg     0.7556    0.7550    0.7548       200\n",
      "\n",
      "-------------------------------------------------------------\n",
      "hard voting\n",
      "              precision    recall  f1-score   support\n",
      "\n",
      "           0     0.7634    0.7100    0.7358       100\n",
      "           1     0.7290    0.7800    0.7536       100\n",
      "\n",
      "    accuracy                         0.7450       200\n",
      "   macro avg     0.7462    0.7450    0.7447       200\n",
      "weighted avg     0.7462    0.7450    0.7447       200\n",
      "\n"
     ]
    }
   ],
   "source": [
    "train_classifiers(x_train_char_syl_word,x_test_char_syl_word,y_train,y_test)"
   ]
  },
  {
   "cell_type": "code",
   "execution_count": null,
   "metadata": {
    "papermill": {
     "duration": 0.358125,
     "end_time": "2021-07-23T19:01:52.391702",
     "exception": false,
     "start_time": "2021-07-23T19:01:52.033577",
     "status": "completed"
    },
    "tags": []
   },
   "outputs": [],
   "source": []
  },
  {
   "cell_type": "code",
   "execution_count": null,
   "metadata": {
    "papermill": {
     "duration": 0.360747,
     "end_time": "2021-07-23T19:01:53.108334",
     "exception": false,
     "start_time": "2021-07-23T19:01:52.747587",
     "status": "completed"
    },
    "tags": []
   },
   "outputs": [],
   "source": []
  },
  {
   "cell_type": "code",
   "execution_count": null,
   "metadata": {
    "papermill": {
     "duration": 0.361565,
     "end_time": "2021-07-23T19:01:53.822595",
     "exception": false,
     "start_time": "2021-07-23T19:01:53.461030",
     "status": "completed"
    },
    "tags": []
   },
   "outputs": [],
   "source": []
  },
  {
   "cell_type": "code",
   "execution_count": null,
   "metadata": {
    "papermill": {
     "duration": 0.362868,
     "end_time": "2021-07-23T19:01:54.552043",
     "exception": false,
     "start_time": "2021-07-23T19:01:54.189175",
     "status": "completed"
    },
    "tags": []
   },
   "outputs": [],
   "source": []
  },
  {
   "cell_type": "code",
   "execution_count": null,
   "metadata": {
    "papermill": {
     "duration": 0.363061,
     "end_time": "2021-07-23T19:01:55.273763",
     "exception": false,
     "start_time": "2021-07-23T19:01:54.910702",
     "status": "completed"
    },
    "tags": []
   },
   "outputs": [],
   "source": []
  },
  {
   "cell_type": "code",
   "execution_count": null,
   "metadata": {
    "papermill": {
     "duration": 0.357581,
     "end_time": "2021-07-23T19:01:55.985707",
     "exception": false,
     "start_time": "2021-07-23T19:01:55.628126",
     "status": "completed"
    },
    "tags": []
   },
   "outputs": [],
   "source": []
  },
  {
   "cell_type": "code",
   "execution_count": null,
   "metadata": {
    "papermill": {
     "duration": 0.360848,
     "end_time": "2021-07-23T19:01:56.702313",
     "exception": false,
     "start_time": "2021-07-23T19:01:56.341465",
     "status": "completed"
    },
    "tags": []
   },
   "outputs": [],
   "source": []
  },
  {
   "cell_type": "code",
   "execution_count": 33,
   "metadata": {
    "execution": {
     "iopub.execute_input": "2021-07-23T19:01:57.426159Z",
     "iopub.status.busy": "2021-07-23T19:01:57.425502Z",
     "iopub.status.idle": "2021-07-23T19:01:57.428296Z",
     "shell.execute_reply": "2021-07-23T19:01:57.427809Z",
     "shell.execute_reply.started": "2021-07-22T04:08:18.257161Z"
    },
    "papermill": {
     "duration": 0.369019,
     "end_time": "2021-07-23T19:01:57.428474",
     "exception": false,
     "start_time": "2021-07-23T19:01:57.059455",
     "status": "completed"
    },
    "tags": []
   },
   "outputs": [],
   "source": [
    "def train_model(classifier, feature_vector_train, label, feature_vector_valid, valid_label):\n",
    "    # fit the training dataset on the classifier\n",
    "    classifier.fit(feature_vector_train, label)\n",
    "    \n",
    "    # predict the labels on validation dataset\n",
    "    predictions = classifier.predict(feature_vector_valid)\n",
    "    \n",
    "    return classifier, metrics.accuracy_score(predictions, valid_label), metrics.classification_report(predictions, valid_label,digits=4)"
   ]
  },
  {
   "cell_type": "code",
   "execution_count": 34,
   "metadata": {
    "execution": {
     "iopub.execute_input": "2021-07-23T19:01:58.142802Z",
     "iopub.status.busy": "2021-07-23T19:01:58.142201Z",
     "iopub.status.idle": "2021-07-23T19:02:09.340965Z",
     "shell.execute_reply": "2021-07-23T19:02:09.341872Z",
     "shell.execute_reply.started": "2021-07-22T04:08:35.441274Z"
    },
    "papermill": {
     "duration": 11.559911,
     "end_time": "2021-07-23T19:02:09.342073",
     "exception": false,
     "start_time": "2021-07-23T19:01:57.782162",
     "status": "completed"
    },
    "tags": []
   },
   "outputs": [
    {
     "name": "stderr",
     "output_type": "stream",
     "text": [
      "The use of label encoder in XGBClassifier is deprecated and will be removed in a future release. To remove this warning, do the following: 1) Pass option use_label_encoder=False when constructing XGBClassifier object; and 2) Encode your labels (y) as integers starting with 0, i.e. 0, 1, 2, ..., [num_class - 1].\n"
     ]
    },
    {
     "name": "stdout",
     "output_type": "stream",
     "text": [
      "[19:01:58] WARNING: ../src/learner.cc:1095: Starting in XGBoost 1.3.0, the default evaluation metric used with the objective 'binary:logistic' was changed from 'error' to 'logloss'. Explicitly set eval_metric if you'd like to restore the old behavior.\n",
      "Xgb, Accuracy:  0.635\n",
      "              precision    recall  f1-score   support\n",
      "\n",
      "           0     0.6200    0.6392    0.6294        97\n",
      "           1     0.6500    0.6311    0.6404       103\n",
      "\n",
      "    accuracy                         0.6350       200\n",
      "   macro avg     0.6350    0.6351    0.6349       200\n",
      "weighted avg     0.6355    0.6350    0.6351       200\n",
      "\n"
     ]
    }
   ],
   "source": [
    "# Extereme Gradient Boosting on Count Vectors\n",
    "classifier, accuracy, confusion_matrix = train_model(xgboost.XGBClassifier(), train_char_features, y_train, test_char_features, y_test)\n",
    "print(\"Xgb, Accuracy: \", accuracy)\n",
    "print(confusion_matrix)"
   ]
  },
  {
   "cell_type": "code",
   "execution_count": 35,
   "metadata": {
    "execution": {
     "iopub.execute_input": "2021-07-23T19:02:10.083269Z",
     "iopub.status.busy": "2021-07-23T19:02:10.082535Z",
     "iopub.status.idle": "2021-07-23T19:03:23.250655Z",
     "shell.execute_reply": "2021-07-23T19:03:23.251140Z",
     "shell.execute_reply.started": "2021-07-22T04:08:56.998176Z"
    },
    "papermill": {
     "duration": 73.555161,
     "end_time": "2021-07-23T19:03:23.251294",
     "exception": false,
     "start_time": "2021-07-23T19:02:09.696133",
     "status": "completed"
    },
    "tags": []
   },
   "outputs": [
    {
     "name": "stderr",
     "output_type": "stream",
     "text": [
      "ntree_limit is deprecated, use `iteration_range` or model slicing instead.\n"
     ]
    },
    {
     "name": "stdout",
     "output_type": "stream",
     "text": [
      "time to compute Shapley values (s): 0.2420811653137207\n",
      "Cumulative Importance 100.0\n"
     ]
    }
   ],
   "source": [
    "vocab=ShapleyFiltering(classifier,train_char_features,char_vectorizer,15000)\n"
   ]
  },
  {
   "cell_type": "code",
   "execution_count": 36,
   "metadata": {
    "execution": {
     "iopub.execute_input": "2021-07-23T19:03:23.998995Z",
     "iopub.status.busy": "2021-07-23T19:03:23.994206Z",
     "iopub.status.idle": "2021-07-23T19:03:29.802675Z",
     "shell.execute_reply": "2021-07-23T19:03:29.802117Z",
     "shell.execute_reply.started": "2021-07-22T04:10:04.062184Z"
    },
    "papermill": {
     "duration": 6.196652,
     "end_time": "2021-07-23T19:03:29.802811",
     "exception": false,
     "start_time": "2021-07-23T19:03:23.606159",
     "status": "completed"
    },
    "tags": []
   },
   "outputs": [
    {
     "data": {
      "text/plain": [
       "TfidfVectorizer(analyzer='char', ngram_range=(2, 5), strip_accents='unicode',\n",
       "                sublinear_tf=True,\n",
       "                vocabulary=          tru      tag         bs      t ba       rai     rl us       bar  \\\n",
       "0    0.890163 -0.016491 -0.471654 -0.130093  0.142820  0.120922 -0.040013   \n",
       "1    0.882915  0.538169  0.232390 -0.102851  0.197417  0.137908  0.120971   \n",
       "2    0.617736  0.763886  0.373447 -0.169638  0.174929  0.162985 -0.172969   \n",
       "3   -0.649243  0.585357  0.294760 -0.141312 -0.224866  0.1...\n",
       "296 -0.175041  0.059986  0.071891  ...   0.0  0.0    0.0    0.0   0.0   0.0   \n",
       "297 -0.098283 -0.225431 -0.309183  ...   0.0  0.0    0.0    0.0   0.0   0.0   \n",
       "298 -0.130871 -0.212710 -0.104905  ...   0.0  0.0    0.0    0.0   0.0   0.0   \n",
       "299 -0.143807 -0.305772 -0.199977  ...   0.0  0.0    0.0    0.0   0.0   0.0   \n",
       "\n",
       "     shan  shame  sham  shake  \n",
       "0     0.0    0.0   0.0    0.0  \n",
       "1     0.0    0.0   0.0    0.0  \n",
       "2     0.0    0.0   0.0    0.0  \n",
       "3     0.0    0.0   0.0    0.0  \n",
       "4     0.0    0.0   0.0    0.0  \n",
       "..    ...    ...   ...    ...  \n",
       "295   0.0    0.0   0.0    0.0  \n",
       "296   0.0    0.0   0.0    0.0  \n",
       "297   0.0    0.0   0.0    0.0  \n",
       "298   0.0    0.0   0.0    0.0  \n",
       "299   0.0    0.0   0.0    0.0  \n",
       "\n",
       "[300 rows x 15000 columns])"
      ]
     },
     "execution_count": 36,
     "metadata": {},
     "output_type": "execute_result"
    }
   ],
   "source": [
    "char_vectorizer = TfidfVectorizer(\n",
    "    sublinear_tf=True,\n",
    "    strip_accents='unicode',\n",
    "    analyzer='char',\n",
    "    ngram_range=(2, 5),\n",
    "    vocabulary= vocab)\n",
    "char_vectorizer.fit(sentences)"
   ]
  },
  {
   "cell_type": "code",
   "execution_count": 37,
   "metadata": {
    "execution": {
     "iopub.execute_input": "2021-07-23T19:03:30.566087Z",
     "iopub.status.busy": "2021-07-23T19:03:30.560714Z",
     "iopub.status.idle": "2021-07-23T19:03:39.999905Z",
     "shell.execute_reply": "2021-07-23T19:03:39.999193Z",
     "shell.execute_reply.started": "2021-07-22T04:10:09.371699Z"
    },
    "papermill": {
     "duration": 9.833784,
     "end_time": "2021-07-23T19:03:40.000042",
     "exception": false,
     "start_time": "2021-07-23T19:03:30.166258",
     "status": "completed"
    },
    "tags": []
   },
   "outputs": [],
   "source": [
    "train_char_features = char_vectorizer.transform(train_en.cleaned)\n",
    "test_char_features = char_vectorizer.transform(test_en.cleaned)"
   ]
  },
  {
   "cell_type": "code",
   "execution_count": 38,
   "metadata": {
    "execution": {
     "iopub.execute_input": "2021-07-23T19:03:40.825924Z",
     "iopub.status.busy": "2021-07-23T19:03:40.825111Z",
     "iopub.status.idle": "2021-07-23T19:09:04.864126Z",
     "shell.execute_reply": "2021-07-23T19:09:04.864658Z",
     "shell.execute_reply.started": "2021-07-22T04:10:17.919908Z"
    },
    "papermill": {
     "duration": 324.45914,
     "end_time": "2021-07-23T19:09:04.864853",
     "exception": false,
     "start_time": "2021-07-23T19:03:40.405713",
     "status": "completed"
    },
    "tags": []
   },
   "outputs": [
    {
     "name": "stdout",
     "output_type": "stream",
     "text": [
      "LR\n",
      "              precision    recall  f1-score   support\n",
      "\n",
      "           0     0.7340    0.6900    0.7113       100\n",
      "           1     0.7075    0.7500    0.7282       100\n",
      "\n",
      "    accuracy                         0.7200       200\n",
      "   macro avg     0.7208    0.7200    0.7197       200\n",
      "weighted avg     0.7208    0.7200    0.7197       200\n",
      "\n",
      "-------------------------------------------------------------\n",
      "lsvc\n",
      "              precision    recall  f1-score   support\n",
      "\n",
      "           0     0.7419    0.6900    0.7150       100\n",
      "           1     0.7103    0.7600    0.7343       100\n",
      "\n",
      "    accuracy                         0.7250       200\n",
      "   macro avg     0.7261    0.7250    0.7247       200\n",
      "weighted avg     0.7261    0.7250    0.7247       200\n",
      "\n",
      "-------------------------------------------------------------\n",
      "RFC\n",
      "              precision    recall  f1-score   support\n",
      "\n",
      "           0     0.7312    0.6800    0.7047       100\n",
      "           1     0.7009    0.7500    0.7246       100\n",
      "\n",
      "    accuracy                         0.7150       200\n",
      "   macro avg     0.7161    0.7150    0.7147       200\n",
      "weighted avg     0.7161    0.7150    0.7147       200\n",
      "\n",
      "-------------------------------------------------------------\n",
      "soft voting\n",
      "              precision    recall  f1-score   support\n",
      "\n",
      "           0     0.7391    0.6800    0.7083       100\n",
      "           1     0.7037    0.7600    0.7308       100\n",
      "\n",
      "    accuracy                         0.7200       200\n",
      "   macro avg     0.7214    0.7200    0.7196       200\n",
      "weighted avg     0.7214    0.7200    0.7196       200\n",
      "\n",
      "-------------------------------------------------------------\n",
      "hard voting\n",
      "              precision    recall  f1-score   support\n",
      "\n",
      "           0     0.7419    0.6900    0.7150       100\n",
      "           1     0.7103    0.7600    0.7343       100\n",
      "\n",
      "    accuracy                         0.7250       200\n",
      "   macro avg     0.7261    0.7250    0.7247       200\n",
      "weighted avg     0.7261    0.7250    0.7247       200\n",
      "\n"
     ]
    }
   ],
   "source": [
    "train_classifiers(train_char_features,test_char_features,y_train,y_test)"
   ]
  },
  {
   "cell_type": "code",
   "execution_count": null,
   "metadata": {
    "papermill": {
     "duration": 0.371846,
     "end_time": "2021-07-23T19:09:05.612187",
     "exception": false,
     "start_time": "2021-07-23T19:09:05.240341",
     "status": "completed"
    },
    "tags": []
   },
   "outputs": [],
   "source": []
  },
  {
   "cell_type": "code",
   "execution_count": 39,
   "metadata": {
    "execution": {
     "iopub.execute_input": "2021-07-23T19:09:06.358200Z",
     "iopub.status.busy": "2021-07-23T19:09:06.357289Z",
     "iopub.status.idle": "2021-07-23T19:11:32.883913Z",
     "shell.execute_reply": "2021-07-23T19:11:32.884407Z",
     "shell.execute_reply.started": "2021-07-22T04:23:26.201339Z"
    },
    "papermill": {
     "duration": 146.902108,
     "end_time": "2021-07-23T19:11:32.884584",
     "exception": false,
     "start_time": "2021-07-23T19:09:05.982476",
     "status": "completed"
    },
    "tags": []
   },
   "outputs": [
    {
     "name": "stdout",
     "output_type": "stream",
     "text": [
      "LR\n",
      "              precision    recall  f1-score   support\n",
      "\n",
      "           0     0.7684    0.7300    0.7487       100\n",
      "           1     0.7429    0.7800    0.7610       100\n",
      "\n",
      "    accuracy                         0.7550       200\n",
      "   macro avg     0.7556    0.7550    0.7548       200\n",
      "weighted avg     0.7556    0.7550    0.7548       200\n",
      "\n",
      "-------------------------------------------------------------\n",
      "lsvc\n",
      "              precision    recall  f1-score   support\n",
      "\n",
      "           0     0.7604    0.7300    0.7449       100\n",
      "           1     0.7404    0.7700    0.7549       100\n",
      "\n",
      "    accuracy                         0.7500       200\n",
      "   macro avg     0.7504    0.7500    0.7499       200\n",
      "weighted avg     0.7504    0.7500    0.7499       200\n",
      "\n",
      "-------------------------------------------------------------\n",
      "RFC\n",
      "              precision    recall  f1-score   support\n",
      "\n",
      "           0     0.7711    0.6400    0.6995       100\n",
      "           1     0.6923    0.8100    0.7465       100\n",
      "\n",
      "    accuracy                         0.7250       200\n",
      "   macro avg     0.7317    0.7250    0.7230       200\n",
      "weighted avg     0.7317    0.7250    0.7230       200\n",
      "\n",
      "-------------------------------------------------------------\n",
      "soft voting\n",
      "              precision    recall  f1-score   support\n",
      "\n",
      "           0     0.7634    0.7100    0.7358       100\n",
      "           1     0.7290    0.7800    0.7536       100\n",
      "\n",
      "    accuracy                         0.7450       200\n",
      "   macro avg     0.7462    0.7450    0.7447       200\n",
      "weighted avg     0.7462    0.7450    0.7447       200\n",
      "\n",
      "-------------------------------------------------------------\n",
      "hard voting\n",
      "              precision    recall  f1-score   support\n",
      "\n",
      "           0     0.7634    0.7100    0.7358       100\n",
      "           1     0.7290    0.7800    0.7536       100\n",
      "\n",
      "    accuracy                         0.7450       200\n",
      "   macro avg     0.7462    0.7450    0.7447       200\n",
      "weighted avg     0.7462    0.7450    0.7447       200\n",
      "\n"
     ]
    }
   ],
   "source": [
    "train_classifiers(train_word_features,test_word_features,y_train,y_test)"
   ]
  },
  {
   "cell_type": "code",
   "execution_count": 40,
   "metadata": {
    "execution": {
     "iopub.execute_input": "2021-07-23T19:11:33.631141Z",
     "iopub.status.busy": "2021-07-23T19:11:33.630478Z",
     "iopub.status.idle": "2021-07-23T19:11:36.293983Z",
     "shell.execute_reply": "2021-07-23T19:11:36.294586Z",
     "shell.execute_reply.started": "2021-07-22T04:30:52.977671Z"
    },
    "papermill": {
     "duration": 3.050521,
     "end_time": "2021-07-23T19:11:36.294801",
     "exception": false,
     "start_time": "2021-07-23T19:11:33.244280",
     "status": "completed"
    },
    "tags": []
   },
   "outputs": [
    {
     "name": "stderr",
     "output_type": "stream",
     "text": [
      "The use of label encoder in XGBClassifier is deprecated and will be removed in a future release. To remove this warning, do the following: 1) Pass option use_label_encoder=False when constructing XGBClassifier object; and 2) Encode your labels (y) as integers starting with 0, i.e. 0, 1, 2, ..., [num_class - 1].\n"
     ]
    },
    {
     "name": "stdout",
     "output_type": "stream",
     "text": [
      "[19:11:33] WARNING: ../src/learner.cc:1095: Starting in XGBoost 1.3.0, the default evaluation metric used with the objective 'binary:logistic' was changed from 'error' to 'logloss'. Explicitly set eval_metric if you'd like to restore the old behavior.\n",
      "Xgb, Accuracy:  0.68\n",
      "              precision    recall  f1-score   support\n",
      "\n",
      "           0     0.6500    0.6915    0.6701        94\n",
      "           1     0.7100    0.6698    0.6893       106\n",
      "\n",
      "    accuracy                         0.6800       200\n",
      "   macro avg     0.6800    0.6807    0.6797       200\n",
      "weighted avg     0.6818    0.6800    0.6803       200\n",
      "\n"
     ]
    }
   ],
   "source": [
    "# Extereme Gradient Boosting on Count Vectors\n",
    "classifier, accuracy, confusion_matrix = train_model(xgboost.XGBClassifier(), train_word_features, y_train, test_word_features, y_test)\n",
    "print(\"Xgb, Accuracy: \", accuracy)\n",
    "print(confusion_matrix)"
   ]
  },
  {
   "cell_type": "code",
   "execution_count": 41,
   "metadata": {
    "execution": {
     "iopub.execute_input": "2021-07-23T19:11:37.046207Z",
     "iopub.status.busy": "2021-07-23T19:11:37.032337Z",
     "iopub.status.idle": "2021-07-23T19:12:52.256258Z",
     "shell.execute_reply": "2021-07-23T19:12:52.256757Z",
     "shell.execute_reply.started": "2021-07-22T04:31:26.093904Z"
    },
    "papermill": {
     "duration": 75.5952,
     "end_time": "2021-07-23T19:12:52.256917",
     "exception": false,
     "start_time": "2021-07-23T19:11:36.661717",
     "status": "completed"
    },
    "tags": []
   },
   "outputs": [
    {
     "name": "stderr",
     "output_type": "stream",
     "text": [
      "ntree_limit is deprecated, use `iteration_range` or model slicing instead.\n"
     ]
    },
    {
     "name": "stdout",
     "output_type": "stream",
     "text": [
      "time to compute Shapley values (s): 0.2196192741394043\n",
      "Cumulative Importance 100.0\n"
     ]
    }
   ],
   "source": [
    "wordvocab=ShapleyFiltering(classifier,train_word_features,word_vectorizer,15000)\n"
   ]
  },
  {
   "cell_type": "code",
   "execution_count": 42,
   "metadata": {
    "execution": {
     "iopub.execute_input": "2021-07-23T19:12:53.093436Z",
     "iopub.status.busy": "2021-07-23T19:12:53.056834Z",
     "iopub.status.idle": "2021-07-23T19:12:54.093714Z",
     "shell.execute_reply": "2021-07-23T19:12:54.093173Z",
     "shell.execute_reply.started": "2021-07-22T04:32:49.197037Z"
    },
    "papermill": {
     "duration": 1.464772,
     "end_time": "2021-07-23T19:12:54.093855",
     "exception": false,
     "start_time": "2021-07-23T19:12:52.629083",
     "status": "completed"
    },
    "tags": []
   },
   "outputs": [
    {
     "data": {
      "text/plain": [
       "TfidfVectorizer(ngram_range=(1, 3), strip_accents='unicode', sublinear_tf=True,\n",
       "                vocabulary=        trump   hashtag  url user    future      from  user url       out  \\\n",
       "0    1.248691  0.005699  0.375242  0.181637  0.178165  0.244054  0.359007   \n",
       "1    0.943193  1.011413  0.256479  0.238480  0.301806  0.266080 -0.325854   \n",
       "2    1.253020  0.927811  0.340464  0.311555  0.322027  0.097903 -0.182189   \n",
       "3   -0.659346  0.144531  0.370806  0.225099  0.209283  0.248072...\n",
       "298 -0.435547 -0.410297 -0.093573  ...            0.0    0.0    0.0   0.0   \n",
       "299  0.300205  0.233041 -0.133541  ...            0.0    0.0    0.0   0.0   \n",
       "\n",
       "     twenty  two dead  two daughters  two cutest fans  two cutest  twitters  \n",
       "0       0.0       0.0            0.0              0.0         0.0       0.0  \n",
       "1       0.0       0.0            0.0              0.0         0.0       0.0  \n",
       "2       0.0       0.0            0.0              0.0         0.0       0.0  \n",
       "3       0.0       0.0            0.0              0.0         0.0       0.0  \n",
       "4       0.0       0.0            0.0              0.0         0.0       0.0  \n",
       "..      ...       ...            ...              ...         ...       ...  \n",
       "295     0.0       0.0            0.0              0.0         0.0       0.0  \n",
       "296     0.0       0.0            0.0              0.0         0.0       0.0  \n",
       "297     0.0       0.0            0.0              0.0         0.0       0.0  \n",
       "298     0.0       0.0            0.0              0.0         0.0       0.0  \n",
       "299     0.0       0.0            0.0              0.0         0.0       0.0  \n",
       "\n",
       "[300 rows x 15000 columns])"
      ]
     },
     "execution_count": 42,
     "metadata": {},
     "output_type": "execute_result"
    }
   ],
   "source": [
    "sentences=list(train_en.cleaned)\n",
    "word_vectorizer = TfidfVectorizer(\n",
    "    sublinear_tf=True,\n",
    "    strip_accents='unicode',\n",
    "    analyzer='word',\n",
    "    ngram_range=(1, 3),\n",
    "    vocabulary=wordvocab)\n",
    "word_vectorizer.fit(sentences)\n",
    "    \n"
   ]
  },
  {
   "cell_type": "code",
   "execution_count": 43,
   "metadata": {
    "execution": {
     "iopub.execute_input": "2021-07-23T19:12:54.893146Z",
     "iopub.status.busy": "2021-07-23T19:12:54.877640Z",
     "iopub.status.idle": "2021-07-23T19:12:56.453393Z",
     "shell.execute_reply": "2021-07-23T19:12:56.452816Z",
     "shell.execute_reply.started": "2021-07-22T04:32:50.134789Z"
    },
    "papermill": {
     "duration": 1.982364,
     "end_time": "2021-07-23T19:12:56.453543",
     "exception": false,
     "start_time": "2021-07-23T19:12:54.471179",
     "status": "completed"
    },
    "tags": []
   },
   "outputs": [],
   "source": [
    "train_word_features = word_vectorizer.transform(train_en.cleaned)\n",
    "test_word_features = word_vectorizer.transform(test_en.cleaned)"
   ]
  },
  {
   "cell_type": "code",
   "execution_count": 44,
   "metadata": {
    "execution": {
     "iopub.execute_input": "2021-07-23T19:12:57.202032Z",
     "iopub.status.busy": "2021-07-23T19:12:57.201463Z",
     "iopub.status.idle": "2021-07-23T19:14:57.526558Z",
     "shell.execute_reply": "2021-07-23T19:14:57.527090Z",
     "shell.execute_reply.started": "2021-07-22T04:32:51.500778Z"
    },
    "papermill": {
     "duration": 120.699332,
     "end_time": "2021-07-23T19:14:57.527262",
     "exception": false,
     "start_time": "2021-07-23T19:12:56.827930",
     "status": "completed"
    },
    "tags": []
   },
   "outputs": [
    {
     "name": "stdout",
     "output_type": "stream",
     "text": [
      "LR\n",
      "              precision    recall  f1-score   support\n",
      "\n",
      "           0     0.7849    0.7300    0.7565       100\n",
      "           1     0.7477    0.8000    0.7729       100\n",
      "\n",
      "    accuracy                         0.7650       200\n",
      "   macro avg     0.7663    0.7650    0.7647       200\n",
      "weighted avg     0.7663    0.7650    0.7647       200\n",
      "\n",
      "-------------------------------------------------------------\n",
      "lsvc\n",
      "              precision    recall  f1-score   support\n",
      "\n",
      "           0     0.7849    0.7300    0.7565       100\n",
      "           1     0.7477    0.8000    0.7729       100\n",
      "\n",
      "    accuracy                         0.7650       200\n",
      "   macro avg     0.7663    0.7650    0.7647       200\n",
      "weighted avg     0.7663    0.7650    0.7647       200\n",
      "\n",
      "-------------------------------------------------------------\n",
      "RFC\n",
      "              precision    recall  f1-score   support\n",
      "\n",
      "           0     0.8125    0.6500    0.7222       100\n",
      "           1     0.7083    0.8500    0.7727       100\n",
      "\n",
      "    accuracy                         0.7500       200\n",
      "   macro avg     0.7604    0.7500    0.7475       200\n",
      "weighted avg     0.7604    0.7500    0.7475       200\n",
      "\n",
      "-------------------------------------------------------------\n",
      "soft voting\n",
      "              precision    recall  f1-score   support\n",
      "\n",
      "           0     0.7935    0.7300    0.7604       100\n",
      "           1     0.7500    0.8100    0.7788       100\n",
      "\n",
      "    accuracy                         0.7700       200\n",
      "   macro avg     0.7717    0.7700    0.7696       200\n",
      "weighted avg     0.7717    0.7700    0.7696       200\n",
      "\n",
      "-------------------------------------------------------------\n",
      "hard voting\n",
      "              precision    recall  f1-score   support\n",
      "\n",
      "           0     0.7826    0.7200    0.7500       100\n",
      "           1     0.7407    0.8000    0.7692       100\n",
      "\n",
      "    accuracy                         0.7600       200\n",
      "   macro avg     0.7617    0.7600    0.7596       200\n",
      "weighted avg     0.7617    0.7600    0.7596       200\n",
      "\n"
     ]
    }
   ],
   "source": [
    "train_classifiers(train_word_features,test_word_features,y_train,y_test)"
   ]
  },
  {
   "cell_type": "code",
   "execution_count": null,
   "metadata": {
    "papermill": {
     "duration": 0.379252,
     "end_time": "2021-07-23T19:14:58.281568",
     "exception": false,
     "start_time": "2021-07-23T19:14:57.902316",
     "status": "completed"
    },
    "tags": []
   },
   "outputs": [],
   "source": []
  },
  {
   "cell_type": "code",
   "execution_count": null,
   "metadata": {
    "papermill": {
     "duration": 0.377771,
     "end_time": "2021-07-23T19:14:59.038220",
     "exception": false,
     "start_time": "2021-07-23T19:14:58.660449",
     "status": "completed"
    },
    "tags": []
   },
   "outputs": [],
   "source": []
  },
  {
   "cell_type": "markdown",
   "metadata": {
    "papermill": {
     "duration": 0.378866,
     "end_time": "2021-07-23T19:14:59.798875",
     "exception": false,
     "start_time": "2021-07-23T19:14:59.420009",
     "status": "completed"
    },
    "tags": []
   },
   "source": [
    "char"
   ]
  },
  {
   "cell_type": "code",
   "execution_count": 45,
   "metadata": {
    "execution": {
     "iopub.execute_input": "2021-07-23T19:15:00.564117Z",
     "iopub.status.busy": "2021-07-23T19:15:00.563514Z",
     "iopub.status.idle": "2021-07-23T19:15:00.565462Z",
     "shell.execute_reply": "2021-07-23T19:15:00.565983Z",
     "shell.execute_reply.started": "2021-07-21T08:56:31.082744Z"
    },
    "papermill": {
     "duration": 0.386929,
     "end_time": "2021-07-23T19:15:00.566142",
     "exception": false,
     "start_time": "2021-07-23T19:15:00.179213",
     "status": "completed"
    },
    "tags": []
   },
   "outputs": [],
   "source": [
    "from sklearn.metrics import accuracy_score, classification_report\n",
    "\n",
    "def train_model(classifier, feature_vector_train, label, feature_vector_valid, valid_label):\n",
    "    # fit the training dataset on the classifier\n",
    "    classifier.fit(feature_vector_train, label)\n",
    "    \n",
    "    # predict the labels on validation dataset\n",
    "    predictions = classifier.predict(feature_vector_valid)\n",
    "    \n",
    "    return classifier, accuracy_score(predictions, valid_label), classification_report(predictions, valid_label,digits=4)"
   ]
  },
  {
   "cell_type": "code",
   "execution_count": 46,
   "metadata": {
    "execution": {
     "iopub.execute_input": "2021-07-23T19:15:01.326216Z",
     "iopub.status.busy": "2021-07-23T19:15:01.325592Z",
     "iopub.status.idle": "2021-07-23T19:15:01.788379Z",
     "shell.execute_reply": "2021-07-23T19:15:01.787054Z",
     "shell.execute_reply.started": "2021-07-21T08:56:31.090216Z"
    },
    "papermill": {
     "duration": 0.845295,
     "end_time": "2021-07-23T19:15:01.788692",
     "exception": true,
     "start_time": "2021-07-23T19:15:00.943397",
     "status": "failed"
    },
    "tags": []
   },
   "outputs": [
    {
     "ename": "NameError",
     "evalue": "name 'x_train' is not defined",
     "output_type": "error",
     "traceback": [
      "\u001b[0;31m---------------------------------------------------------------------------\u001b[0m",
      "\u001b[0;31mNameError\u001b[0m                                 Traceback (most recent call last)",
      "\u001b[0;32m<ipython-input-46-90edc65510ab>\u001b[0m in \u001b[0;36m<module>\u001b[0;34m\u001b[0m\n\u001b[1;32m      2\u001b[0m \u001b[0;32mimport\u001b[0m \u001b[0mxgboost\u001b[0m\u001b[0;34m\u001b[0m\u001b[0;34m\u001b[0m\u001b[0m\n\u001b[1;32m      3\u001b[0m \u001b[0;34m\u001b[0m\u001b[0m\n\u001b[0;32m----> 4\u001b[0;31m \u001b[0mclassifier\u001b[0m\u001b[0;34m,\u001b[0m \u001b[0maccuracy\u001b[0m\u001b[0;34m,\u001b[0m \u001b[0mconfusion_matrix\u001b[0m \u001b[0;34m=\u001b[0m \u001b[0mtrain_model\u001b[0m\u001b[0;34m(\u001b[0m\u001b[0mxgboost\u001b[0m\u001b[0;34m.\u001b[0m\u001b[0mXGBClassifier\u001b[0m\u001b[0;34m(\u001b[0m\u001b[0;34m)\u001b[0m\u001b[0;34m,\u001b[0m \u001b[0mx_train\u001b[0m\u001b[0;34m,\u001b[0m \u001b[0my_train\u001b[0m\u001b[0;34m,\u001b[0m \u001b[0mx_test\u001b[0m\u001b[0;34m,\u001b[0m \u001b[0my_test\u001b[0m\u001b[0;34m)\u001b[0m\u001b[0;34m\u001b[0m\u001b[0;34m\u001b[0m\u001b[0m\n\u001b[0m\u001b[1;32m      5\u001b[0m \u001b[0mprint\u001b[0m\u001b[0;34m(\u001b[0m\u001b[0;34m\"Xgb, Accuracy: \"\u001b[0m\u001b[0;34m,\u001b[0m \u001b[0maccuracy\u001b[0m\u001b[0;34m)\u001b[0m\u001b[0;34m\u001b[0m\u001b[0;34m\u001b[0m\u001b[0m\n\u001b[1;32m      6\u001b[0m \u001b[0mprint\u001b[0m\u001b[0;34m(\u001b[0m\u001b[0mconfusion_matrix\u001b[0m\u001b[0;34m)\u001b[0m\u001b[0;34m\u001b[0m\u001b[0;34m\u001b[0m\u001b[0m\n",
      "\u001b[0;31mNameError\u001b[0m: name 'x_train' is not defined"
     ]
    }
   ],
   "source": [
    "# Extereme Gradient Boosting on Count Vectors\n",
    "import xgboost\n",
    "\n",
    "classifier, accuracy, confusion_matrix = train_model(xgboost.XGBClassifier(), x_train, y_train, x_test, y_test)\n",
    "print(\"Xgb, Accuracy: \", accuracy)\n",
    "print(confusion_matrix)"
   ]
  },
  {
   "cell_type": "code",
   "execution_count": null,
   "metadata": {
    "papermill": {
     "duration": null,
     "end_time": null,
     "exception": null,
     "start_time": null,
     "status": "pending"
    },
    "tags": []
   },
   "outputs": [],
   "source": []
  },
  {
   "cell_type": "markdown",
   "metadata": {
    "papermill": {
     "duration": null,
     "end_time": null,
     "exception": null,
     "start_time": null,
     "status": "pending"
    },
    "tags": []
   },
   "source": [
    "word"
   ]
  },
  {
   "cell_type": "code",
   "execution_count": null,
   "metadata": {
    "execution": {
     "iopub.execute_input": "2021-07-21T09:01:23.216413Z",
     "iopub.status.busy": "2021-07-21T09:01:23.216098Z",
     "iopub.status.idle": "2021-07-21T09:01:27.632604Z",
     "shell.execute_reply": "2021-07-21T09:01:27.631777Z",
     "shell.execute_reply.started": "2021-07-21T09:01:23.216385Z"
    },
    "papermill": {
     "duration": null,
     "end_time": null,
     "exception": null,
     "start_time": null,
     "status": "pending"
    },
    "tags": []
   },
   "outputs": [],
   "source": [
    "sentences=list(train_en.cleaned)\n",
    "word_vectorizer = TfidfVectorizer(\n",
    "    sublinear_tf=True,\n",
    "    strip_accents='unicode',\n",
    "    analyzer='word',\n",
    "    ngram_range=(1, 3),\n",
    "    max_features=30000)\n",
    "word_vectorizer.fit(sentences)\n",
    "    \n",
    "x_train = word_vectorizer.transform(train_en.cleaned)\n",
    "x_test = word_vectorizer.transform(test_en.cleaned)\n",
    "\n",
    "\n",
    "y_train=train_en.label\n",
    "y_test=test_en.label"
   ]
  },
  {
   "cell_type": "code",
   "execution_count": null,
   "metadata": {
    "execution": {
     "iopub.execute_input": "2021-07-21T09:02:15.953887Z",
     "iopub.status.busy": "2021-07-21T09:02:15.953505Z",
     "iopub.status.idle": "2021-07-21T09:02:18.884298Z",
     "shell.execute_reply": "2021-07-21T09:02:18.883386Z",
     "shell.execute_reply.started": "2021-07-21T09:02:15.953854Z"
    },
    "papermill": {
     "duration": null,
     "end_time": null,
     "exception": null,
     "start_time": null,
     "status": "pending"
    },
    "tags": []
   },
   "outputs": [],
   "source": [
    "# Extereme Gradient Boosting on Count Vectors\n",
    "import xgboost\n",
    "\n",
    "classifier, accuracy, confusion_matrix = train_model(xgboost.XGBClassifier(), x_train, y_train, x_test, y_test)\n",
    "print(\"Xgb, Accuracy: \", accuracy)\n",
    "print(confusion_matrix)"
   ]
  },
  {
   "cell_type": "code",
   "execution_count": null,
   "metadata": {
    "execution": {
     "iopub.execute_input": "2021-07-21T09:03:05.670773Z",
     "iopub.status.busy": "2021-07-21T09:03:05.670404Z",
     "iopub.status.idle": "2021-07-21T09:04:10.28203Z",
     "shell.execute_reply": "2021-07-21T09:04:10.280228Z",
     "shell.execute_reply.started": "2021-07-21T09:03:05.670735Z"
    },
    "papermill": {
     "duration": null,
     "end_time": null,
     "exception": null,
     "start_time": null,
     "status": "pending"
    },
    "tags": []
   },
   "outputs": [],
   "source": [
    "wordVocab=ShapleyFiltering(classifier,x_train,word_vectorizer,15000)\n"
   ]
  },
  {
   "cell_type": "code",
   "execution_count": null,
   "metadata": {
    "execution": {
     "iopub.execute_input": "2021-07-21T09:04:22.492654Z",
     "iopub.status.busy": "2021-07-21T09:04:22.492306Z",
     "iopub.status.idle": "2021-07-21T09:04:24.700605Z",
     "shell.execute_reply": "2021-07-21T09:04:24.699758Z",
     "shell.execute_reply.started": "2021-07-21T09:04:22.492619Z"
    },
    "papermill": {
     "duration": null,
     "end_time": null,
     "exception": null,
     "start_time": null,
     "status": "pending"
    },
    "tags": []
   },
   "outputs": [],
   "source": [
    "sentences=list(train_en.cleaned)\n",
    "word_vectorizer = TfidfVectorizer(\n",
    "    sublinear_tf=True,\n",
    "    strip_accents='unicode',\n",
    "    analyzer='word',\n",
    "    ngram_range=(1, 3),\n",
    "    vocabulary=charVocab)\n",
    "word_vectorizer.fit(sentences)\n",
    "    \n",
    "x_train = word_vectorizer.transform(train_en.cleaned)\n",
    "x_test = word_vectorizer.transform(test_en.cleaned)\n",
    "\n",
    "\n",
    "y_train=train_en.label\n",
    "y_test=test_en.label"
   ]
  },
  {
   "cell_type": "code",
   "execution_count": null,
   "metadata": {
    "execution": {
     "iopub.execute_input": "2021-07-21T09:04:34.831578Z",
     "iopub.status.busy": "2021-07-21T09:04:34.831237Z",
     "iopub.status.idle": "2021-07-21T09:06:17.530072Z",
     "shell.execute_reply": "2021-07-21T09:06:17.529099Z",
     "shell.execute_reply.started": "2021-07-21T09:04:34.831545Z"
    },
    "papermill": {
     "duration": null,
     "end_time": null,
     "exception": null,
     "start_time": null,
     "status": "pending"
    },
    "tags": []
   },
   "outputs": [],
   "source": [
    "train_classifiers(x_train,x_test,y_train,y_test)"
   ]
  },
  {
   "cell_type": "code",
   "execution_count": null,
   "metadata": {
    "execution": {
     "iopub.execute_input": "2021-07-21T09:06:38.358151Z",
     "iopub.status.busy": "2021-07-21T09:06:38.357795Z",
     "iopub.status.idle": "2021-07-21T09:06:40.991842Z",
     "shell.execute_reply": "2021-07-21T09:06:40.990871Z",
     "shell.execute_reply.started": "2021-07-21T09:06:38.358119Z"
    },
    "papermill": {
     "duration": null,
     "end_time": null,
     "exception": null,
     "start_time": null,
     "status": "pending"
    },
    "tags": []
   },
   "outputs": [],
   "source": [
    "from scipy.sparse import hstack\n",
    "\n",
    "train_word_features = word_vectorizer.transform(train_en.cleaned)\n",
    "test_word_features = word_vectorizer.transform(test_en.cleaned)\n",
    "\n",
    "train_char_features = char_vectorizer.transform(train_en.cleaned)\n",
    "test_char_features = char_vectorizer.transform(test_en.cleaned)\n",
    "\n",
    "\n",
    "x_train = hstack([train_char_features, train_word_features])#,train_sn_features])\n",
    "x_test = hstack([test_char_features, test_word_features])#,test_sn_features])\n",
    "\n",
    "\n",
    "y_train=train_en.label\n",
    "y_test=test_en.label"
   ]
  },
  {
   "cell_type": "code",
   "execution_count": null,
   "metadata": {
    "execution": {
     "iopub.execute_input": "2021-07-21T09:06:47.735573Z",
     "iopub.status.busy": "2021-07-21T09:06:47.735206Z",
     "iopub.status.idle": "2021-07-21T09:08:50.051904Z",
     "shell.execute_reply": "2021-07-21T09:08:50.051058Z",
     "shell.execute_reply.started": "2021-07-21T09:06:47.735538Z"
    },
    "papermill": {
     "duration": null,
     "end_time": null,
     "exception": null,
     "start_time": null,
     "status": "pending"
    },
    "tags": []
   },
   "outputs": [],
   "source": [
    "train_classifiers(x_train,x_test,y_train,y_test)"
   ]
  },
  {
   "cell_type": "code",
   "execution_count": null,
   "metadata": {
    "papermill": {
     "duration": null,
     "end_time": null,
     "exception": null,
     "start_time": null,
     "status": "pending"
    },
    "tags": []
   },
   "outputs": [],
   "source": []
  }
 ],
 "metadata": {
  "kernelspec": {
   "display_name": "Python 3",
   "language": "python",
   "name": "python3"
  },
  "language_info": {
   "codemirror_mode": {
    "name": "ipython",
    "version": 3
   },
   "file_extension": ".py",
   "mimetype": "text/x-python",
   "name": "python",
   "nbconvert_exporter": "python",
   "pygments_lexer": "ipython3",
   "version": "3.7.3"
  },
  "papermill": {
   "default_parameters": {},
   "duration": 16390.895717,
   "end_time": "2021-07-23T19:15:05.232871",
   "environment_variables": {},
   "exception": true,
   "input_path": "__notebook__.ipynb",
   "output_path": "__notebook__.ipynb",
   "parameters": {},
   "start_time": "2021-07-23T14:41:54.337154",
   "version": "2.3.3"
  }
 },
 "nbformat": 4,
 "nbformat_minor": 5
}
