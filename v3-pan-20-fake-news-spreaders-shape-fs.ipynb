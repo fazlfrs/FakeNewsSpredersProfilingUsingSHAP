{
 "cells": [
  {
   "cell_type": "code",
   "execution_count": 1,
   "metadata": {
    "execution": {
     "iopub.execute_input": "2021-06-16T13:09:13.535474Z",
     "iopub.status.busy": "2021-06-16T13:09:13.535021Z",
     "iopub.status.idle": "2021-06-16T13:11:00.188916Z",
     "shell.execute_reply": "2021-06-16T13:11:00.187697Z",
     "shell.execute_reply.started": "2021-06-16T13:09:13.535383Z"
    }
   },
   "outputs": [
    {
     "name": "stdout",
     "output_type": "stream",
     "text": [
      "Collecting package metadata (current_repodata.json): done\n",
      "Solving environment: done\n",
      "\n",
      "## Package Plan ##\n",
      "\n",
      "  environment location: /opt/conda\n",
      "\n",
      "  added / updated specs:\n",
      "    - rpy2\n",
      "\n",
      "\n",
      "The following packages will be downloaded:\n",
      "\n",
      "    package                    |            build\n",
      "    ---------------------------|-----------------\n",
      "    _r-mutex-1.0.1             |      anacondar_1           3 KB  conda-forge\n",
      "    binutils_impl_linux-64-2.35.1|       h193b22a_2         9.3 MB  conda-forge\n",
      "    binutils_linux-64-2.35     |      h67ddf6f_30          22 KB  conda-forge\n",
      "    bwidget-1.9.14             |       ha770c72_0         119 KB  conda-forge\n",
      "    gcc_impl_linux-64-9.3.0    |      h70c0ae5_19        43.2 MB  conda-forge\n",
      "    gcc_linux-64-9.3.0         |      hf25ea35_30          23 KB  conda-forge\n",
      "    gfortran_impl_linux-64-9.3.0|      hc4a2995_19        10.1 MB  conda-forge\n",
      "    gfortran_linux-64-9.3.0    |      hdc58fab_30          22 KB  conda-forge\n",
      "    gsl-2.6                    |       he838d99_2         3.2 MB  conda-forge\n",
      "    gxx_impl_linux-64-9.3.0    |      hd87eabc_19        10.7 MB  conda-forge\n",
      "    gxx_linux-64-9.3.0         |      h3fbe746_30          23 KB  conda-forge\n",
      "    kernel-headers_linux-64-2.6.32|      h77966d4_13         707 KB  conda-forge\n",
      "    libgcc-devel_linux-64-9.3.0|      h7864c58_19         4.0 MB  conda-forge\n",
      "    libstdcxx-devel_linux-64-9.3.0|      hb016644_19        14.0 MB  conda-forge\n",
      "    make-4.3                   |       hd18ef5c_1         507 KB  conda-forge\n",
      "    r-base-3.6.3               |       hd23ff56_6        23.3 MB  conda-forge\n",
      "    rpy2-3.4.5                 |py37r36h6f94858_0         374 KB  conda-forge\n",
      "    sed-4.8                    |       he412f7d_0         264 KB  conda-forge\n",
      "    simplegeneric-0.8.1        |             py_1           7 KB  conda-forge\n",
      "    sysroot_linux-64-2.12      |      h77966d4_13        30.2 MB  conda-forge\n",
      "    tktable-2.10               |       hb7b940f_3          89 KB  conda-forge\n",
      "    tzlocal-2.1                |     pyh9f0ad1d_0          18 KB  conda-forge\n",
      "    ------------------------------------------------------------\n",
      "                                           Total:       150.2 MB\n",
      "\n",
      "The following NEW packages will be INSTALLED:\n",
      "\n",
      "  _r-mutex           conda-forge/noarch::_r-mutex-1.0.1-anacondar_1\n",
      "  binutils_impl_lin~ conda-forge/linux-64::binutils_impl_linux-64-2.35.1-h193b22a_2\n",
      "  binutils_linux-64  conda-forge/linux-64::binutils_linux-64-2.35-h67ddf6f_30\n",
      "  bwidget            conda-forge/linux-64::bwidget-1.9.14-ha770c72_0\n",
      "  gcc_impl_linux-64  conda-forge/linux-64::gcc_impl_linux-64-9.3.0-h70c0ae5_19\n",
      "  gcc_linux-64       conda-forge/linux-64::gcc_linux-64-9.3.0-hf25ea35_30\n",
      "  gfortran_impl_lin~ conda-forge/linux-64::gfortran_impl_linux-64-9.3.0-hc4a2995_19\n",
      "  gfortran_linux-64  conda-forge/linux-64::gfortran_linux-64-9.3.0-hdc58fab_30\n",
      "  gsl                conda-forge/linux-64::gsl-2.6-he838d99_2\n",
      "  gxx_impl_linux-64  conda-forge/linux-64::gxx_impl_linux-64-9.3.0-hd87eabc_19\n",
      "  gxx_linux-64       conda-forge/linux-64::gxx_linux-64-9.3.0-h3fbe746_30\n",
      "  kernel-headers_li~ conda-forge/noarch::kernel-headers_linux-64-2.6.32-h77966d4_13\n",
      "  libgcc-devel_linu~ conda-forge/linux-64::libgcc-devel_linux-64-9.3.0-h7864c58_19\n",
      "  libstdcxx-devel_l~ conda-forge/linux-64::libstdcxx-devel_linux-64-9.3.0-hb016644_19\n",
      "  make               conda-forge/linux-64::make-4.3-hd18ef5c_1\n",
      "  r-base             conda-forge/linux-64::r-base-3.6.3-hd23ff56_6\n",
      "  rpy2               conda-forge/linux-64::rpy2-3.4.5-py37r36h6f94858_0\n",
      "  sed                conda-forge/linux-64::sed-4.8-he412f7d_0\n",
      "  simplegeneric      conda-forge/noarch::simplegeneric-0.8.1-py_1\n",
      "  sysroot_linux-64   conda-forge/noarch::sysroot_linux-64-2.12-h77966d4_13\n",
      "  tktable            conda-forge/linux-64::tktable-2.10-hb7b940f_3\n",
      "  tzlocal            conda-forge/noarch::tzlocal-2.1-pyh9f0ad1d_0\n",
      "\n",
      "\n",
      "\n",
      "Downloading and Extracting Packages\n",
      "gxx_linux-64-9.3.0   | 23 KB     | ##################################### | 100% \n",
      "r-base-3.6.3         | 23.3 MB   | ##################################### | 100% \n",
      "gxx_impl_linux-64-9. | 10.7 MB   | ##################################### | 100% \n",
      "simplegeneric-0.8.1  | 7 KB      | ##################################### | 100% \n",
      "rpy2-3.4.5           | 374 KB    | ##################################### | 100% \n",
      "binutils_impl_linux- | 9.3 MB    | ##################################### | 100% \n",
      "sed-4.8              | 264 KB    | ##################################### | 100% \n",
      "gfortran_linux-64-9. | 22 KB     | ##################################### | 100% \n",
      "gsl-2.6              | 3.2 MB    | ##################################### | 100% \n",
      "make-4.3             | 507 KB    | ##################################### | 100% \n",
      "libgcc-devel_linux-6 | 4.0 MB    | ##################################### | 100% \n",
      "binutils_linux-64-2. | 22 KB     | ##################################### | 100% \n",
      "gcc_impl_linux-64-9. | 43.2 MB   | ##################################### | 100% \n",
      "gcc_linux-64-9.3.0   | 23 KB     | ##################################### | 100% \n",
      "gfortran_impl_linux- | 10.1 MB   | ##################################### | 100% \n",
      "bwidget-1.9.14       | 119 KB    | ##################################### | 100% \n",
      "kernel-headers_linux | 707 KB    | ##################################### | 100% \n",
      "tktable-2.10         | 89 KB     | ##################################### | 100% \n",
      "libstdcxx-devel_linu | 14.0 MB   | ##################################### | 100% \n",
      "sysroot_linux-64-2.1 | 30.2 MB   | ##################################### | 100% \n",
      "_r-mutex-1.0.1       | 3 KB      | ##################################### | 100% \n",
      "tzlocal-2.1          | 18 KB     | ##################################### | 100% \n",
      "Preparing transaction: done\n",
      "Verifying transaction: done\n",
      "Executing transaction: done\n",
      "\n",
      "Note: you may need to restart the kernel to use updated packages.\n"
     ]
    }
   ],
   "source": [
    "conda install rpy2\n"
   ]
  },
  {
   "cell_type": "code",
   "execution_count": 2,
   "metadata": {
    "execution": {
     "iopub.execute_input": "2021-06-16T13:11:34.942268Z",
     "iopub.status.busy": "2021-06-16T13:11:34.941390Z",
     "iopub.status.idle": "2021-06-16T13:11:35.635573Z",
     "shell.execute_reply": "2021-06-16T13:11:35.634362Z",
     "shell.execute_reply.started": "2021-06-16T13:11:34.942218Z"
    }
   },
   "outputs": [],
   "source": [
    "import rpy2.ipython\n",
    "\n",
    "from rpy2.robjects import pandas2ri   \n",
    "\n",
    "pandas2ri.activate()\n",
    "\n",
    "%reload_ext rpy2.ipython"
   ]
  },
  {
   "cell_type": "code",
   "execution_count": 3,
   "metadata": {
    "execution": {
     "iopub.execute_input": "2021-06-16T13:11:37.620624Z",
     "iopub.status.busy": "2021-06-16T13:11:37.620265Z",
     "iopub.status.idle": "2021-06-16T13:11:37.625401Z",
     "shell.execute_reply": "2021-06-16T13:11:37.624416Z",
     "shell.execute_reply.started": "2021-06-16T13:11:37.620591Z"
    }
   },
   "outputs": [],
   "source": [
    "#pip install SNgramExtractor"
   ]
  },
  {
   "cell_type": "code",
   "execution_count": null,
   "metadata": {},
   "outputs": [],
   "source": []
  },
  {
   "cell_type": "code",
   "execution_count": 4,
   "metadata": {
    "execution": {
     "iopub.execute_input": "2021-06-16T13:11:38.615187Z",
     "iopub.status.busy": "2021-06-16T13:11:38.614499Z",
     "iopub.status.idle": "2021-06-16T13:11:47.858961Z",
     "shell.execute_reply": "2021-06-16T13:11:47.857955Z",
     "shell.execute_reply.started": "2021-06-16T13:11:38.615147Z"
    }
   },
   "outputs": [],
   "source": [
    "import shap, time\n",
    "\n",
    "def ShapleyFiltering(classifier,x_train_vec,vectorizer,k):\n",
    "    # Create the shap explainers\n",
    "    t0 = time.time()\n",
    "    explainer = shap.TreeExplainer(classifier)\n",
    "    shap_values_train = explainer.shap_values(x_train_vec)\n",
    "    t1 = time.time()\n",
    "    timeit=t1-t0\n",
    "    print('time to compute Shapley values (s):', timeit)\n",
    "\n",
    "    # From sparse matrix to data frame\n",
    "    txt_dense_df = pd.DataFrame(x_train_vec.todense(), columns=vectorizer.get_feature_names())\n",
    "    shap_values_train_df = pd.DataFrame(shap_values_train, columns=txt_dense_df.columns)\n",
    "\n",
    "    predictions = classifier.predict(x_train_vec.tocsc())\n",
    "    \n",
    "    shap_sum = np.abs(shap_values_train_df).mean(axis=0)\n",
    "    importance_df = pd.DataFrame([txt_dense_df.columns.tolist(), shap_sum.tolist()]).T\n",
    "    importance_df.columns = ['column_name', 'shap_importance (log-odds)']\n",
    "    importance_df = importance_df.sort_values('shap_importance (log-odds)', ascending=False)\n",
    "    importance_df['shap_importance (%)'] = importance_df['shap_importance (log-odds)'].apply(lambda x: 100*x/np.sum(importance_df['shap_importance (log-odds)']))\n",
    "    \n",
    "    topN = k\n",
    "    topk = importance_df.iloc[0:topN][\"column_name\"]\n",
    "\n",
    "    print('Cumulative Importance', np.sum(importance_df.iloc[0:topN][\"shap_importance (%)\"]))\n",
    "    \n",
    "    shap_values_imp = shap_values_train_df[topk]\n",
    "    return shap_values_imp\n"
   ]
  },
  {
   "cell_type": "code",
   "execution_count": 5,
   "metadata": {
    "execution": {
     "iopub.execute_input": "2021-06-16T13:11:47.860807Z",
     "iopub.status.busy": "2021-06-16T13:11:47.860509Z",
     "iopub.status.idle": "2021-06-16T13:11:48.323615Z",
     "shell.execute_reply": "2021-06-16T13:11:48.322786Z",
     "shell.execute_reply.started": "2021-06-16T13:11:47.860780Z"
    }
   },
   "outputs": [],
   "source": [
    "import pandas as pd\n",
    "train_en=pd.read_csv('../input/pan2020fake-news-spreaders-task/train_en.csv')\n",
    "train_es=pd.read_csv('../input/pan2020fake-news-spreaders-task/train_es.csv')\n",
    "\n",
    "test_en=pd.read_csv('../input/pan2020fake-news-spreaders-task/test_en.csv')\n",
    "test_es=pd.read_csv('../input/pan2020fake-news-spreaders-task/test_es.csv')"
   ]
  },
  {
   "cell_type": "code",
   "execution_count": null,
   "metadata": {},
   "outputs": [],
   "source": []
  },
  {
   "cell_type": "code",
   "execution_count": 6,
   "metadata": {
    "execution": {
     "iopub.execute_input": "2021-06-16T13:11:48.325487Z",
     "iopub.status.busy": "2021-06-16T13:11:48.325063Z",
     "iopub.status.idle": "2021-06-16T13:11:53.620415Z",
     "shell.execute_reply": "2021-06-16T13:11:53.619081Z",
     "shell.execute_reply.started": "2021-06-16T13:11:48.325456Z"
    }
   },
   "outputs": [],
   "source": [
    "wanted=list(\"qwertyuioplkjhgfdsazxcvbnmQWERTYUIOPLKJHGFDSAZXCVBNM\")\n",
    "def clean(text):\n",
    "  text=text.split(' ')\n",
    "  te=[]\n",
    "  for w in text:\n",
    "    w1=''\n",
    "    for c in w:\n",
    "      if c in wanted:\n",
    "        w1+=c\n",
    "    if len(w1)>2:\n",
    "      te.append(w1)\n",
    "    \n",
    "  return ' '.join(te).strip().lower()\n",
    "\n",
    "#only for english---skip for spanish\n",
    "train_en['cleaned']=[clean(x) for x in train_en.tweets]\n",
    "test_en['cleaned']=[clean(x) for x in test_en.tweets]\n",
    "\n",
    "train_es['cleaned']=[clean(x) for x in train_es.tweets]\n",
    "test_es['cleaned']=[clean(x) for x in test_es.tweets]"
   ]
  },
  {
   "cell_type": "code",
   "execution_count": 7,
   "metadata": {
    "execution": {
     "iopub.execute_input": "2021-06-16T13:11:53.622601Z",
     "iopub.status.busy": "2021-06-16T13:11:53.622285Z",
     "iopub.status.idle": "2021-06-16T13:11:53.778288Z",
     "shell.execute_reply": "2021-06-16T13:11:53.777282Z",
     "shell.execute_reply.started": "2021-06-16T13:11:53.622574Z"
    }
   },
   "outputs": [],
   "source": [
    "from sklearn import model_selection, preprocessing, metrics, svm\n",
    "from sklearn.feature_extraction.text import CountVectorizer\n",
    "from sklearn import decomposition, ensemble\n",
    "\n",
    "import pandas as pd\n",
    "import numpy as np\n",
    "\n",
    "import string\n",
    "\n",
    "import matplotlib.pyplot as plt\n",
    "import seaborn as sns\n",
    "%matplotlib inline\n",
    "\n",
    "import xgboost\n",
    "#from keras.preprocessing import text, sequence\n",
    "#from keras import layers, models, optimizers\n",
    "from sklearn.feature_extraction.text import CountVectorizer,TfidfVectorizer,HashingVectorizer\n",
    "\n"
   ]
  },
  {
   "cell_type": "code",
   "execution_count": null,
   "metadata": {},
   "outputs": [],
   "source": []
  },
  {
   "cell_type": "code",
   "execution_count": 8,
   "metadata": {
    "execution": {
     "iopub.execute_input": "2021-06-16T13:11:53.780267Z",
     "iopub.status.busy": "2021-06-16T13:11:53.779849Z",
     "iopub.status.idle": "2021-06-16T13:11:53.789548Z",
     "shell.execute_reply": "2021-06-16T13:11:53.788311Z",
     "shell.execute_reply.started": "2021-06-16T13:11:53.780230Z"
    }
   },
   "outputs": [
    {
     "data": {
      "text/plain": [
       "\"from SNgramExtractor import SNgramExtractor\\n\\ndef get_sngrams(text):\\n  \\n  SNgram_obj=SNgramExtractor(text,meta_tag='original',trigram_flag='yes')#,nlp_model=nlp)# for english nlp_model=None--for spanish nlp model should be set into nlp which in beging we downloaded\\n  output=SNgram_obj.get_SNgram()\\n\\n  return output['SNBigram'].split(' ')+output['SNTrigram'].split(' ')\""
      ]
     },
     "execution_count": 8,
     "metadata": {},
     "output_type": "execute_result"
    }
   ],
   "source": [
    "'''from SNgramExtractor import SNgramExtractor\n",
    "\n",
    "def get_sngrams(text):\n",
    "  \n",
    "  SNgram_obj=SNgramExtractor(text,meta_tag='original',trigram_flag='yes')#,nlp_model=nlp)# for english nlp_model=None--for spanish nlp model should be set into nlp which in beging we downloaded\n",
    "  output=SNgram_obj.get_SNgram()\n",
    "\n",
    "  return output['SNBigram'].split(' ')+output['SNTrigram'].split(' ')'''"
   ]
  },
  {
   "cell_type": "code",
   "execution_count": 9,
   "metadata": {
    "execution": {
     "iopub.execute_input": "2021-06-16T13:11:53.791860Z",
     "iopub.status.busy": "2021-06-16T13:11:53.791403Z",
     "iopub.status.idle": "2021-06-16T13:11:53.806679Z",
     "shell.execute_reply": "2021-06-16T13:11:53.805593Z",
     "shell.execute_reply.started": "2021-06-16T13:11:53.791809Z"
    }
   },
   "outputs": [],
   "source": [
    "#get_sngrams(train_en['tweets'][0])"
   ]
  },
  {
   "cell_type": "code",
   "execution_count": 75,
   "metadata": {
    "execution": {
     "iopub.execute_input": "2021-06-16T13:51:36.004193Z",
     "iopub.status.busy": "2021-06-16T13:51:36.003753Z",
     "iopub.status.idle": "2021-06-16T13:52:05.664881Z",
     "shell.execute_reply": "2021-06-16T13:52:05.663952Z",
     "shell.execute_reply.started": "2021-06-16T13:51:36.004154Z"
    }
   },
   "outputs": [],
   "source": [
    "sentences=list(train_en.cleaned)\n",
    "from scipy.sparse import hstack\n",
    "word_vectorizer = TfidfVectorizer(\n",
    "    sublinear_tf=True,\n",
    "    strip_accents='unicode',\n",
    "    analyzer='word',\n",
    "    ngram_range=(1, 3),\n",
    "    max_features=30000)\n",
    "word_vectorizer.fit(sentences)\n",
    "\n",
    "char_vectorizer = TfidfVectorizer(\n",
    "    sublinear_tf=True,\n",
    "    strip_accents='unicode',\n",
    "    analyzer='char',\n",
    "    ngram_range=(2, 5),\n",
    "    max_features=30000)\n",
    "char_vectorizer.fit(sentences)\n",
    "\n",
    "\n",
    "'''sn_vectorizer = TfidfVectorizer(\n",
    "    sublinear_tf=True,\n",
    "    strip_accents='unicode',\n",
    "    analyzer=get_sngrams,\n",
    "    \n",
    "    max_features=40000)\n",
    "sn_vectorizer.fit(sentences)'''\n",
    "\n",
    "\n",
    "train_word_features = word_vectorizer.transform(train_en.cleaned)\n",
    "test_word_features = word_vectorizer.transform(test_en.cleaned)\n",
    "\n",
    "train_char_features = char_vectorizer.transform(train_en.cleaned)\n",
    "test_char_features = char_vectorizer.transform(test_en.cleaned)\n",
    "\n",
    "'''train_sn_features = sn_vectorizer.transform(train_en.cleaned)\n",
    "test_sn_features = sn_vectorizer.transform(test_en.cleaned)'''\n",
    "\n",
    "\n",
    "x_train = hstack([train_char_features, train_word_features])#,train_sn_features])\n",
    "x_test = hstack([test_char_features, test_word_features])#,test_sn_features])\n",
    "\n",
    "y_train=train_en.label\n",
    "y_test=test_en.label"
   ]
  },
  {
   "cell_type": "code",
   "execution_count": 76,
   "metadata": {
    "execution": {
     "iopub.execute_input": "2021-06-16T13:52:05.667090Z",
     "iopub.status.busy": "2021-06-16T13:52:05.666460Z",
     "iopub.status.idle": "2021-06-16T13:52:05.675101Z",
     "shell.execute_reply": "2021-06-16T13:52:05.674052Z",
     "shell.execute_reply.started": "2021-06-16T13:52:05.667041Z"
    }
   },
   "outputs": [
    {
     "name": "stdout",
     "output_type": "stream",
     "text": [
      "Shape of Sparse Matrix:  (300, 60000)\n",
      "Amount of Non-Zero occurences:  2468499\n",
      "sparsity: 13.71%\n"
     ]
    }
   ],
   "source": [
    "print ('Shape of Sparse Matrix: ', x_train.shape)\n",
    "print ('Amount of Non-Zero occurences: ', x_train.nnz)\n",
    "print ('sparsity: %.2f%%' % (100.0 * x_train.nnz /\n",
    "                             (x_train.shape[0] * x_train.shape[1])))"
   ]
  },
  {
   "cell_type": "code",
   "execution_count": 77,
   "metadata": {
    "execution": {
     "iopub.execute_input": "2021-06-16T13:52:05.677955Z",
     "iopub.status.busy": "2021-06-16T13:52:05.677528Z",
     "iopub.status.idle": "2021-06-16T13:52:07.263039Z",
     "shell.execute_reply": "2021-06-16T13:52:07.261889Z",
     "shell.execute_reply.started": "2021-06-16T13:52:05.677908Z"
    }
   },
   "outputs": [
    {
     "name": "stdout",
     "output_type": "stream",
     "text": [
      "              precision    recall  f1-score   support\n",
      "\n",
      "           0     0.7634    0.7100    0.7358       100\n",
      "           1     0.7290    0.7800    0.7536       100\n",
      "\n",
      "    accuracy                         0.7450       200\n",
      "   macro avg     0.7462    0.7450    0.7447       200\n",
      "weighted avg     0.7462    0.7450    0.7447       200\n",
      "\n"
     ]
    }
   ],
   "source": [
    "from sklearn.ensemble import VotingClassifier\n",
    "from sklearn.linear_model import LogisticRegression\n",
    "from sklearn.svm import LinearSVC,SVC\n",
    "from sklearn.metrics import accuracy_score, confusion_matrix, classification_report, f1_score\n",
    "\n",
    "\n",
    "lr=LogisticRegression(C=20)\n",
    "lr.fit(x_train, y_train)\n",
    "y_pred = lr.predict(x_test) \n",
    "print(classification_report(y_test, y_pred,digits=4))"
   ]
  },
  {
   "cell_type": "code",
   "execution_count": 78,
   "metadata": {
    "execution": {
     "iopub.execute_input": "2021-06-16T13:52:07.264867Z",
     "iopub.status.busy": "2021-06-16T13:52:07.264455Z",
     "iopub.status.idle": "2021-06-16T13:52:48.028871Z",
     "shell.execute_reply": "2021-06-16T13:52:48.027793Z",
     "shell.execute_reply.started": "2021-06-16T13:52:07.264837Z"
    }
   },
   "outputs": [
    {
     "name": "stdout",
     "output_type": "stream",
     "text": [
      "              precision    recall  f1-score   support\n",
      "\n",
      "           0     0.7660    0.7200    0.7423       100\n",
      "           1     0.7358    0.7800    0.7573       100\n",
      "\n",
      "    accuracy                         0.7500       200\n",
      "   macro avg     0.7509    0.7500    0.7498       200\n",
      "weighted avg     0.7509    0.7500    0.7498       200\n",
      "\n"
     ]
    }
   ],
   "source": [
    "svm_clf=SVC(kernel='linear',probability=True)\n",
    "svm_clf.fit(x_train, y_train)\n",
    "y_pred = svm_clf.predict(x_test)\n",
    "print(classification_report(y_test, y_pred,digits=4))"
   ]
  },
  {
   "cell_type": "code",
   "execution_count": 79,
   "metadata": {
    "execution": {
     "iopub.execute_input": "2021-06-16T13:52:48.030478Z",
     "iopub.status.busy": "2021-06-16T13:52:48.030022Z",
     "iopub.status.idle": "2021-06-16T13:53:02.264682Z",
     "shell.execute_reply": "2021-06-16T13:53:02.263631Z",
     "shell.execute_reply.started": "2021-06-16T13:52:48.030434Z"
    }
   },
   "outputs": [
    {
     "name": "stdout",
     "output_type": "stream",
     "text": [
      "              precision    recall  f1-score   support\n",
      "\n",
      "           0     0.7283    0.6700    0.6979       100\n",
      "           1     0.6944    0.7500    0.7212       100\n",
      "\n",
      "    accuracy                         0.7100       200\n",
      "   macro avg     0.7114    0.7100    0.7095       200\n",
      "weighted avg     0.7114    0.7100    0.7095       200\n",
      "\n"
     ]
    }
   ],
   "source": [
    "from sklearn.ensemble import RandomForestClassifier\n",
    "\n",
    "model=RandomForestClassifier(n_estimators=1000)\n",
    "model.fit(x_train, y_train)\n",
    "y_pred = model.predict(x_test)\n",
    "print(classification_report(y_test, y_pred,digits=4))"
   ]
  },
  {
   "cell_type": "code",
   "execution_count": 80,
   "metadata": {
    "execution": {
     "iopub.execute_input": "2021-06-16T13:53:02.266407Z",
     "iopub.status.busy": "2021-06-16T13:53:02.266107Z",
     "iopub.status.idle": "2021-06-16T13:53:58.304214Z",
     "shell.execute_reply": "2021-06-16T13:53:58.303035Z",
     "shell.execute_reply.started": "2021-06-16T13:53:02.266379Z"
    }
   },
   "outputs": [
    {
     "name": "stdout",
     "output_type": "stream",
     "text": [
      "              precision    recall  f1-score   support\n",
      "\n",
      "           0     0.7526    0.7300    0.7411       100\n",
      "           1     0.7379    0.7600    0.7488       100\n",
      "\n",
      "    accuracy                         0.7450       200\n",
      "   macro avg     0.7452    0.7450    0.7449       200\n",
      "weighted avg     0.7452    0.7450    0.7449       200\n",
      "\n"
     ]
    }
   ],
   "source": [
    "from sklearn.ensemble import VotingClassifier\n",
    "from sklearn.neural_network import MLPClassifier\n",
    "from sklearn.linear_model import LogisticRegression\n",
    "from sklearn.svm import LinearSVC,SVC\n",
    "from sklearn.metrics import accuracy_score, confusion_matrix, classification_report, f1_score\n",
    "from sklearn.multiclass import OneVsRestClassifier\n",
    "import xgboost as xgb\n",
    "from sklearn.linear_model import SGDClassifier\n",
    "\n",
    "\n",
    "\n",
    "#mnb=MultinomialNB()\n",
    "mlp=RandomForestClassifier(n_estimators=1000)\n",
    "xgb_clf=SVC(kernel='linear',probability=True)\n",
    "lr=LogisticRegression()\n",
    "estimators=[('lr', lr), ('mlp', mlp),('xgb', xgb_clf)]\n",
    "clf = VotingClassifier(estimators, voting='soft')\n",
    "ensemble =clf\n",
    "\n",
    "\n",
    "ensemble.fit(x_train, y_train)\n",
    "\n",
    "y_pred = ensemble.predict(x_test) \n",
    "print(classification_report(y_test, y_pred,digits=4))"
   ]
  },
  {
   "cell_type": "code",
   "execution_count": 81,
   "metadata": {
    "execution": {
     "iopub.execute_input": "2021-06-16T13:53:58.306165Z",
     "iopub.status.busy": "2021-06-16T13:53:58.305728Z",
     "iopub.status.idle": "2021-06-16T13:53:58.312166Z",
     "shell.execute_reply": "2021-06-16T13:53:58.311070Z",
     "shell.execute_reply.started": "2021-06-16T13:53:58.306119Z"
    }
   },
   "outputs": [],
   "source": [
    "def train_model(classifier, feature_vector_train, label, feature_vector_valid, valid_label):\n",
    "    # fit the training dataset on the classifier\n",
    "    classifier.fit(feature_vector_train, label)\n",
    "    \n",
    "    # predict the labels on validation dataset\n",
    "    predictions = classifier.predict(feature_vector_valid)\n",
    "    \n",
    "    return classifier, metrics.accuracy_score(predictions, valid_label), metrics.classification_report(predictions, valid_label,digits=4)"
   ]
  },
  {
   "cell_type": "code",
   "execution_count": 82,
   "metadata": {
    "execution": {
     "iopub.execute_input": "2021-06-16T13:53:58.316670Z",
     "iopub.status.busy": "2021-06-16T13:53:58.316226Z",
     "iopub.status.idle": "2021-06-16T13:54:09.891662Z",
     "shell.execute_reply": "2021-06-16T13:54:09.890734Z",
     "shell.execute_reply.started": "2021-06-16T13:53:58.316623Z"
    }
   },
   "outputs": [
    {
     "name": "stderr",
     "output_type": "stream",
     "text": [
      "The use of label encoder in XGBClassifier is deprecated and will be removed in a future release. To remove this warning, do the following: 1) Pass option use_label_encoder=False when constructing XGBClassifier object; and 2) Encode your labels (y) as integers starting with 0, i.e. 0, 1, 2, ..., [num_class - 1].\n"
     ]
    },
    {
     "name": "stdout",
     "output_type": "stream",
     "text": [
      "[13:53:59] WARNING: ../src/learner.cc:1095: Starting in XGBoost 1.3.0, the default evaluation metric used with the objective 'binary:logistic' was changed from 'error' to 'logloss'. Explicitly set eval_metric if you'd like to restore the old behavior.\n",
      "Xgb, Accuracy:  0.635\n",
      "              precision    recall  f1-score   support\n",
      "\n",
      "           0     0.6200    0.6392    0.6294        97\n",
      "           1     0.6500    0.6311    0.6404       103\n",
      "\n",
      "    accuracy                         0.6350       200\n",
      "   macro avg     0.6350    0.6351    0.6349       200\n",
      "weighted avg     0.6355    0.6350    0.6351       200\n",
      "\n"
     ]
    }
   ],
   "source": [
    "# Extereme Gradient Boosting on Count Vectors\n",
    "classifier, accuracy, confusion_matrix = train_model(xgboost.XGBClassifier(), train_char_features, y_train, test_char_features, y_test)\n",
    "print(\"Xgb, Accuracy: \", accuracy)\n",
    "print(confusion_matrix)"
   ]
  },
  {
   "cell_type": "code",
   "execution_count": 83,
   "metadata": {
    "execution": {
     "iopub.execute_input": "2021-06-16T13:54:09.897253Z",
     "iopub.status.busy": "2021-06-16T13:54:09.896067Z",
     "iopub.status.idle": "2021-06-16T13:55:19.453746Z",
     "shell.execute_reply": "2021-06-16T13:55:19.452696Z",
     "shell.execute_reply.started": "2021-06-16T13:54:09.897200Z"
    }
   },
   "outputs": [
    {
     "name": "stderr",
     "output_type": "stream",
     "text": [
      "ntree_limit is deprecated, use `iteration_range` or model slicing instead.\n"
     ]
    },
    {
     "name": "stdout",
     "output_type": "stream",
     "text": [
      "time to compute Shapley values (s): 0.2854878902435303\n",
      "Cumulative Importance 100.0\n"
     ]
    }
   ],
   "source": [
    "vocab=ShapleyFiltering(classifier,train_char_features,char_vectorizer,15000)\n"
   ]
  },
  {
   "cell_type": "code",
   "execution_count": 84,
   "metadata": {
    "execution": {
     "iopub.execute_input": "2021-06-16T13:55:19.455467Z",
     "iopub.status.busy": "2021-06-16T13:55:19.455161Z",
     "iopub.status.idle": "2021-06-16T13:55:25.890812Z",
     "shell.execute_reply": "2021-06-16T13:55:25.889782Z",
     "shell.execute_reply.started": "2021-06-16T13:55:19.455437Z"
    }
   },
   "outputs": [
    {
     "data": {
      "text/plain": [
       "TfidfVectorizer(analyzer='char', ngram_range=(2, 5), strip_accents='unicode',\n",
       "                sublinear_tf=True,\n",
       "                vocabulary=          tru      tag         bs      t ba       rai     rl us       bar  \\\n",
       "0    0.890163 -0.016491 -0.471654 -0.130093  0.142820  0.120922 -0.040013   \n",
       "1    0.882915  0.538169  0.232390 -0.102851  0.197417  0.137908  0.120971   \n",
       "2    0.617736  0.763886  0.373447 -0.169638  0.174929  0.162985 -0.172969   \n",
       "3   -0.649243  0.585357  0.294760 -0.141312 -0.224866  0.1...\n",
       "296 -0.175041  0.059986  0.071891  ...   0.0  0.0    0.0    0.0   0.0   0.0   \n",
       "297 -0.098283 -0.225431 -0.309183  ...   0.0  0.0    0.0    0.0   0.0   0.0   \n",
       "298 -0.130871 -0.212710 -0.104905  ...   0.0  0.0    0.0    0.0   0.0   0.0   \n",
       "299 -0.143807 -0.305772 -0.199977  ...   0.0  0.0    0.0    0.0   0.0   0.0   \n",
       "\n",
       "     shan  shame  sham  shake  \n",
       "0     0.0    0.0   0.0    0.0  \n",
       "1     0.0    0.0   0.0    0.0  \n",
       "2     0.0    0.0   0.0    0.0  \n",
       "3     0.0    0.0   0.0    0.0  \n",
       "4     0.0    0.0   0.0    0.0  \n",
       "..    ...    ...   ...    ...  \n",
       "295   0.0    0.0   0.0    0.0  \n",
       "296   0.0    0.0   0.0    0.0  \n",
       "297   0.0    0.0   0.0    0.0  \n",
       "298   0.0    0.0   0.0    0.0  \n",
       "299   0.0    0.0   0.0    0.0  \n",
       "\n",
       "[300 rows x 15000 columns])"
      ]
     },
     "execution_count": 84,
     "metadata": {},
     "output_type": "execute_result"
    }
   ],
   "source": [
    "char_vectorizer = TfidfVectorizer(\n",
    "    sublinear_tf=True,\n",
    "    strip_accents='unicode',\n",
    "    analyzer='char',\n",
    "    ngram_range=(2, 5),\n",
    "    vocabulary= vocab)\n",
    "char_vectorizer.fit(sentences)"
   ]
  },
  {
   "cell_type": "code",
   "execution_count": 85,
   "metadata": {
    "execution": {
     "iopub.execute_input": "2021-06-16T13:55:25.892447Z",
     "iopub.status.busy": "2021-06-16T13:55:25.892139Z",
     "iopub.status.idle": "2021-06-16T13:55:27.887509Z",
     "shell.execute_reply": "2021-06-16T13:55:27.886485Z",
     "shell.execute_reply.started": "2021-06-16T13:55:25.892417Z"
    }
   },
   "outputs": [
    {
     "name": "stderr",
     "output_type": "stream",
     "text": [
      "The use of label encoder in XGBClassifier is deprecated and will be removed in a future release. To remove this warning, do the following: 1) Pass option use_label_encoder=False when constructing XGBClassifier object; and 2) Encode your labels (y) as integers starting with 0, i.e. 0, 1, 2, ..., [num_class - 1].\n"
     ]
    },
    {
     "name": "stdout",
     "output_type": "stream",
     "text": [
      "[13:55:25] WARNING: ../src/learner.cc:1095: Starting in XGBoost 1.3.0, the default evaluation metric used with the objective 'binary:logistic' was changed from 'error' to 'logloss'. Explicitly set eval_metric if you'd like to restore the old behavior.\n",
      "Xgb, Accuracy:  0.68\n",
      "              precision    recall  f1-score   support\n",
      "\n",
      "           0     0.6500    0.6915    0.6701        94\n",
      "           1     0.7100    0.6698    0.6893       106\n",
      "\n",
      "    accuracy                         0.6800       200\n",
      "   macro avg     0.6800    0.6807    0.6797       200\n",
      "weighted avg     0.6818    0.6800    0.6803       200\n",
      "\n"
     ]
    }
   ],
   "source": [
    "# Extereme Gradient Boosting on Count Vectors\n",
    "classifier, accuracy, confusion_matrix = train_model(xgboost.XGBClassifier(), train_word_features, y_train, test_word_features, y_test)\n",
    "print(\"Xgb, Accuracy: \", accuracy)\n",
    "print(confusion_matrix)"
   ]
  },
  {
   "cell_type": "code",
   "execution_count": 86,
   "metadata": {
    "execution": {
     "iopub.execute_input": "2021-06-16T13:55:27.893250Z",
     "iopub.status.busy": "2021-06-16T13:55:27.891432Z",
     "iopub.status.idle": "2021-06-16T13:56:36.866959Z",
     "shell.execute_reply": "2021-06-16T13:56:36.865907Z",
     "shell.execute_reply.started": "2021-06-16T13:55:27.893209Z"
    }
   },
   "outputs": [
    {
     "name": "stderr",
     "output_type": "stream",
     "text": [
      "ntree_limit is deprecated, use `iteration_range` or model slicing instead.\n"
     ]
    },
    {
     "name": "stdout",
     "output_type": "stream",
     "text": [
      "time to compute Shapley values (s): 0.27031898498535156\n",
      "Cumulative Importance 100.0\n"
     ]
    }
   ],
   "source": [
    "vocab=ShapleyFiltering(classifier,train_word_features,word_vectorizer,15000)"
   ]
  },
  {
   "cell_type": "code",
   "execution_count": 87,
   "metadata": {
    "execution": {
     "iopub.execute_input": "2021-06-16T13:56:36.868773Z",
     "iopub.status.busy": "2021-06-16T13:56:36.868476Z",
     "iopub.status.idle": "2021-06-16T13:56:37.971676Z",
     "shell.execute_reply": "2021-06-16T13:56:37.970706Z",
     "shell.execute_reply.started": "2021-06-16T13:56:36.868743Z"
    }
   },
   "outputs": [
    {
     "data": {
      "text/plain": [
       "TfidfVectorizer(ngram_range=(1, 3), strip_accents='unicode', sublinear_tf=True,\n",
       "                vocabulary=        trump   hashtag  url user    future      from  user url       out  \\\n",
       "0    1.248691  0.005699  0.375242  0.181637  0.178165  0.244054  0.359007   \n",
       "1    0.943193  1.011413  0.256479  0.238480  0.301806  0.266080 -0.325854   \n",
       "2    1.253020  0.927811  0.340464  0.311555  0.322027  0.097903 -0.182189   \n",
       "3   -0.659346  0.144531  0.370806  0.225099  0.209283  0.248072...\n",
       "298 -0.435547 -0.410297 -0.093573  ...            0.0    0.0    0.0   0.0   \n",
       "299  0.300205  0.233041 -0.133541  ...            0.0    0.0    0.0   0.0   \n",
       "\n",
       "     twenty  two dead  two daughters  two cutest fans  two cutest  twitters  \n",
       "0       0.0       0.0            0.0              0.0         0.0       0.0  \n",
       "1       0.0       0.0            0.0              0.0         0.0       0.0  \n",
       "2       0.0       0.0            0.0              0.0         0.0       0.0  \n",
       "3       0.0       0.0            0.0              0.0         0.0       0.0  \n",
       "4       0.0       0.0            0.0              0.0         0.0       0.0  \n",
       "..      ...       ...            ...              ...         ...       ...  \n",
       "295     0.0       0.0            0.0              0.0         0.0       0.0  \n",
       "296     0.0       0.0            0.0              0.0         0.0       0.0  \n",
       "297     0.0       0.0            0.0              0.0         0.0       0.0  \n",
       "298     0.0       0.0            0.0              0.0         0.0       0.0  \n",
       "299     0.0       0.0            0.0              0.0         0.0       0.0  \n",
       "\n",
       "[300 rows x 15000 columns])"
      ]
     },
     "execution_count": 87,
     "metadata": {},
     "output_type": "execute_result"
    }
   ],
   "source": [
    "word_vectorizer = TfidfVectorizer(\n",
    "    sublinear_tf=True,\n",
    "    strip_accents='unicode',\n",
    "    analyzer='word',\n",
    "    ngram_range=(1, 3),\n",
    "    vocabulary= vocab)\n",
    "word_vectorizer.fit(sentences)"
   ]
  },
  {
   "cell_type": "code",
   "execution_count": null,
   "metadata": {},
   "outputs": [],
   "source": []
  },
  {
   "cell_type": "code",
   "execution_count": 88,
   "metadata": {
    "execution": {
     "iopub.execute_input": "2021-06-16T13:56:37.973331Z",
     "iopub.status.busy": "2021-06-16T13:56:37.973047Z",
     "iopub.status.idle": "2021-06-16T13:56:37.978417Z",
     "shell.execute_reply": "2021-06-16T13:56:37.977459Z",
     "shell.execute_reply.started": "2021-06-16T13:56:37.973303Z"
    }
   },
   "outputs": [
    {
     "data": {
      "text/plain": [
       "'# Extereme Gradient Boosting on Count Vectors\\nclassifier, accuracy, confusion_matrix = train_model(xgboost.XGBClassifier(), train_sn_features, y_train, test_sn_features, y_test)\\nprint(\"Xgb, Accuracy: \", accuracy)\\nprint(confusion_matrix)'"
      ]
     },
     "execution_count": 88,
     "metadata": {},
     "output_type": "execute_result"
    }
   ],
   "source": [
    "'''# Extereme Gradient Boosting on Count Vectors\n",
    "classifier, accuracy, confusion_matrix = train_model(xgboost.XGBClassifier(), train_sn_features, y_train, test_sn_features, y_test)\n",
    "print(\"Xgb, Accuracy: \", accuracy)\n",
    "print(confusion_matrix)'''"
   ]
  },
  {
   "cell_type": "code",
   "execution_count": 89,
   "metadata": {
    "execution": {
     "iopub.execute_input": "2021-06-16T13:56:37.980427Z",
     "iopub.status.busy": "2021-06-16T13:56:37.979991Z",
     "iopub.status.idle": "2021-06-16T13:56:37.994471Z",
     "shell.execute_reply": "2021-06-16T13:56:37.993321Z",
     "shell.execute_reply.started": "2021-06-16T13:56:37.980384Z"
    }
   },
   "outputs": [
    {
     "data": {
      "text/plain": [
       "'vocab=ShapleyFiltering(classifier,train_sn_features,sn_vectorizer,30000)'"
      ]
     },
     "execution_count": 89,
     "metadata": {},
     "output_type": "execute_result"
    }
   ],
   "source": [
    "'''vocab=ShapleyFiltering(classifier,train_sn_features,sn_vectorizer,30000)'''"
   ]
  },
  {
   "cell_type": "code",
   "execution_count": 90,
   "metadata": {
    "execution": {
     "iopub.execute_input": "2021-06-16T13:56:37.996684Z",
     "iopub.status.busy": "2021-06-16T13:56:37.996373Z",
     "iopub.status.idle": "2021-06-16T13:56:38.007645Z",
     "shell.execute_reply": "2021-06-16T13:56:38.006459Z",
     "shell.execute_reply.started": "2021-06-16T13:56:37.996656Z"
    }
   },
   "outputs": [
    {
     "data": {
      "text/plain": [
       "\"sn_vectorizer = TfidfVectorizer(\\n    sublinear_tf=True,\\n    strip_accents='unicode',\\n    analyzer=get_sngrams,\\n    \\n    vocabulary= vocab)\\nsn_vectorizer.fit(sentences)\""
      ]
     },
     "execution_count": 90,
     "metadata": {},
     "output_type": "execute_result"
    }
   ],
   "source": [
    "'''sn_vectorizer = TfidfVectorizer(\n",
    "    sublinear_tf=True,\n",
    "    strip_accents='unicode',\n",
    "    analyzer=get_sngrams,\n",
    "    \n",
    "    vocabulary= vocab)\n",
    "sn_vectorizer.fit(sentences)'''"
   ]
  },
  {
   "cell_type": "code",
   "execution_count": null,
   "metadata": {},
   "outputs": [],
   "source": []
  },
  {
   "cell_type": "code",
   "execution_count": 91,
   "metadata": {
    "execution": {
     "iopub.execute_input": "2021-06-16T13:56:38.009310Z",
     "iopub.status.busy": "2021-06-16T13:56:38.008970Z",
     "iopub.status.idle": "2021-06-16T13:56:50.524113Z",
     "shell.execute_reply": "2021-06-16T13:56:50.522971Z",
     "shell.execute_reply.started": "2021-06-16T13:56:38.009278Z"
    }
   },
   "outputs": [],
   "source": [
    "train_word_features = word_vectorizer.transform(train_en.cleaned)\n",
    "test_word_features = word_vectorizer.transform(test_en.cleaned)\n",
    "\n",
    "train_char_features = char_vectorizer.transform(train_en.cleaned)\n",
    "test_char_features = char_vectorizer.transform(test_en.cleaned)\n",
    "\n",
    "\n",
    "\n",
    "'''train_sn_features = sn_vectorizer.transform(train_en.cleaned)\n",
    "test_sn_features = sn_vectorizer.transform(test_en.cleaned)'''\n",
    "\n",
    "\n",
    "x_train = hstack([train_char_features, train_word_features])#,train_sn_features])\n",
    "x_test = hstack([test_char_features, test_word_features])#,test_sn_features])\n",
    "\n",
    "\n",
    "y_train=train_en.label\n",
    "y_test=test_en.label"
   ]
  },
  {
   "cell_type": "code",
   "execution_count": 92,
   "metadata": {
    "execution": {
     "iopub.execute_input": "2021-06-16T13:56:50.525879Z",
     "iopub.status.busy": "2021-06-16T13:56:50.525534Z",
     "iopub.status.idle": "2021-06-16T13:56:50.533310Z",
     "shell.execute_reply": "2021-06-16T13:56:50.532182Z",
     "shell.execute_reply.started": "2021-06-16T13:56:50.525845Z"
    }
   },
   "outputs": [
    {
     "name": "stdout",
     "output_type": "stream",
     "text": [
      "Shape of Sparse Matrix:  (300, 30000)\n",
      "Amount of Non-Zero occurences:  1238328\n",
      "sparsity: 13.76%\n"
     ]
    }
   ],
   "source": [
    "print ('Shape of Sparse Matrix: ', x_train.shape)\n",
    "print ('Amount of Non-Zero occurences: ', x_train.nnz)\n",
    "print ('sparsity: %.2f%%' % (100.0 * x_train.nnz /\n",
    "                             (x_train.shape[0] * x_train.shape[1])))"
   ]
  },
  {
   "cell_type": "code",
   "execution_count": 93,
   "metadata": {
    "execution": {
     "iopub.execute_input": "2021-06-16T13:56:50.534815Z",
     "iopub.status.busy": "2021-06-16T13:56:50.534509Z",
     "iopub.status.idle": "2021-06-16T13:56:51.359842Z",
     "shell.execute_reply": "2021-06-16T13:56:51.358473Z",
     "shell.execute_reply.started": "2021-06-16T13:56:50.534784Z"
    }
   },
   "outputs": [
    {
     "name": "stdout",
     "output_type": "stream",
     "text": [
      "              precision    recall  f1-score   support\n",
      "\n",
      "           0     0.7684    0.7300    0.7487       100\n",
      "           1     0.7429    0.7800    0.7610       100\n",
      "\n",
      "    accuracy                         0.7550       200\n",
      "   macro avg     0.7556    0.7550    0.7548       200\n",
      "weighted avg     0.7556    0.7550    0.7548       200\n",
      "\n"
     ]
    }
   ],
   "source": [
    "from sklearn.ensemble import VotingClassifier\n",
    "from sklearn.linear_model import LogisticRegression\n",
    "from sklearn.svm import LinearSVC,SVC\n",
    "from sklearn.metrics import accuracy_score, confusion_matrix, classification_report, f1_score\n",
    "\n",
    "\n",
    "lr=LogisticRegression(C=20)\n",
    "lr.fit(x_train, y_train)\n",
    "y_pred = lr.predict(x_test) \n",
    "print(classification_report(y_test, y_pred,digits=4))"
   ]
  },
  {
   "cell_type": "code",
   "execution_count": 94,
   "metadata": {
    "execution": {
     "iopub.execute_input": "2021-06-16T13:56:51.362055Z",
     "iopub.status.busy": "2021-06-16T13:56:51.361578Z",
     "iopub.status.idle": "2021-06-16T13:57:12.512022Z",
     "shell.execute_reply": "2021-06-16T13:57:12.511061Z",
     "shell.execute_reply.started": "2021-06-16T13:56:51.361989Z"
    }
   },
   "outputs": [
    {
     "name": "stdout",
     "output_type": "stream",
     "text": [
      "              precision    recall  f1-score   support\n",
      "\n",
      "           0     0.7629    0.7400    0.7513       100\n",
      "           1     0.7476    0.7700    0.7586       100\n",
      "\n",
      "    accuracy                         0.7550       200\n",
      "   macro avg     0.7552    0.7550    0.7549       200\n",
      "weighted avg     0.7552    0.7550    0.7549       200\n",
      "\n"
     ]
    }
   ],
   "source": [
    "svm_clf=SVC(kernel='linear',probability=True)\n",
    "svm_clf.fit(x_train, y_train)\n",
    "y_pred = svm_clf.predict(x_test)\n",
    "print(classification_report(y_test, y_pred,digits=4))"
   ]
  },
  {
   "cell_type": "code",
   "execution_count": 95,
   "metadata": {
    "execution": {
     "iopub.execute_input": "2021-06-16T13:57:12.513652Z",
     "iopub.status.busy": "2021-06-16T13:57:12.513366Z",
     "iopub.status.idle": "2021-06-16T13:57:21.985050Z",
     "shell.execute_reply": "2021-06-16T13:57:21.983934Z",
     "shell.execute_reply.started": "2021-06-16T13:57:12.513626Z"
    }
   },
   "outputs": [
    {
     "name": "stdout",
     "output_type": "stream",
     "text": [
      "              precision    recall  f1-score   support\n",
      "\n",
      "           0     0.7368    0.7000    0.7179       100\n",
      "           1     0.7143    0.7500    0.7317       100\n",
      "\n",
      "    accuracy                         0.7250       200\n",
      "   macro avg     0.7256    0.7250    0.7248       200\n",
      "weighted avg     0.7256    0.7250    0.7248       200\n",
      "\n"
     ]
    }
   ],
   "source": [
    "#Import Random Forest Model\n",
    "from sklearn.ensemble import RandomForestClassifier\n",
    "\n",
    "#Create a Gaussian Classifier\n",
    "model=RandomForestClassifier(n_estimators=1000)\n",
    "model.fit(x_train, y_train)\n",
    "y_pred = model.predict(x_test)\n",
    "print(classification_report(y_test, y_pred,digits=4))"
   ]
  },
  {
   "cell_type": "code",
   "execution_count": 96,
   "metadata": {
    "execution": {
     "iopub.execute_input": "2021-06-16T13:57:21.986853Z",
     "iopub.status.busy": "2021-06-16T13:57:21.986553Z",
     "iopub.status.idle": "2021-06-16T13:58:31.954826Z",
     "shell.execute_reply": "2021-06-16T13:58:31.953439Z",
     "shell.execute_reply.started": "2021-06-16T13:57:21.986823Z"
    }
   },
   "outputs": [
    {
     "name": "stdout",
     "output_type": "stream",
     "text": [
      "              precision    recall  f1-score   support\n",
      "\n",
      "           0     0.7849    0.7300    0.7565       100\n",
      "           1     0.7477    0.8000    0.7729       100\n",
      "\n",
      "    accuracy                         0.7650       200\n",
      "   macro avg     0.7663    0.7650    0.7647       200\n",
      "weighted avg     0.7663    0.7650    0.7647       200\n",
      "\n"
     ]
    }
   ],
   "source": [
    "from sklearn.ensemble import VotingClassifier\n",
    "from sklearn.neural_network import MLPClassifier\n",
    "from sklearn.linear_model import LogisticRegression\n",
    "from sklearn.svm import LinearSVC,SVC\n",
    "from sklearn.metrics import accuracy_score, confusion_matrix, classification_report, f1_score\n",
    "from sklearn.multiclass import OneVsRestClassifier\n",
    "import xgboost as xgb\n",
    "from sklearn.linear_model import SGDClassifier\n",
    "\n",
    "\n",
    "\n",
    "#mnb=MultinomialNB()\n",
    "mlp=RandomForestClassifier(n_estimators=5000)\n",
    "xgb_clf=SVC(kernel='linear',probability=True)\n",
    "lr=LogisticRegression()\n",
    "estimators=[('lr', lr), ('mlp', mlp),('xgb', xgb_clf)]\n",
    "clf = VotingClassifier(estimators, voting='soft')\n",
    "ensemble =clf\n",
    "\n",
    "\n",
    "ensemble.fit(x_train, y_train)\n",
    "\n",
    "y_pred = ensemble.predict(x_test) \n",
    "print(classification_report(y_test, y_pred,digits=4))"
   ]
  },
  {
   "cell_type": "code",
   "execution_count": 97,
   "metadata": {
    "execution": {
     "iopub.execute_input": "2021-06-16T13:58:31.958653Z",
     "iopub.status.busy": "2021-06-16T13:58:31.958277Z",
     "iopub.status.idle": "2021-06-16T13:58:32.524385Z",
     "shell.execute_reply": "2021-06-16T13:58:32.523200Z",
     "shell.execute_reply.started": "2021-06-16T13:58:31.958616Z"
    }
   },
   "outputs": [
    {
     "data": {
      "image/png": "[encoded data removed]",
      "text/plain": [
       "<Figure size 432x288 with 2 Axes>"
      ]
     },
     "metadata": {},
     "output_type": "display_data"
    }
   ],
   "source": [
    "import seaborn as sn\n",
    "data = {'y_Actual':  y_test ,\n",
    "        'y_Predicted': y_pred\n",
    "        }\n",
    "\n",
    "df = pd.DataFrame(data, columns=['y_Actual','y_Predicted'])\n",
    "confusion_matrix = pd.crosstab(df['y_Actual'], df['y_Predicted'], rownames=['Actual'], colnames=['Predicted'])\n",
    "sns.set(font_scale=1.2)\n",
    "sn.heatmap(confusion_matrix/np.sum(confusion_matrix), annot=True,fmt='.2%', cmap='Blues')\n",
    "plt.show()"
   ]
  },
  {
   "cell_type": "code",
   "execution_count": null,
   "metadata": {},
   "outputs": [],
   "source": []
  },
  {
   "cell_type": "code",
   "execution_count": null,
   "metadata": {},
   "outputs": [],
   "source": []
  },
  {
   "cell_type": "markdown",
   "metadata": {},
   "source": [
    "**Spanish**"
   ]
  },
  {
   "cell_type": "markdown",
   "metadata": {},
   "source": [
    "**Without FS**"
   ]
  },
  {
   "cell_type": "code",
   "execution_count": 98,
   "metadata": {
    "execution": {
     "iopub.execute_input": "2021-06-16T14:05:48.607210Z",
     "iopub.status.busy": "2021-06-16T14:05:48.606711Z",
     "iopub.status.idle": "2021-06-16T14:06:20.059221Z",
     "shell.execute_reply": "2021-06-16T14:06:20.058266Z",
     "shell.execute_reply.started": "2021-06-16T14:05:48.607169Z"
    }
   },
   "outputs": [],
   "source": [
    "sentences=list(train_es.cleaned)\n",
    "from scipy.sparse import hstack\n",
    "word_vectorizer = TfidfVectorizer(\n",
    "    sublinear_tf=True,\n",
    "    strip_accents='unicode',\n",
    "    analyzer='word',\n",
    "    ngram_range=(1, 3),\n",
    "    max_features=30000)\n",
    "word_vectorizer.fit(sentences)\n",
    "\n",
    "char_vectorizer = TfidfVectorizer(\n",
    "    sublinear_tf=True,\n",
    "    strip_accents='unicode',\n",
    "    analyzer='char',\n",
    "    ngram_range=(2, 5),\n",
    "    max_features=30000)\n",
    "char_vectorizer.fit(sentences)\n",
    "\n",
    "'''sn_vectorizer = TfidfVectorizer(\n",
    "    sublinear_tf=True,\n",
    "    strip_accents='unicode',\n",
    "    analyzer=get_sngrams,\n",
    "    \n",
    "    max_features=35000)\n",
    "sn_vectorizer.fit(sentences)'''\n",
    "\n",
    "\n",
    "\n",
    "train_word_features = word_vectorizer.transform(train_es.cleaned)\n",
    "test_word_features = word_vectorizer.transform(test_es.cleaned)\n",
    "\n",
    "train_char_features = char_vectorizer.transform(train_es.cleaned)\n",
    "test_char_features = char_vectorizer.transform(test_es.cleaned)\n",
    "\n",
    "\n",
    "'''\n",
    "train_sn_features = sn_vectorizer.transform(train_es.cleaned)\n",
    "test_sn_features = sn_vectorizer.transform(test_es.cleaned)\n",
    "'''\n",
    "\n",
    "x_train = hstack([train_char_features, train_word_features])#,train_sn_features])\n",
    "x_test = hstack([test_char_features, test_word_features])#,test_sn_features])\n",
    "\n",
    "y_train=train_en.label\n",
    "y_test=test_en.label"
   ]
  },
  {
   "cell_type": "code",
   "execution_count": 99,
   "metadata": {
    "execution": {
     "iopub.execute_input": "2021-06-16T14:06:20.061567Z",
     "iopub.status.busy": "2021-06-16T14:06:20.060885Z",
     "iopub.status.idle": "2021-06-16T14:06:22.009579Z",
     "shell.execute_reply": "2021-06-16T14:06:22.008371Z",
     "shell.execute_reply.started": "2021-06-16T14:06:20.061518Z"
    }
   },
   "outputs": [
    {
     "name": "stdout",
     "output_type": "stream",
     "text": [
      "              precision    recall  f1-score   support\n",
      "\n",
      "           0     0.7500    0.8400    0.7925       100\n",
      "           1     0.8182    0.7200    0.7660       100\n",
      "\n",
      "    accuracy                         0.7800       200\n",
      "   macro avg     0.7841    0.7800    0.7792       200\n",
      "weighted avg     0.7841    0.7800    0.7792       200\n",
      "\n"
     ]
    }
   ],
   "source": [
    "from sklearn.ensemble import VotingClassifier\n",
    "from sklearn.linear_model import LogisticRegression\n",
    "from sklearn.svm import LinearSVC,SVC\n",
    "from sklearn.metrics import accuracy_score, confusion_matrix, classification_report, f1_score\n",
    "\n",
    "\n",
    "lr=LogisticRegression(C=20)\n",
    "lr.fit(x_train, y_train)\n",
    "y_pred = lr.predict(x_test) \n",
    "print(classification_report(y_test, y_pred,digits=4))"
   ]
  },
  {
   "cell_type": "code",
   "execution_count": 100,
   "metadata": {
    "execution": {
     "iopub.execute_input": "2021-06-16T14:06:22.011820Z",
     "iopub.status.busy": "2021-06-16T14:06:22.011305Z",
     "iopub.status.idle": "2021-06-16T14:07:08.622159Z",
     "shell.execute_reply": "2021-06-16T14:07:08.620825Z",
     "shell.execute_reply.started": "2021-06-16T14:06:22.011782Z"
    }
   },
   "outputs": [
    {
     "name": "stdout",
     "output_type": "stream",
     "text": [
      "              precision    recall  f1-score   support\n",
      "\n",
      "           0     0.7658    0.8500    0.8057       100\n",
      "           1     0.8315    0.7400    0.7831       100\n",
      "\n",
      "    accuracy                         0.7950       200\n",
      "   macro avg     0.7986    0.7950    0.7944       200\n",
      "weighted avg     0.7986    0.7950    0.7944       200\n",
      "\n"
     ]
    }
   ],
   "source": [
    "svm_clf=SVC(kernel='linear',probability=True)\n",
    "svm_clf.fit(x_train, y_train)\n",
    "y_pred = svm_clf.predict(x_test)\n",
    "print(classification_report(y_test, y_pred,digits=4))"
   ]
  },
  {
   "cell_type": "code",
   "execution_count": 101,
   "metadata": {
    "execution": {
     "iopub.execute_input": "2021-06-16T14:07:08.623874Z",
     "iopub.status.busy": "2021-06-16T14:07:08.623588Z",
     "iopub.status.idle": "2021-06-16T14:07:23.506774Z",
     "shell.execute_reply": "2021-06-16T14:07:23.505601Z",
     "shell.execute_reply.started": "2021-06-16T14:07:08.623846Z"
    }
   },
   "outputs": [
    {
     "name": "stdout",
     "output_type": "stream",
     "text": [
      "              precision    recall  f1-score   support\n",
      "\n",
      "           0     0.6991    0.7900    0.7418       100\n",
      "           1     0.7586    0.6600    0.7059       100\n",
      "\n",
      "    accuracy                         0.7250       200\n",
      "   macro avg     0.7289    0.7250    0.7238       200\n",
      "weighted avg     0.7289    0.7250    0.7238       200\n",
      "\n"
     ]
    }
   ],
   "source": [
    "#Import Random Forest Model\n",
    "from sklearn.ensemble import RandomForestClassifier\n",
    "\n",
    "#Create a Gaussian Classifier\n",
    "model=RandomForestClassifier(n_estimators=1000)\n",
    "model.fit(x_train, y_train)\n",
    "y_pred = model.predict(x_test)\n",
    "print(classification_report(y_test, y_pred,digits=4))"
   ]
  },
  {
   "cell_type": "code",
   "execution_count": 102,
   "metadata": {
    "execution": {
     "iopub.execute_input": "2021-06-16T14:07:23.508369Z",
     "iopub.status.busy": "2021-06-16T14:07:23.508073Z",
     "iopub.status.idle": "2021-06-16T14:08:26.434599Z",
     "shell.execute_reply": "2021-06-16T14:08:26.433732Z",
     "shell.execute_reply.started": "2021-06-16T14:07:23.508340Z"
    }
   },
   "outputs": [
    {
     "name": "stdout",
     "output_type": "stream",
     "text": [
      "              precision    recall  f1-score   support\n",
      "\n",
      "           0     0.7455    0.8200    0.7810       100\n",
      "           1     0.8000    0.7200    0.7579       100\n",
      "\n",
      "    accuracy                         0.7700       200\n",
      "   macro avg     0.7727    0.7700    0.7694       200\n",
      "weighted avg     0.7727    0.7700    0.7694       200\n",
      "\n"
     ]
    }
   ],
   "source": [
    "from sklearn.ensemble import VotingClassifier\n",
    "from sklearn.neural_network import MLPClassifier\n",
    "from sklearn.linear_model import LogisticRegression\n",
    "from sklearn.svm import LinearSVC,SVC\n",
    "from sklearn.metrics import accuracy_score, confusion_matrix, classification_report, f1_score\n",
    "from sklearn.multiclass import OneVsRestClassifier\n",
    "import xgboost as xgb\n",
    "from sklearn.linear_model import SGDClassifier\n",
    "\n",
    "\n",
    "\n",
    "#mnb=MultinomialNB()\n",
    "mlp=RandomForestClassifier(n_estimators=1000)\n",
    "xgb_clf=SVC(kernel='linear',probability=True)\n",
    "lr=LogisticRegression()\n",
    "estimators=[('lr', lr), ('mlp', mlp),('xgb', xgb_clf)]\n",
    "clf = VotingClassifier(estimators, voting='soft')\n",
    "ensemble =clf\n",
    "\n",
    "\n",
    "ensemble.fit(x_train, y_train)\n",
    "\n",
    "y_pred = ensemble.predict(x_test) \n",
    "print(classification_report(y_test, y_pred,digits=4))"
   ]
  },
  {
   "cell_type": "code",
   "execution_count": 103,
   "metadata": {
    "execution": {
     "iopub.execute_input": "2021-06-16T14:08:26.436213Z",
     "iopub.status.busy": "2021-06-16T14:08:26.435771Z",
     "iopub.status.idle": "2021-06-16T14:08:26.442766Z",
     "shell.execute_reply": "2021-06-16T14:08:26.441752Z",
     "shell.execute_reply.started": "2021-06-16T14:08:26.436182Z"
    }
   },
   "outputs": [
    {
     "name": "stdout",
     "output_type": "stream",
     "text": [
      "Shape of Sparse Matrix:  (300, 60000)\n",
      "Amount of Non-Zero occurences:  2727688\n",
      "sparsity: 15.15%\n"
     ]
    }
   ],
   "source": [
    "print ('Shape of Sparse Matrix: ', x_train.shape)\n",
    "print ('Amount of Non-Zero occurences: ', x_train.nnz)\n",
    "print ('sparsity: %.2f%%' % (100.0 * x_train.nnz /\n",
    "                             (x_train.shape[0] * x_train.shape[1])))"
   ]
  },
  {
   "cell_type": "code",
   "execution_count": 104,
   "metadata": {
    "execution": {
     "iopub.execute_input": "2021-06-16T14:08:26.444426Z",
     "iopub.status.busy": "2021-06-16T14:08:26.444120Z",
     "iopub.status.idle": "2021-06-16T14:08:37.980337Z",
     "shell.execute_reply": "2021-06-16T14:08:37.979490Z",
     "shell.execute_reply.started": "2021-06-16T14:08:26.444390Z"
    }
   },
   "outputs": [
    {
     "name": "stderr",
     "output_type": "stream",
     "text": [
      "The use of label encoder in XGBClassifier is deprecated and will be removed in a future release. To remove this warning, do the following: 1) Pass option use_label_encoder=False when constructing XGBClassifier object; and 2) Encode your labels (y) as integers starting with 0, i.e. 0, 1, 2, ..., [num_class - 1].\n"
     ]
    },
    {
     "name": "stdout",
     "output_type": "stream",
     "text": [
      "[14:08:27] WARNING: ../src/learner.cc:1095: Starting in XGBoost 1.3.0, the default evaluation metric used with the objective 'binary:logistic' was changed from 'error' to 'logloss'. Explicitly set eval_metric if you'd like to restore the old behavior.\n",
      "Xgb, Accuracy:  0.7\n",
      "              precision    recall  f1-score   support\n",
      "\n",
      "           0     0.7800    0.6724    0.7222       116\n",
      "           1     0.6200    0.7381    0.6739        84\n",
      "\n",
      "    accuracy                         0.7000       200\n",
      "   macro avg     0.7000    0.7053    0.6981       200\n",
      "weighted avg     0.7128    0.7000    0.7019       200\n",
      "\n"
     ]
    }
   ],
   "source": [
    "# Extereme Gradient Boosting on Count Vectors\n",
    "classifier, accuracy, confusion_matrix = train_model(xgboost.XGBClassifier(), train_char_features, y_train, test_char_features, y_test)\n",
    "print(\"Xgb, Accuracy: \", accuracy)\n",
    "print(confusion_matrix)"
   ]
  },
  {
   "cell_type": "code",
   "execution_count": 105,
   "metadata": {
    "execution": {
     "iopub.execute_input": "2021-06-16T14:08:37.983494Z",
     "iopub.status.busy": "2021-06-16T14:08:37.982854Z",
     "iopub.status.idle": "2021-06-16T14:09:55.812572Z",
     "shell.execute_reply": "2021-06-16T14:09:55.811557Z",
     "shell.execute_reply.started": "2021-06-16T14:08:37.983453Z"
    }
   },
   "outputs": [
    {
     "name": "stderr",
     "output_type": "stream",
     "text": [
      "ntree_limit is deprecated, use `iteration_range` or model slicing instead.\n"
     ]
    },
    {
     "name": "stdout",
     "output_type": "stream",
     "text": [
      "time to compute Shapley values (s): 0.2869296073913574\n",
      "Cumulative Importance 100.0\n"
     ]
    },
    {
     "data": {
      "text/plain": [
       "TfidfVectorizer(analyzer='char', ngram_range=(2, 5), strip_accents='unicode',\n",
       "                sublinear_tf=True,\n",
       "                vocabulary=          g u      a ur      unda     sobre       mon        fe       can  \\\n",
       "0   -0.311235 -0.118286  0.211431  0.295244  1.028950  0.223845 -0.063482   \n",
       "1    1.363978  0.512932 -0.189596  0.223214 -0.087594 -0.174142 -0.065421   \n",
       "2    1.329233  0.260950  0.166257  0.175772 -0.096453  0.175560 -0.065421   \n",
       "3    1.296465  0.599391  0.211144  0.253964 -0.095713 -0...\n",
       "297 -0.166102 -0.230500  0.177686  ...    0.0    0.0    0.0    0.0    0.0   \n",
       "298 -0.169857 -0.164660 -0.158352  ...    0.0    0.0    0.0    0.0    0.0   \n",
       "299 -0.161877  0.132457  0.161954  ...    0.0    0.0    0.0    0.0    0.0   \n",
       "\n",
       "     s in  s imp  s img  s ima  s im  \n",
       "0     0.0    0.0    0.0    0.0   0.0  \n",
       "1     0.0    0.0    0.0    0.0   0.0  \n",
       "2     0.0    0.0    0.0    0.0   0.0  \n",
       "3     0.0    0.0    0.0    0.0   0.0  \n",
       "4     0.0    0.0    0.0    0.0   0.0  \n",
       "..    ...    ...    ...    ...   ...  \n",
       "295   0.0    0.0    0.0    0.0   0.0  \n",
       "296   0.0    0.0    0.0    0.0   0.0  \n",
       "297   0.0    0.0    0.0    0.0   0.0  \n",
       "298   0.0    0.0    0.0    0.0   0.0  \n",
       "299   0.0    0.0    0.0    0.0   0.0  \n",
       "\n",
       "[300 rows x 15000 columns])"
      ]
     },
     "execution_count": 105,
     "metadata": {},
     "output_type": "execute_result"
    }
   ],
   "source": [
    "vocab=ShapleyFiltering(classifier,train_char_features,char_vectorizer,15000)\n",
    "char_vectorizer = TfidfVectorizer(\n",
    "    sublinear_tf=True,\n",
    "    strip_accents='unicode',\n",
    "    analyzer='char',\n",
    "    ngram_range=(2, 5),\n",
    "    vocabulary= vocab)\n",
    "char_vectorizer.fit(sentences)"
   ]
  },
  {
   "cell_type": "code",
   "execution_count": 106,
   "metadata": {
    "execution": {
     "iopub.execute_input": "2021-06-16T14:09:55.814487Z",
     "iopub.status.busy": "2021-06-16T14:09:55.814176Z",
     "iopub.status.idle": "2021-06-16T14:09:57.833125Z",
     "shell.execute_reply": "2021-06-16T14:09:57.832180Z",
     "shell.execute_reply.started": "2021-06-16T14:09:55.814457Z"
    }
   },
   "outputs": [
    {
     "name": "stderr",
     "output_type": "stream",
     "text": [
      "The use of label encoder in XGBClassifier is deprecated and will be removed in a future release. To remove this warning, do the following: 1) Pass option use_label_encoder=False when constructing XGBClassifier object; and 2) Encode your labels (y) as integers starting with 0, i.e. 0, 1, 2, ..., [num_class - 1].\n"
     ]
    },
    {
     "name": "stdout",
     "output_type": "stream",
     "text": [
      "[14:09:55] WARNING: ../src/learner.cc:1095: Starting in XGBoost 1.3.0, the default evaluation metric used with the objective 'binary:logistic' was changed from 'error' to 'logloss'. Explicitly set eval_metric if you'd like to restore the old behavior.\n",
      "Xgb, Accuracy:  0.7\n",
      "              precision    recall  f1-score   support\n",
      "\n",
      "           0     0.7800    0.6724    0.7222       116\n",
      "           1     0.6200    0.7381    0.6739        84\n",
      "\n",
      "    accuracy                         0.7000       200\n",
      "   macro avg     0.7000    0.7053    0.6981       200\n",
      "weighted avg     0.7128    0.7000    0.7019       200\n",
      "\n"
     ]
    }
   ],
   "source": [
    "# Extereme Gradient Boosting on Count Vectors\n",
    "classifier, accuracy, confusion_matrix = train_model(xgboost.XGBClassifier(), train_word_features, y_train, test_word_features, y_test)\n",
    "print(\"Xgb, Accuracy: \", accuracy)\n",
    "print(confusion_matrix)"
   ]
  },
  {
   "cell_type": "code",
   "execution_count": 107,
   "metadata": {
    "execution": {
     "iopub.execute_input": "2021-06-16T14:09:57.837303Z",
     "iopub.status.busy": "2021-06-16T14:09:57.836921Z",
     "iopub.status.idle": "2021-06-16T14:11:10.412272Z",
     "shell.execute_reply": "2021-06-16T14:11:10.411266Z",
     "shell.execute_reply.started": "2021-06-16T14:09:57.837266Z"
    }
   },
   "outputs": [
    {
     "name": "stderr",
     "output_type": "stream",
     "text": [
      "ntree_limit is deprecated, use `iteration_range` or model slicing instead.\n"
     ]
    },
    {
     "name": "stdout",
     "output_type": "stream",
     "text": [
      "time to compute Shapley values (s): 0.2786281108856201\n",
      "Cumulative Importance 100.00000000000001\n"
     ]
    },
    {
     "data": {
      "text/plain": [
       "TfidfVectorizer(ngram_range=(1, 3), strip_accents='unicode', sublinear_tf=True,\n",
       "                vocabulary=     user user user     sobre  hashtag hashtag       pas   hashtag      pero  \\\n",
       "0         -0.849146  0.759617         0.106359  0.435265 -0.043653  0.069140   \n",
       "1          0.588899  0.817629         0.435242 -0.187115  0.256093  0.238609   \n",
       "2          0.762236  0.693392         0.408514 -0.257751  0.500464  0.251937   \n",
       "3          0.781890  0.466546         0.311063  0.334624  0.459006  0.146774   \n",
       "4          0.578462  0.624454...\n",
       "0               0.0        0.0     0.0            0.0       0.0        0.0   \n",
       "1               0.0        0.0     0.0            0.0       0.0        0.0   \n",
       "2               0.0        0.0     0.0            0.0       0.0        0.0   \n",
       "3               0.0        0.0     0.0            0.0       0.0        0.0   \n",
       "4               0.0        0.0     0.0            0.0       0.0        0.0   \n",
       "..              ...        ...     ...            ...       ...        ...   \n",
       "295             0.0        0.0     0.0            0.0       0.0        0.0   \n",
       "296             0.0        0.0     0.0            0.0       0.0        0.0   \n",
       "297             0.0        0.0     0.0            0.0       0.0        0.0   \n",
       "298             0.0        0.0     0.0            0.0       0.0        0.0   \n",
       "299             0.0        0.0     0.0            0.0       0.0        0.0   \n",
       "\n",
       "     todo tiempo  todo sobre  \n",
       "0            0.0         0.0  \n",
       "1            0.0         0.0  \n",
       "2            0.0         0.0  \n",
       "3            0.0         0.0  \n",
       "4            0.0         0.0  \n",
       "..           ...         ...  \n",
       "295          0.0         0.0  \n",
       "296          0.0         0.0  \n",
       "297          0.0         0.0  \n",
       "298          0.0         0.0  \n",
       "299          0.0         0.0  \n",
       "\n",
       "[300 rows x 15000 columns])"
      ]
     },
     "execution_count": 107,
     "metadata": {},
     "output_type": "execute_result"
    }
   ],
   "source": [
    "vocab=ShapleyFiltering(classifier,train_word_features,word_vectorizer,15000)\n",
    "word_vectorizer = TfidfVectorizer(\n",
    "    sublinear_tf=True,\n",
    "    strip_accents='unicode',\n",
    "    analyzer='word',\n",
    "    ngram_range=(1, 3),\n",
    "    vocabulary= vocab)\n",
    "word_vectorizer.fit(sentences)"
   ]
  },
  {
   "cell_type": "code",
   "execution_count": null,
   "metadata": {
    "execution": {
     "iopub.execute_input": "2021-06-16T08:43:08.976468Z",
     "iopub.status.busy": "2021-06-16T08:43:08.976073Z",
     "iopub.status.idle": "2021-06-16T08:43:08.983072Z",
     "shell.execute_reply": "2021-06-16T08:43:08.981997Z",
     "shell.execute_reply.started": "2021-06-16T08:43:08.976435Z"
    }
   },
   "outputs": [],
   "source": [
    "'''# Extereme Gradient Boosting on Count Vectors\n",
    "classifier, accuracy, confusion_matrix = train_model(xgboost.XGBClassifier(colsample_bytree=0.8, colsample_bylevel=0.8, colsample_bynode=0.8), train_sn_features, y_train, test_sn_features, y_test)\n",
    "print(\"Xgb, Accuracy: \", accuracy)\n",
    "print(confusion_matrix)'''"
   ]
  },
  {
   "cell_type": "code",
   "execution_count": null,
   "metadata": {
    "execution": {
     "iopub.execute_input": "2021-06-16T08:43:09.327173Z",
     "iopub.status.busy": "2021-06-16T08:43:09.326782Z",
     "iopub.status.idle": "2021-06-16T08:43:09.333506Z",
     "shell.execute_reply": "2021-06-16T08:43:09.332338Z",
     "shell.execute_reply.started": "2021-06-16T08:43:09.327139Z"
    }
   },
   "outputs": [],
   "source": [
    "'''vocab=ShapleyFiltering(classifier,train_sn_features,sn_vectorizer,30000)'''"
   ]
  },
  {
   "cell_type": "code",
   "execution_count": null,
   "metadata": {
    "execution": {
     "iopub.execute_input": "2021-06-16T08:43:09.630347Z",
     "iopub.status.busy": "2021-06-16T08:43:09.629992Z",
     "iopub.status.idle": "2021-06-16T08:43:09.636189Z",
     "shell.execute_reply": "2021-06-16T08:43:09.635046Z",
     "shell.execute_reply.started": "2021-06-16T08:43:09.630312Z"
    }
   },
   "outputs": [],
   "source": [
    "'''sn_vectorizer = TfidfVectorizer(\n",
    "    sublinear_tf=True,\n",
    "    strip_accents='unicode',\n",
    "    analyzer=get_sngrams,\n",
    "    \n",
    "    vocabulary= vocab)\n",
    "sn_vectorizer.fit(sentences)'''"
   ]
  },
  {
   "cell_type": "code",
   "execution_count": null,
   "metadata": {},
   "outputs": [],
   "source": []
  },
  {
   "cell_type": "code",
   "execution_count": 108,
   "metadata": {
    "execution": {
     "iopub.execute_input": "2021-06-16T14:11:10.414091Z",
     "iopub.status.busy": "2021-06-16T14:11:10.413763Z",
     "iopub.status.idle": "2021-06-16T14:11:29.425590Z",
     "shell.execute_reply": "2021-06-16T14:11:29.424464Z",
     "shell.execute_reply.started": "2021-06-16T14:11:10.414063Z"
    }
   },
   "outputs": [],
   "source": [
    "train_word_features = word_vectorizer.transform(train_es.tweets)\n",
    "test_word_features = word_vectorizer.transform(test_es.tweets)\n",
    "\n",
    "train_char_features = char_vectorizer.transform(train_es.tweets)\n",
    "test_char_features = char_vectorizer.transform(test_es.tweets)\n",
    "\n",
    "\n",
    "'''\n",
    "train_sn_features = sn_vectorizer.transform(train_en.cleaned)\n",
    "test_sn_features = sn_vectorizer.transform(test_en.cleaned)'''\n",
    "\n",
    "\n",
    "x_train = hstack([train_char_features, train_word_features])#,train_sn_features])\n",
    "x_test = hstack([test_char_features, test_word_features])#,test_sn_features])\n",
    "\n",
    "\n",
    "y_train=train_en.label\n",
    "y_test=test_en.label"
   ]
  },
  {
   "cell_type": "code",
   "execution_count": 109,
   "metadata": {
    "execution": {
     "iopub.execute_input": "2021-06-16T14:11:29.427164Z",
     "iopub.status.busy": "2021-06-16T14:11:29.426831Z",
     "iopub.status.idle": "2021-06-16T14:11:29.434097Z",
     "shell.execute_reply": "2021-06-16T14:11:29.433067Z",
     "shell.execute_reply.started": "2021-06-16T14:11:29.427132Z"
    }
   },
   "outputs": [
    {
     "name": "stdout",
     "output_type": "stream",
     "text": [
      "Shape of Sparse Matrix:  (300, 30000)\n",
      "Amount of Non-Zero occurences:  1219117\n",
      "sparsity: 13.55%\n"
     ]
    }
   ],
   "source": [
    "print ('Shape of Sparse Matrix: ', x_train.shape)\n",
    "print ('Amount of Non-Zero occurences: ', x_train.nnz)\n",
    "print ('sparsity: %.2f%%' % (100.0 * x_train.nnz /\n",
    "                             (x_train.shape[0] * x_train.shape[1])))"
   ]
  },
  {
   "cell_type": "code",
   "execution_count": 110,
   "metadata": {
    "execution": {
     "iopub.execute_input": "2021-06-16T14:11:29.435706Z",
     "iopub.status.busy": "2021-06-16T14:11:29.435410Z",
     "iopub.status.idle": "2021-06-16T14:11:30.471884Z",
     "shell.execute_reply": "2021-06-16T14:11:30.470818Z",
     "shell.execute_reply.started": "2021-06-16T14:11:29.435675Z"
    }
   },
   "outputs": [
    {
     "name": "stdout",
     "output_type": "stream",
     "text": [
      "              precision    recall  f1-score   support\n",
      "\n",
      "           0     0.7589    0.8500    0.8019       100\n",
      "           1     0.8295    0.7300    0.7766       100\n",
      "\n",
      "    accuracy                         0.7900       200\n",
      "   macro avg     0.7942    0.7900    0.7892       200\n",
      "weighted avg     0.7942    0.7900    0.7892       200\n",
      "\n"
     ]
    }
   ],
   "source": [
    "from sklearn.ensemble import VotingClassifier\n",
    "from sklearn.linear_model import LogisticRegression\n",
    "from sklearn.svm import LinearSVC,SVC\n",
    "from sklearn.metrics import accuracy_score, confusion_matrix, classification_report, f1_score\n",
    "\n",
    "\n",
    "lr=LogisticRegression(C=20)\n",
    "lr.fit(x_train, y_train)\n",
    "y_pred = lr.predict(x_test) \n",
    "print(classification_report(y_test, y_pred,digits=4))"
   ]
  },
  {
   "cell_type": "code",
   "execution_count": 111,
   "metadata": {
    "execution": {
     "iopub.execute_input": "2021-06-16T14:11:30.473584Z",
     "iopub.status.busy": "2021-06-16T14:11:30.473291Z",
     "iopub.status.idle": "2021-06-16T14:11:51.925108Z",
     "shell.execute_reply": "2021-06-16T14:11:51.923920Z",
     "shell.execute_reply.started": "2021-06-16T14:11:30.473557Z"
    }
   },
   "outputs": [
    {
     "name": "stdout",
     "output_type": "stream",
     "text": [
      "              precision    recall  f1-score   support\n",
      "\n",
      "           0     0.7658    0.8500    0.8057       100\n",
      "           1     0.8315    0.7400    0.7831       100\n",
      "\n",
      "    accuracy                         0.7950       200\n",
      "   macro avg     0.7986    0.7950    0.7944       200\n",
      "weighted avg     0.7986    0.7950    0.7944       200\n",
      "\n"
     ]
    }
   ],
   "source": [
    "svm_clf=SVC(kernel='linear',probability=True)\n",
    "svm_clf.fit(x_train, y_train)\n",
    "y_pred = svm_clf.predict(x_test)\n",
    "print(classification_report(y_test, y_pred,digits=4))"
   ]
  },
  {
   "cell_type": "code",
   "execution_count": 112,
   "metadata": {
    "execution": {
     "iopub.execute_input": "2021-06-16T14:11:51.927629Z",
     "iopub.status.busy": "2021-06-16T14:11:51.927200Z",
     "iopub.status.idle": "2021-06-16T14:12:01.312134Z",
     "shell.execute_reply": "2021-06-16T14:12:01.310148Z",
     "shell.execute_reply.started": "2021-06-16T14:11:51.927585Z"
    }
   },
   "outputs": [
    {
     "name": "stdout",
     "output_type": "stream",
     "text": [
      "              precision    recall  f1-score   support\n",
      "\n",
      "           0     0.6897    0.8000    0.7407       100\n",
      "           1     0.7619    0.6400    0.6957       100\n",
      "\n",
      "    accuracy                         0.7200       200\n",
      "   macro avg     0.7258    0.7200    0.7182       200\n",
      "weighted avg     0.7258    0.7200    0.7182       200\n",
      "\n"
     ]
    }
   ],
   "source": [
    "#Import Random Forest Model\n",
    "from sklearn.ensemble import RandomForestClassifier\n",
    "\n",
    "#Create a Gaussian Classifier\n",
    "model=RandomForestClassifier(n_estimators=1000)\n",
    "model.fit(x_train, y_train)\n",
    "y_pred = model.predict(x_test)\n",
    "print(classification_report(y_test, y_pred,digits=4))"
   ]
  },
  {
   "cell_type": "code",
   "execution_count": 118,
   "metadata": {
    "execution": {
     "iopub.execute_input": "2021-06-16T14:16:58.200584Z",
     "iopub.status.busy": "2021-06-16T14:16:58.200028Z",
     "iopub.status.idle": "2021-06-16T14:18:07.814456Z",
     "shell.execute_reply": "2021-06-16T14:18:07.813282Z",
     "shell.execute_reply.started": "2021-06-16T14:16:58.200535Z"
    }
   },
   "outputs": [
    {
     "name": "stdout",
     "output_type": "stream",
     "text": [
      "              precision    recall  f1-score   support\n",
      "\n",
      "           0     0.7685    0.8300    0.7981       100\n",
      "           1     0.8152    0.7500    0.7813       100\n",
      "\n",
      "    accuracy                         0.7900       200\n",
      "   macro avg     0.7919    0.7900    0.7897       200\n",
      "weighted avg     0.7919    0.7900    0.7897       200\n",
      "\n"
     ]
    }
   ],
   "source": [
    "from sklearn.ensemble import VotingClassifier\n",
    "from sklearn.neural_network import MLPClassifier\n",
    "from sklearn.linear_model import LogisticRegression\n",
    "from sklearn.svm import LinearSVC,SVC\n",
    "from sklearn.metrics import accuracy_score, confusion_matrix, classification_report, f1_score\n",
    "from sklearn.multiclass import OneVsRestClassifier\n",
    "import xgboost as xgb\n",
    "from sklearn.linear_model import SGDClassifier\n",
    "\n",
    "\n",
    "\n",
    "#mnb=MultinomialNB()\n",
    "mlp=RandomForestClassifier(n_estimators=5000)\n",
    "xgb_clf=SVC(kernel='linear',probability=True)\n",
    "lr=LogisticRegression(C=20)\n",
    "estimators=[('lr', lr), ('mlp', mlp),('xgb', xgb_clf)]\n",
    "clf = VotingClassifier(estimators, voting='soft')\n",
    "ensemble =clf\n",
    "\n",
    "\n",
    "ensemble.fit(x_train, y_train)\n",
    "\n",
    "y_pred = ensemble.predict(x_test) \n",
    "print(classification_report(y_test, y_pred,digits=4))"
   ]
  },
  {
   "cell_type": "code",
   "execution_count": 119,
   "metadata": {
    "execution": {
     "iopub.execute_input": "2021-06-16T14:18:21.695809Z",
     "iopub.status.busy": "2021-06-16T14:18:21.695441Z",
     "iopub.status.idle": "2021-06-16T14:18:21.926592Z",
     "shell.execute_reply": "2021-06-16T14:18:21.925362Z",
     "shell.execute_reply.started": "2021-06-16T14:18:21.695777Z"
    }
   },
   "outputs": [
    {
     "data": {
      "image/png": "[encoded data removed]",
      "text/plain": [
       "<Figure size 432x288 with 2 Axes>"
      ]
     },
     "metadata": {},
     "output_type": "display_data"
    }
   ],
   "source": [
    "import seaborn as sn\n",
    "data = {'y_Actual':  y_test ,\n",
    "        'y_Predicted': y_pred\n",
    "        }\n",
    "\n",
    "df = pd.DataFrame(data, columns=['y_Actual','y_Predicted'])\n",
    "confusion_matrix = pd.crosstab(df['y_Actual'], df['y_Predicted'], rownames=['Actual'], colnames=['Predicted'])\n",
    "sns.set(font_scale=1.2)\n",
    "sn.heatmap(confusion_matrix/np.sum(confusion_matrix), annot=True,fmt='.2%', cmap='Blues')\n",
    "plt.show()"
   ]
  },
  {
   "cell_type": "code",
   "execution_count": 115,
   "metadata": {
    "execution": {
     "iopub.execute_input": "2021-06-16T14:12:30.333182Z",
     "iopub.status.busy": "2021-06-16T14:12:30.332612Z",
     "iopub.status.idle": "2021-06-16T14:12:36.875475Z",
     "shell.execute_reply": "2021-06-16T14:12:36.874555Z",
     "shell.execute_reply.started": "2021-06-16T14:12:30.333147Z"
    }
   },
   "outputs": [
    {
     "name": "stderr",
     "output_type": "stream",
     "text": [
      "The use of label encoder in XGBClassifier is deprecated and will be removed in a future release. To remove this warning, do the following: 1) Pass option use_label_encoder=False when constructing XGBClassifier object; and 2) Encode your labels (y) as integers starting with 0, i.e. 0, 1, 2, ..., [num_class - 1].\n"
     ]
    },
    {
     "name": "stdout",
     "output_type": "stream",
     "text": [
      "[14:12:30] WARNING: ../src/learner.cc:1095: Starting in XGBoost 1.3.0, the default evaluation metric used with the objective 'binary:logistic' was changed from 'error' to 'logloss'. Explicitly set eval_metric if you'd like to restore the old behavior.\n",
      "              precision    recall  f1-score   support\n",
      "\n",
      "           0     0.6694    0.8100    0.7330       100\n",
      "           1     0.7595    0.6000    0.6704       100\n",
      "\n",
      "    accuracy                         0.7050       200\n",
      "   macro avg     0.7145    0.7050    0.7017       200\n",
      "weighted avg     0.7145    0.7050    0.7017       200\n",
      "\n"
     ]
    }
   ],
   "source": [
    "\n",
    "model=xgboost.XGBClassifier()\n",
    "model.fit(x_train, y_train)\n",
    "y_pred = model.predict(x_test)\n",
    "print(classification_report(y_test, y_pred,digits=4))"
   ]
  },
  {
   "cell_type": "code",
   "execution_count": null,
   "metadata": {},
   "outputs": [],
   "source": []
  }
 ],
 "metadata": {
  "kernelspec": {
   "display_name": "Python 3",
   "language": "python",
   "name": "python3"
  },
  "language_info": {
   "codemirror_mode": {
    "name": "ipython",
    "version": 3
   },
   "file_extension": ".py",
   "mimetype": "text/x-python",
   "name": "python",
   "nbconvert_exporter": "python",
   "pygments_lexer": "ipython3",
   "version": "3.7.3"
  }
 },
 "nbformat": 4,
 "nbformat_minor": 4
}
